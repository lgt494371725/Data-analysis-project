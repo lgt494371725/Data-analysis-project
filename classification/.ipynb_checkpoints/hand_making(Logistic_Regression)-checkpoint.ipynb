{
 "cells": [
  {
   "cell_type": "code",
   "execution_count": 3,
   "metadata": {},
   "outputs": [],
   "source": [
    "import pandas as pd\n",
    "import numpy as np\n",
    "from matplotlib import pyplot as plt\n",
    "from sklearn.datasets import load_breast_cancer\n",
    "from sklearn.linear_model import LogisticRegression\n",
    "from sklearn.model_selection import train_test_split\n",
    "%matplotlib inline"
   ]
  },
  {
   "cell_type": "code",
   "execution_count": 7,
   "metadata": {
    "scrolled": false
   },
   "outputs": [
    {
     "name": "stderr",
     "output_type": "stream",
     "text": [
      "<ipython-input-7-e6368366f6ca>:12: RuntimeWarning: divide by zero encountered in log\n",
      "  cost = sum(-y*np.log(y_hat)-(1-y)*np.log(1-y_hat))/n_samples # y_hat是我们求出来的预测值\n"
     ]
    },
    {
     "name": "stdout",
     "output_type": "stream",
     "text": [
      "0.05322014508616222 0.992462311557789\n"
     ]
    },
    {
     "data": {
      "text/plain": [
       "0.9824561403508771"
      ]
     },
     "execution_count": 7,
     "metadata": {},
     "output_type": "execute_result"
    }
   ],
   "source": [
    "def sigmoid(z):\n",
    "    s = 1/(1+np.exp(-z))\n",
    "    return s\n",
    "\n",
    "def model(theta, X):\n",
    "    z = np.sum(theta.T * X, axis=1)\n",
    "    return sigmoid(z)\n",
    "\n",
    "def cost_function(theta, X, y):\n",
    "    y_hat = model(theta, X)\n",
    "    n_samples = y.shape[0]\n",
    "    cost = sum(-y*np.log(y_hat)-(1-y)*np.log(1-y_hat))/n_samples # y_hat是我们求出来的预测值\n",
    "    return cost\n",
    "\n",
    "def optimize(theta,X,y,reg):\n",
    "    n_samples = X.shape[0]  # n即样本数\n",
    "    n_paras = X.shape[1]\n",
    "    alpha = 1e-1\n",
    "    y_hat = model(theta,X)  # 即0-1的值,象征概率\n",
    "    y_diff = (y_hat-y).reshape(n_samples,1)\n",
    "    dtheta = (1.0/n_samples) * (y_diff*X)\n",
    "    dtheta = np.sum(dtheta, axis=0)\n",
    "    dtheta = dtheta.reshape((n_paras,1))\n",
    "    theta = theta - alpha * (dtheta+(reg/n_samples)*theta) # (1.0/n)*theta is the regularization term,lambda is 1.0\n",
    "    return theta\n",
    "\n",
    "def accuracy(theta, X, y):\n",
    "    y_hat=model(theta, X)\n",
    "    y_pre=(y_hat > 0.5).astype('int')\n",
    "    count_right=sum(y_pre == y)\n",
    "    return count_right*1.0/len(y)\n",
    "\n",
    "def add_ones(X):\n",
    "    ones=np.ones((X.shape[0],1))\n",
    "    X_with_ones=np.hstack((ones, X))\n",
    "    return X_with_ones   # 用于与theta_0作对应,左侧\n",
    "\n",
    "def iterate(theta,X,y,times,reg): # 初始参数以及循环次数\n",
    "    costs = []\n",
    "    accs = []\n",
    "    for i in range(times):\n",
    "        theta = optimize(theta,X,y,reg)\n",
    "        costs.append(cost_function(theta, X, y))\n",
    "        accs.append(accuracy(theta, X, y))\n",
    "    return theta, costs, accs\n",
    "\n",
    "dataset=load_breast_cancer()\n",
    "X=dataset.data\n",
    "y=dataset.target\n",
    "std = X.std(axis=0)\n",
    "mean = X.mean(axis=0)\n",
    "X_norm = (X-mean)/std\n",
    "X_with_ones = add_ones(X_norm)\n",
    "# 初始化参数\n",
    "theta = np.ones((X.shape[1]+1,1))\n",
    "X_train, X_test, y_train, y_test = train_test_split(X_with_ones, y, test_size = 0.3, random_state=12345)\n",
    "iter_times = 1500\n",
    "reg_term = 1.0\n",
    "theta, costs, accs = iterate(theta, X_train, y_train, iter_times,reg_term)\n",
    "print(costs[-1], accs[-1])   # 训练集的损失和精确度\n",
    "accuracy(theta, X_test, y_test)"
   ]
  },
  {
   "cell_type": "code",
   "execution_count": 5,
   "metadata": {},
   "outputs": [],
   "source": [
    "clf = LogisticRegression(C=1).fit(X_train,y_train)"
   ]
  },
  {
   "cell_type": "code",
   "execution_count": 6,
   "metadata": {},
   "outputs": [
    {
     "data": {
      "text/plain": [
       "0.9766081871345029"
      ]
     },
     "execution_count": 6,
     "metadata": {},
     "output_type": "execute_result"
    }
   ],
   "source": [
    "clf.score(X_test,y_test)"
   ]
  },
  {
   "cell_type": "code",
   "execution_count": null,
   "metadata": {},
   "outputs": [],
   "source": []
  }
 ],
 "metadata": {
  "kernelspec": {
   "display_name": "Python 3",
   "language": "python",
   "name": "python3"
  },
  "language_info": {
   "codemirror_mode": {
    "name": "ipython",
    "version": 3
   },
   "file_extension": ".py",
   "mimetype": "text/x-python",
   "name": "python",
   "nbconvert_exporter": "python",
   "pygments_lexer": "ipython3",
   "version": "3.8.3"
  }
 },
 "nbformat": 4,
 "nbformat_minor": 4
}
