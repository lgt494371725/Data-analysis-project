{
 "cells": [
  {
   "cell_type": "code",
   "execution_count": 1,
   "id": "34bf248d",
   "metadata": {},
   "outputs": [],
   "source": [
    "import pandas as pd, numpy as np\n",
    "import pathlib, codecs\n",
    "import matplotlib.pyplot as plt\n",
    "import seaborn as sns\n",
    "from datetime import datetime,timedelta,date\n",
    "from statsmodels.tsa.deterministic import CalendarFourier, DeterministicProcess\n",
    "from sklearn.preprocessing import MinMaxScaler\n",
    "import optuna\n",
    "plt.rcParams['font.sans-serif']='MS Mincho'\n",
    "%matplotlib inline"
   ]
  },
  {
   "cell_type": "code",
   "execution_count": 2,
   "id": "28e680c3",
   "metadata": {},
   "outputs": [],
   "source": [
    "data_n=pd.read_csv('processed_data.csv',\n",
    "                 index_col=0,\n",
    "                 parse_dates=[\"transaction_date\"])"
   ]
  },
  {
   "cell_type": "code",
   "execution_count": 3,
   "id": "71cd194c",
   "metadata": {},
   "outputs": [],
   "source": [
    "consumption_sum = data_n.groupby('transaction_date')['CASHING_SUM'].sum().reset_index()\n",
    "MAX = consumption_sum.CASHING_SUM.max()\n",
    "consumption_sum['dow'] = consumption_sum['transaction_date'].dt.dayofweek\n",
    "consumption_sum['woy'] = consumption_sum['transaction_date'].dt.isocalendar().week\n",
    "consumption_sum['day'] = consumption_sum['transaction_date'].dt.day\n",
    "consumption_sum['month'] = consumption_sum['transaction_date'].dt.month\n",
    "consumption_sum['year'] = consumption_sum['transaction_date'].dt.year\n",
    "consumption_sum['holiday'] = 0\n",
    "consumption_sum.loc[consumption_sum['dow'].isin([5, 6]), 'holiday'] = 1\n",
    "consumption_sum['is_year_start'] = consumption_sum['transaction_date'].dt.is_year_start*1\n",
    "consumption_sum['is_year_end'] = consumption_sum['transaction_date'].dt.is_year_end*1\n",
    "consumption_sum['is_quarter_start'] = consumption_sum['transaction_date'].dt.is_quarter_start*1\n",
    "consumption_sum['is_quarter_end'] = consumption_sum['transaction_date'].dt.is_quarter_end*1\n",
    "consumption_sum['is_month_start'] = consumption_sum['transaction_date'].dt.is_month_start*1\n",
    "consumption_sum['is_month_end'] = consumption_sum['transaction_date'].dt.is_month_end*1\n",
    "consumption_sum.set_index('transaction_date', inplace=True)\n",
    "# 删除一些时间特征，使得结果变得更差了"
   ]
  },
  {
   "cell_type": "code",
   "execution_count": 4,
   "id": "afe8ece4",
   "metadata": {},
   "outputs": [],
   "source": [
    "train_set = consumption_sum[:'2021-06-26']\n",
    "test_set = consumption_sum['2021-06-27':timedelta(90)+datetime(2021,6,26)]\n",
    "train_X, train_y = train_set.drop('CASHING_SUM',axis=1), train_set['CASHING_SUM']\n",
    "test_X, test_y = test_set.drop('CASHING_SUM',axis=1), test_set['CASHING_SUM']"
   ]
  },
  {
   "cell_type": "code",
   "execution_count": 5,
   "id": "a97f7e6a",
   "metadata": {},
   "outputs": [],
   "source": [
    "from xgboost import XGBRegressor as XGBR\n",
    "from sklearn.metrics import mean_absolute_percentage_error as MAPE"
   ]
  },
  {
   "cell_type": "code",
   "execution_count": 9,
   "id": "d4566860",
   "metadata": {},
   "outputs": [
    {
     "name": "stderr",
     "output_type": "stream",
     "text": [
      "\u001b[32m[I 2022-01-12 15:30:54,278]\u001b[0m A new study created in memory with name: no-name-bf26b887-cc39-4074-aa1e-4a1bf2dbdf64\u001b[0m\n",
      "\u001b[32m[I 2022-01-12 15:30:54,623]\u001b[0m Trial 0 finished with value: 0.3179823964402652 and parameters: {'lambda': 0.0011970723327863497, 'alpha': 3.4561138730386296, 'colsample_bytree': 0.7, 'subsample': 0.6, 'learning_rate': 0.016, 'n_estimators': 800, 'max_depth': 5, 'random_state': 24, 'min_child_weight': 259}. Best is trial 0 with value: 0.3179823964402652.\u001b[0m\n",
      "\u001b[32m[I 2022-01-12 15:30:54,728]\u001b[0m Trial 1 finished with value: 0.2538061700940315 and parameters: {'lambda': 6.134550933878562, 'alpha': 0.03497924992081729, 'colsample_bytree': 0.3, 'subsample': 0.6, 'learning_rate': 0.016, 'n_estimators': 200, 'max_depth': 5, 'random_state': 24, 'min_child_weight': 101}. Best is trial 1 with value: 0.2538061700940315.\u001b[0m\n",
      "\u001b[32m[I 2022-01-12 15:30:55,088]\u001b[0m Trial 2 finished with value: 0.2827967346901978 and parameters: {'lambda': 0.08995694402823336, 'alpha': 0.5075560787889011, 'colsample_bytree': 1.0, 'subsample': 0.7, 'learning_rate': 0.018, 'n_estimators': 800, 'max_depth': 5, 'random_state': 24, 'min_child_weight': 260}. Best is trial 1 with value: 0.2538061700940315.\u001b[0m\n",
      "\u001b[32m[I 2022-01-12 15:30:55,397]\u001b[0m Trial 3 finished with value: 0.23195384541696057 and parameters: {'lambda': 0.6961892303636761, 'alpha': 0.10658195017885101, 'colsample_bytree': 0.3, 'subsample': 1.0, 'learning_rate': 0.018, 'n_estimators': 800, 'max_depth': 17, 'random_state': 2020, 'min_child_weight': 222}. Best is trial 3 with value: 0.23195384541696057.\u001b[0m\n",
      "\u001b[32m[I 2022-01-12 15:30:55,743]\u001b[0m Trial 4 finished with value: 0.22942671774030998 and parameters: {'lambda': 0.7778420625131764, 'alpha': 1.9779512417340943, 'colsample_bytree': 0.8, 'subsample': 1.0, 'learning_rate': 0.014, 'n_estimators': 800, 'max_depth': 13, 'random_state': 24, 'min_child_weight': 224}. Best is trial 4 with value: 0.22942671774030998.\u001b[0m\n",
      "\u001b[32m[I 2022-01-12 15:30:56,374]\u001b[0m Trial 5 finished with value: 0.1862938368050159 and parameters: {'lambda': 0.0014310529851227299, 'alpha': 0.17926773896302728, 'colsample_bytree': 1.0, 'subsample': 1.0, 'learning_rate': 0.02, 'n_estimators': 800, 'max_depth': 17, 'random_state': 24, 'min_child_weight': 57}. Best is trial 5 with value: 0.1862938368050159.\u001b[0m\n",
      "\u001b[32m[I 2022-01-12 15:30:56,438]\u001b[0m Trial 6 finished with value: 0.31268701696521856 and parameters: {'lambda': 0.8090528329810047, 'alpha': 3.965535379378928, 'colsample_bytree': 0.8, 'subsample': 0.8, 'learning_rate': 0.009, 'n_estimators': 95, 'max_depth': 5, 'random_state': 2020, 'min_child_weight': 223}. Best is trial 5 with value: 0.1862938368050159.\u001b[0m\n",
      "\u001b[32m[I 2022-01-12 15:30:56,877]\u001b[0m Trial 7 finished with value: 0.2868706040094989 and parameters: {'lambda': 0.01103445361356799, 'alpha': 0.0024979498612594246, 'colsample_bytree': 0.6, 'subsample': 0.5, 'learning_rate': 0.012, 'n_estimators': 1000, 'max_depth': 11, 'random_state': 2020, 'min_child_weight': 185}. Best is trial 5 with value: 0.1862938368050159.\u001b[0m\n",
      "\u001b[32m[I 2022-01-12 15:30:57,224]\u001b[0m Trial 8 finished with value: 0.3863128768131224 and parameters: {'lambda': 7.728454994686171, 'alpha': 0.0018901902805526518, 'colsample_bytree': 0.3, 'subsample': 0.5, 'learning_rate': 0.008, 'n_estimators': 800, 'max_depth': 15, 'random_state': 2020, 'min_child_weight': 221}. Best is trial 5 with value: 0.1862938368050159.\u001b[0m\n",
      "\u001b[32m[I 2022-01-12 15:30:57,289]\u001b[0m Trial 9 finished with value: 0.3040931323606174 and parameters: {'lambda': 2.7759839521916936, 'alpha': 0.006347392425544362, 'colsample_bytree': 0.7, 'subsample': 0.5, 'learning_rate': 0.016, 'n_estimators': 90, 'max_depth': 15, 'random_state': 48, 'min_child_weight': 228}. Best is trial 5 with value: 0.1862938368050159.\u001b[0m\n",
      "\u001b[32m[I 2022-01-12 15:30:57,705]\u001b[0m Trial 10 finished with value: 0.1914350267644647 and parameters: {'lambda': 0.0011867534005768042, 'alpha': 0.1697302333395811, 'colsample_bytree': 1.0, 'subsample': 0.4, 'learning_rate': 0.02, 'n_estimators': 500, 'max_depth': 17, 'random_state': 48, 'min_child_weight': 28}. Best is trial 5 with value: 0.1862938368050159.\u001b[0m\n",
      "\u001b[32m[I 2022-01-12 15:30:58,196]\u001b[0m Trial 11 finished with value: 0.17328884258284055 and parameters: {'lambda': 0.0010717602900066172, 'alpha': 0.17344151174660052, 'colsample_bytree': 1.0, 'subsample': 0.4, 'learning_rate': 0.02, 'n_estimators': 500, 'max_depth': 17, 'random_state': 48, 'min_child_weight': 15}. Best is trial 11 with value: 0.17328884258284055.\u001b[0m\n",
      "\u001b[32m[I 2022-01-12 15:30:58,598]\u001b[0m Trial 12 finished with value: 0.16254714065122278 and parameters: {'lambda': 0.007454659435409081, 'alpha': 0.029641932598112278, 'colsample_bytree': 0.9, 'subsample': 0.4, 'learning_rate': 0.02, 'n_estimators': 400, 'max_depth': 7, 'random_state': 48, 'min_child_weight': 6}. Best is trial 12 with value: 0.16254714065122278.\u001b[0m\n",
      "\u001b[32m[I 2022-01-12 15:30:59,052]\u001b[0m Trial 13 finished with value: 0.15052626506709835 and parameters: {'lambda': 0.008843577288202694, 'alpha': 0.01850229171980794, 'colsample_bytree': 0.9, 'subsample': 0.4, 'learning_rate': 0.02, 'n_estimators': 400, 'max_depth': 7, 'random_state': 48, 'min_child_weight': 3}. Best is trial 13 with value: 0.15052626506709835.\u001b[0m\n",
      "\u001b[32m[I 2022-01-12 15:30:59,272]\u001b[0m Trial 14 finished with value: 0.25422316947113643 and parameters: {'lambda': 0.00993373683617124, 'alpha': 0.01640093016303068, 'colsample_bytree': 0.9, 'subsample': 0.4, 'learning_rate': 0.01, 'n_estimators': 400, 'max_depth': 7, 'random_state': 48, 'min_child_weight': 108}. Best is trial 13 with value: 0.15052626506709835.\u001b[0m\n",
      "\u001b[32m[I 2022-01-12 15:30:59,534]\u001b[0m Trial 15 finished with value: 0.22541895167353004 and parameters: {'lambda': 0.018504669273493795, 'alpha': 0.02045327193856596, 'colsample_bytree': 0.9, 'subsample': 0.4, 'learning_rate': 0.02, 'n_estimators': 400, 'max_depth': 7, 'random_state': 48, 'min_child_weight': 78}. Best is trial 13 with value: 0.15052626506709835.\u001b[0m\n",
      "\u001b[32m[I 2022-01-12 15:30:59,800]\u001b[0m Trial 16 finished with value: 0.31558954376147247 and parameters: {'lambda': 0.042817600488837905, 'alpha': 0.00811648185733919, 'colsample_bytree': 0.4, 'subsample': 0.4, 'learning_rate': 0.02, 'n_estimators': 400, 'max_depth': 7, 'random_state': 48, 'min_child_weight': 141}. Best is trial 13 with value: 0.15052626506709835.\u001b[0m\n",
      "\u001b[32m[I 2022-01-12 15:31:00,055]\u001b[0m Trial 17 finished with value: 0.19308992318186136 and parameters: {'lambda': 0.0043917829073900575, 'alpha': 0.05132504610437699, 'colsample_bytree': 0.9, 'subsample': 0.7, 'learning_rate': 0.014, 'n_estimators': 150, 'max_depth': 9, 'random_state': 48, 'min_child_weight': 10}. Best is trial 13 with value: 0.15052626506709835.\u001b[0m\n",
      "\u001b[32m[I 2022-01-12 15:31:00,287]\u001b[0m Trial 18 finished with value: 0.16573284921245832 and parameters: {'lambda': 0.00416935287936257, 'alpha': 0.48092390835527926, 'colsample_bytree': 0.5, 'subsample': 0.8, 'learning_rate': 0.008, 'n_estimators': 300, 'max_depth': 20, 'random_state': 48, 'min_child_weight': 50}. Best is trial 13 with value: 0.15052626506709835.\u001b[0m\n",
      "\u001b[32m[I 2022-01-12 15:31:00,360]\u001b[0m Trial 19 finished with value: 0.3211858914162177 and parameters: {'lambda': 0.18070109230033618, 'alpha': 0.0010218453997720188, 'colsample_bytree': 0.9, 'subsample': 0.4, 'learning_rate': 0.012, 'n_estimators': 100, 'max_depth': 7, 'random_state': 48, 'min_child_weight': 300}. Best is trial 13 with value: 0.15052626506709835.\u001b[0m\n",
      "\u001b[32m[I 2022-01-12 15:31:00,590]\u001b[0m Trial 20 finished with value: 0.3660585361389137 and parameters: {'lambda': 0.030755181693364032, 'alpha': 0.00699612143831478, 'colsample_bytree': 0.9, 'subsample': 0.4, 'learning_rate': 0.009, 'n_estimators': 400, 'max_depth': 7, 'random_state': 48, 'min_child_weight': 156}. Best is trial 13 with value: 0.15052626506709835.\u001b[0m\n",
      "\u001b[32m[I 2022-01-12 15:31:00,838]\u001b[0m Trial 21 finished with value: 0.1631114237161073 and parameters: {'lambda': 0.0039562864122824355, 'alpha': 0.6288530896521252, 'colsample_bytree': 0.5, 'subsample': 0.8, 'learning_rate': 0.008, 'n_estimators': 300, 'max_depth': 20, 'random_state': 48, 'min_child_weight': 41}. Best is trial 13 with value: 0.15052626506709835.\u001b[0m\n"
     ]
    },
    {
     "name": "stderr",
     "output_type": "stream",
     "text": [
      "\u001b[32m[I 2022-01-12 15:31:01,599]\u001b[0m Trial 22 finished with value: 0.17252373850261965 and parameters: {'lambda': 0.0038269741423901655, 'alpha': 0.6540229021806844, 'colsample_bytree': 0.5, 'subsample': 0.8, 'learning_rate': 0.008, 'n_estimators': 300, 'max_depth': 20, 'random_state': 48, 'min_child_weight': 3}. Best is trial 13 with value: 0.15052626506709835.\u001b[0m\n",
      "\u001b[32m[I 2022-01-12 15:31:01,841]\u001b[0m Trial 23 finished with value: 0.15679763004652392 and parameters: {'lambda': 0.008403258692739007, 'alpha': 0.05108210028446513, 'colsample_bytree': 0.5, 'subsample': 0.8, 'learning_rate': 0.01, 'n_estimators': 300, 'max_depth': 20, 'random_state': 48, 'min_child_weight': 42}. Best is trial 13 with value: 0.15052626506709835.\u001b[0m\n",
      "\u001b[32m[I 2022-01-12 15:31:02,107]\u001b[0m Trial 24 finished with value: 0.17150007391030705 and parameters: {'lambda': 0.07574746572319226, 'alpha': 0.05207134114076001, 'colsample_bytree': 0.4, 'subsample': 0.8, 'learning_rate': 0.01, 'n_estimators': 400, 'max_depth': 11, 'random_state': 48, 'min_child_weight': 75}. Best is trial 13 with value: 0.15052626506709835.\u001b[0m\n",
      "\u001b[32m[I 2022-01-12 15:31:02,281]\u001b[0m Trial 25 finished with value: 0.1834713225383581 and parameters: {'lambda': 0.00989458728265081, 'alpha': 0.018728827535052173, 'colsample_bytree': 0.6, 'subsample': 0.4, 'learning_rate': 0.01, 'n_estimators': 200, 'max_depth': 13, 'random_state': 48, 'min_child_weight': 25}. Best is trial 13 with value: 0.15052626506709835.\u001b[0m\n",
      "\u001b[32m[I 2022-01-12 15:31:02,369]\u001b[0m Trial 26 finished with value: 0.2880269551460296 and parameters: {'lambda': 0.024160470671164842, 'alpha': 0.08340513993778505, 'colsample_bytree': 0.5, 'subsample': 0.6, 'learning_rate': 0.01, 'n_estimators': 100, 'max_depth': 9, 'random_state': 48, 'min_child_weight': 73}. Best is trial 13 with value: 0.15052626506709835.\u001b[0m\n",
      "\u001b[32m[I 2022-01-12 15:31:09,863]\u001b[0m Trial 27 finished with value: 0.16429019843150455 and parameters: {'lambda': 0.007225546986785863, 'alpha': 0.011738403184153808, 'colsample_bytree': 0.9, 'subsample': 0.7, 'learning_rate': 0.02, 'n_estimators': 1000, 'max_depth': 20, 'random_state': 48, 'min_child_weight': 1}. Best is trial 13 with value: 0.15052626506709835.\u001b[0m\n",
      "\u001b[32m[I 2022-01-12 15:31:10,088]\u001b[0m Trial 28 finished with value: 0.18726605091318899 and parameters: {'lambda': 0.2122435389924671, 'alpha': 0.028040234328240512, 'colsample_bytree': 0.9, 'subsample': 0.8, 'learning_rate': 0.02, 'n_estimators': 150, 'max_depth': 7, 'random_state': 48, 'min_child_weight': 98}. Best is trial 13 with value: 0.15052626506709835.\u001b[0m\n",
      "\u001b[32m[I 2022-01-12 15:31:10,291]\u001b[0m Trial 29 finished with value: 0.38392984922181433 and parameters: {'lambda': 0.002433409444340118, 'alpha': 9.846675585888352, 'colsample_bytree': 0.7, 'subsample': 0.6, 'learning_rate': 0.01, 'n_estimators': 90, 'max_depth': 7, 'random_state': 2020, 'min_child_weight': 35}. Best is trial 13 with value: 0.15052626506709835.\u001b[0m\n",
      "\u001b[32m[I 2022-01-12 15:31:10,439]\u001b[0m Trial 30 finished with value: 0.2922488258957804 and parameters: {'lambda': 0.019222749670334258, 'alpha': 0.0041186348543585044, 'colsample_bytree': 0.5, 'subsample': 0.4, 'learning_rate': 0.02, 'n_estimators': 95, 'max_depth': 20, 'random_state': 24, 'min_child_weight': 131}. Best is trial 13 with value: 0.15052626506709835.\u001b[0m\n",
      "\u001b[32m[I 2022-01-12 15:31:10,900]\u001b[0m Trial 31 finished with value: 0.16507505909405346 and parameters: {'lambda': 0.0028714541571094815, 'alpha': 1.1336879084466818, 'colsample_bytree': 0.5, 'subsample': 0.8, 'learning_rate': 0.008, 'n_estimators': 300, 'max_depth': 20, 'random_state': 48, 'min_child_weight': 45}. Best is trial 13 with value: 0.15052626506709835.\u001b[0m\n",
      "\u001b[32m[I 2022-01-12 15:31:11,289]\u001b[0m Trial 32 finished with value: 0.16374063488029905 and parameters: {'lambda': 0.005636889027416646, 'alpha': 0.2788245226504394, 'colsample_bytree': 0.5, 'subsample': 0.8, 'learning_rate': 0.016, 'n_estimators': 300, 'max_depth': 20, 'random_state': 48, 'min_child_weight': 58}. Best is trial 13 with value: 0.15052626506709835.\u001b[0m\n",
      "\u001b[32m[I 2022-01-12 15:31:11,716]\u001b[0m Trial 33 finished with value: 0.16180766564522 and parameters: {'lambda': 0.0018126670340607276, 'alpha': 0.05794122237864305, 'colsample_bytree': 0.5, 'subsample': 0.8, 'learning_rate': 0.008, 'n_estimators': 300, 'max_depth': 20, 'random_state': 48, 'min_child_weight': 35}. Best is trial 13 with value: 0.15052626506709835.\u001b[0m\n",
      "\u001b[32m[I 2022-01-12 15:31:12,153]\u001b[0m Trial 34 finished with value: 0.1573416636135275 and parameters: {'lambda': 0.0022250303255636817, 'alpha': 0.044361056943228845, 'colsample_bytree': 0.9, 'subsample': 0.8, 'learning_rate': 0.018, 'n_estimators': 300, 'max_depth': 5, 'random_state': 48, 'min_child_weight': 22}. Best is trial 13 with value: 0.15052626506709835.\u001b[0m\n",
      "\u001b[32m[I 2022-01-12 15:31:12,504]\u001b[0m Trial 35 finished with value: 0.19438266792392594 and parameters: {'lambda': 0.001989932335540056, 'alpha': 0.0849072079181482, 'colsample_bytree': 0.8, 'subsample': 0.8, 'learning_rate': 0.018, 'n_estimators': 300, 'max_depth': 5, 'random_state': 24, 'min_child_weight': 95}. Best is trial 13 with value: 0.15052626506709835.\u001b[0m\n",
      "\u001b[32m[I 2022-01-12 15:31:12,901]\u001b[0m Trial 36 finished with value: 0.1515383032753296 and parameters: {'lambda': 0.001820944082649221, 'alpha': 0.04701385294064163, 'colsample_bytree': 0.5, 'subsample': 0.8, 'learning_rate': 0.018, 'n_estimators': 300, 'max_depth': 5, 'random_state': 48, 'min_child_weight': 24}. Best is trial 13 with value: 0.15052626506709835.\u001b[0m\n",
      "\u001b[32m[I 2022-01-12 15:31:13,212]\u001b[0m Trial 37 finished with value: 0.1654278300786372 and parameters: {'lambda': 0.052436996321704184, 'alpha': 0.039272067151332864, 'colsample_bytree': 0.3, 'subsample': 1.0, 'learning_rate': 0.018, 'n_estimators': 300, 'max_depth': 5, 'random_state': 24, 'min_child_weight': 22}. Best is trial 13 with value: 0.15052626506709835.\u001b[0m\n",
      "\u001b[32m[I 2022-01-12 15:31:13,450]\u001b[0m Trial 38 finished with value: 0.16928896493225667 and parameters: {'lambda': 0.013813622838782336, 'alpha': 0.1172367231043726, 'colsample_bytree': 0.6, 'subsample': 0.8, 'learning_rate': 0.018, 'n_estimators': 200, 'max_depth': 5, 'random_state': 2020, 'min_child_weight': 60}. Best is trial 13 with value: 0.15052626506709835.\u001b[0m\n",
      "\u001b[32m[I 2022-01-12 15:31:13,794]\u001b[0m Trial 39 finished with value: 0.15355816150951265 and parameters: {'lambda': 0.0024799081658933454, 'alpha': 0.01189713717636627, 'colsample_bytree': 0.4, 'subsample': 0.6, 'learning_rate': 0.018, 'n_estimators': 300, 'max_depth': 5, 'random_state': 48, 'min_child_weight': 22}. Best is trial 13 with value: 0.15052626506709835.\u001b[0m\n",
      "\u001b[32m[I 2022-01-12 15:31:13,923]\u001b[0m Trial 40 finished with value: 0.22770796046060376 and parameters: {'lambda': 0.001013947256178723, 'alpha': 0.0035302795414730746, 'colsample_bytree': 0.4, 'subsample': 0.6, 'learning_rate': 0.018, 'n_estimators': 95, 'max_depth': 5, 'random_state': 24, 'min_child_weight': 111}. Best is trial 13 with value: 0.15052626506709835.\u001b[0m\n",
      "\u001b[32m[I 2022-01-12 15:31:14,287]\u001b[0m Trial 41 finished with value: 0.15559057921580796 and parameters: {'lambda': 0.002214918979994666, 'alpha': 0.013527998536206069, 'colsample_bytree': 0.4, 'subsample': 0.6, 'learning_rate': 0.018, 'n_estimators': 300, 'max_depth': 5, 'random_state': 48, 'min_child_weight': 26}. Best is trial 13 with value: 0.15052626506709835.\u001b[0m\n",
      "\u001b[32m[I 2022-01-12 15:31:14,629]\u001b[0m Trial 42 finished with value: 0.17457571030793345 and parameters: {'lambda': 0.002745706863983527, 'alpha': 0.012054902530300376, 'colsample_bytree': 0.4, 'subsample': 0.6, 'learning_rate': 0.018, 'n_estimators': 300, 'max_depth': 5, 'random_state': 48, 'min_child_weight': 69}. Best is trial 13 with value: 0.15052626506709835.\u001b[0m\n",
      "\u001b[32m[I 2022-01-12 15:31:14,995]\u001b[0m Trial 43 finished with value: 0.16529975333952782 and parameters: {'lambda': 0.006177965240924001, 'alpha': 0.010362120821007502, 'colsample_bytree': 0.4, 'subsample': 0.6, 'learning_rate': 0.018, 'n_estimators': 300, 'max_depth': 5, 'random_state': 48, 'min_child_weight': 43}. Best is trial 13 with value: 0.15052626506709835.\u001b[0m\n",
      "\u001b[32m[I 2022-01-12 15:31:15,767]\u001b[0m Trial 44 finished with value: 0.16290698616166413 and parameters: {'lambda': 0.0015054278293549783, 'alpha': 0.02648869722278325, 'colsample_bytree': 0.4, 'subsample': 0.6, 'learning_rate': 0.018, 'n_estimators': 500, 'max_depth': 15, 'random_state': 2020, 'min_child_weight': 18}. Best is trial 13 with value: 0.15052626506709835.\u001b[0m\n"
     ]
    },
    {
     "name": "stderr",
     "output_type": "stream",
     "text": [
      "\u001b[32m[I 2022-01-12 15:31:16,124]\u001b[0m Trial 45 finished with value: 0.189107608545037 and parameters: {'lambda': 0.013507899739594688, 'alpha': 0.004591389605026994, 'colsample_bytree': 0.4, 'subsample': 0.6, 'learning_rate': 0.014, 'n_estimators': 300, 'max_depth': 13, 'random_state': 48, 'min_child_weight': 84}. Best is trial 13 with value: 0.15052626506709835.\u001b[0m\n",
      "\u001b[32m[I 2022-01-12 15:31:16,694]\u001b[0m Trial 46 finished with value: 0.19866297448145262 and parameters: {'lambda': 0.001634995383523078, 'alpha': 0.015327915901200861, 'colsample_bytree': 0.7, 'subsample': 0.5, 'learning_rate': 0.009, 'n_estimators': 800, 'max_depth': 5, 'random_state': 48, 'min_child_weight': 58}. Best is trial 13 with value: 0.15052626506709835.\u001b[0m\n",
      "\u001b[32m[I 2022-01-12 15:31:16,776]\u001b[0m Trial 47 finished with value: 0.25632629450010785 and parameters: {'lambda': 1.667609229787907, 'alpha': 0.023022075137539483, 'colsample_bytree': 0.8, 'subsample': 0.6, 'learning_rate': 0.012, 'n_estimators': 90, 'max_depth': 11, 'random_state': 48, 'min_child_weight': 168}. Best is trial 13 with value: 0.15052626506709835.\u001b[0m\n",
      "\u001b[32m[I 2022-01-12 15:31:17,044]\u001b[0m Trial 48 finished with value: 0.1731806841531713 and parameters: {'lambda': 0.007495820289286069, 'alpha': 0.005837018603089378, 'colsample_bytree': 1.0, 'subsample': 1.0, 'learning_rate': 0.018, 'n_estimators': 300, 'max_depth': 5, 'random_state': 48, 'min_child_weight': 29}. Best is trial 13 with value: 0.15052626506709835.\u001b[0m\n",
      "\u001b[32m[I 2022-01-12 15:31:17,607]\u001b[0m Trial 49 finished with value: 0.2531898032346088 and parameters: {'lambda': 0.003330687288334743, 'alpha': 0.12050249513913545, 'colsample_bytree': 0.3, 'subsample': 0.7, 'learning_rate': 0.016, 'n_estimators': 1000, 'max_depth': 17, 'random_state': 2020, 'min_child_weight': 196}. Best is trial 13 with value: 0.15052626506709835.\u001b[0m\n"
     ]
    },
    {
     "data": {
      "application/vnd.plotly.v1+json": {
       "config": {
        "plotlyServerURL": "https://plot.ly"
       },
       "data": [
        {
         "mode": "markers",
         "name": "Objective Value",
         "type": "scatter",
         "x": [
          0,
          1,
          2,
          3,
          4,
          5,
          6,
          7,
          8,
          9,
          10,
          11,
          12,
          13,
          14,
          15,
          16,
          17,
          18,
          19,
          20,
          21,
          22,
          23,
          24,
          25,
          26,
          27,
          28,
          29,
          30,
          31,
          32,
          33,
          34,
          35,
          36,
          37,
          38,
          39,
          40,
          41,
          42,
          43,
          44,
          45,
          46,
          47,
          48,
          49
         ],
         "y": [
          0.3179823964402652,
          0.2538061700940315,
          0.2827967346901978,
          0.23195384541696057,
          0.22942671774030998,
          0.1862938368050159,
          0.31268701696521856,
          0.2868706040094989,
          0.3863128768131224,
          0.3040931323606174,
          0.1914350267644647,
          0.17328884258284055,
          0.16254714065122278,
          0.15052626506709835,
          0.25422316947113643,
          0.22541895167353004,
          0.31558954376147247,
          0.19308992318186136,
          0.16573284921245832,
          0.3211858914162177,
          0.3660585361389137,
          0.1631114237161073,
          0.17252373850261965,
          0.15679763004652392,
          0.17150007391030705,
          0.1834713225383581,
          0.2880269551460296,
          0.16429019843150455,
          0.18726605091318899,
          0.38392984922181433,
          0.2922488258957804,
          0.16507505909405346,
          0.16374063488029905,
          0.16180766564522,
          0.1573416636135275,
          0.19438266792392594,
          0.1515383032753296,
          0.1654278300786372,
          0.16928896493225667,
          0.15355816150951265,
          0.22770796046060376,
          0.15559057921580796,
          0.17457571030793345,
          0.16529975333952782,
          0.16290698616166413,
          0.189107608545037,
          0.19866297448145262,
          0.25632629450010785,
          0.1731806841531713,
          0.2531898032346088
         ]
        },
        {
         "name": "Best Value",
         "type": "scatter",
         "x": [
          0,
          1,
          2,
          3,
          4,
          5,
          6,
          7,
          8,
          9,
          10,
          11,
          12,
          13,
          14,
          15,
          16,
          17,
          18,
          19,
          20,
          21,
          22,
          23,
          24,
          25,
          26,
          27,
          28,
          29,
          30,
          31,
          32,
          33,
          34,
          35,
          36,
          37,
          38,
          39,
          40,
          41,
          42,
          43,
          44,
          45,
          46,
          47,
          48,
          49
         ],
         "y": [
          0.3179823964402652,
          0.2538061700940315,
          0.2538061700940315,
          0.23195384541696057,
          0.22942671774030998,
          0.1862938368050159,
          0.1862938368050159,
          0.1862938368050159,
          0.1862938368050159,
          0.1862938368050159,
          0.1862938368050159,
          0.17328884258284055,
          0.16254714065122278,
          0.15052626506709835,
          0.15052626506709835,
          0.15052626506709835,
          0.15052626506709835,
          0.15052626506709835,
          0.15052626506709835,
          0.15052626506709835,
          0.15052626506709835,
          0.15052626506709835,
          0.15052626506709835,
          0.15052626506709835,
          0.15052626506709835,
          0.15052626506709835,
          0.15052626506709835,
          0.15052626506709835,
          0.15052626506709835,
          0.15052626506709835,
          0.15052626506709835,
          0.15052626506709835,
          0.15052626506709835,
          0.15052626506709835,
          0.15052626506709835,
          0.15052626506709835,
          0.15052626506709835,
          0.15052626506709835,
          0.15052626506709835,
          0.15052626506709835,
          0.15052626506709835,
          0.15052626506709835,
          0.15052626506709835,
          0.15052626506709835,
          0.15052626506709835,
          0.15052626506709835,
          0.15052626506709835,
          0.15052626506709835,
          0.15052626506709835,
          0.15052626506709835
         ]
        }
       ],
       "layout": {
        "template": {
         "data": {
          "bar": [
           {
            "error_x": {
             "color": "#2a3f5f"
            },
            "error_y": {
             "color": "#2a3f5f"
            },
            "marker": {
             "line": {
              "color": "#E5ECF6",
              "width": 0.5
             },
             "pattern": {
              "fillmode": "overlay",
              "size": 10,
              "solidity": 0.2
             }
            },
            "type": "bar"
           }
          ],
          "barpolar": [
           {
            "marker": {
             "line": {
              "color": "#E5ECF6",
              "width": 0.5
             },
             "pattern": {
              "fillmode": "overlay",
              "size": 10,
              "solidity": 0.2
             }
            },
            "type": "barpolar"
           }
          ],
          "carpet": [
           {
            "aaxis": {
             "endlinecolor": "#2a3f5f",
             "gridcolor": "white",
             "linecolor": "white",
             "minorgridcolor": "white",
             "startlinecolor": "#2a3f5f"
            },
            "baxis": {
             "endlinecolor": "#2a3f5f",
             "gridcolor": "white",
             "linecolor": "white",
             "minorgridcolor": "white",
             "startlinecolor": "#2a3f5f"
            },
            "type": "carpet"
           }
          ],
          "choropleth": [
           {
            "colorbar": {
             "outlinewidth": 0,
             "ticks": ""
            },
            "type": "choropleth"
           }
          ],
          "contour": [
           {
            "colorbar": {
             "outlinewidth": 0,
             "ticks": ""
            },
            "colorscale": [
             [
              0,
              "#0d0887"
             ],
             [
              0.1111111111111111,
              "#46039f"
             ],
             [
              0.2222222222222222,
              "#7201a8"
             ],
             [
              0.3333333333333333,
              "#9c179e"
             ],
             [
              0.4444444444444444,
              "#bd3786"
             ],
             [
              0.5555555555555556,
              "#d8576b"
             ],
             [
              0.6666666666666666,
              "#ed7953"
             ],
             [
              0.7777777777777778,
              "#fb9f3a"
             ],
             [
              0.8888888888888888,
              "#fdca26"
             ],
             [
              1,
              "#f0f921"
             ]
            ],
            "type": "contour"
           }
          ],
          "contourcarpet": [
           {
            "colorbar": {
             "outlinewidth": 0,
             "ticks": ""
            },
            "type": "contourcarpet"
           }
          ],
          "heatmap": [
           {
            "colorbar": {
             "outlinewidth": 0,
             "ticks": ""
            },
            "colorscale": [
             [
              0,
              "#0d0887"
             ],
             [
              0.1111111111111111,
              "#46039f"
             ],
             [
              0.2222222222222222,
              "#7201a8"
             ],
             [
              0.3333333333333333,
              "#9c179e"
             ],
             [
              0.4444444444444444,
              "#bd3786"
             ],
             [
              0.5555555555555556,
              "#d8576b"
             ],
             [
              0.6666666666666666,
              "#ed7953"
             ],
             [
              0.7777777777777778,
              "#fb9f3a"
             ],
             [
              0.8888888888888888,
              "#fdca26"
             ],
             [
              1,
              "#f0f921"
             ]
            ],
            "type": "heatmap"
           }
          ],
          "heatmapgl": [
           {
            "colorbar": {
             "outlinewidth": 0,
             "ticks": ""
            },
            "colorscale": [
             [
              0,
              "#0d0887"
             ],
             [
              0.1111111111111111,
              "#46039f"
             ],
             [
              0.2222222222222222,
              "#7201a8"
             ],
             [
              0.3333333333333333,
              "#9c179e"
             ],
             [
              0.4444444444444444,
              "#bd3786"
             ],
             [
              0.5555555555555556,
              "#d8576b"
             ],
             [
              0.6666666666666666,
              "#ed7953"
             ],
             [
              0.7777777777777778,
              "#fb9f3a"
             ],
             [
              0.8888888888888888,
              "#fdca26"
             ],
             [
              1,
              "#f0f921"
             ]
            ],
            "type": "heatmapgl"
           }
          ],
          "histogram": [
           {
            "marker": {
             "pattern": {
              "fillmode": "overlay",
              "size": 10,
              "solidity": 0.2
             }
            },
            "type": "histogram"
           }
          ],
          "histogram2d": [
           {
            "colorbar": {
             "outlinewidth": 0,
             "ticks": ""
            },
            "colorscale": [
             [
              0,
              "#0d0887"
             ],
             [
              0.1111111111111111,
              "#46039f"
             ],
             [
              0.2222222222222222,
              "#7201a8"
             ],
             [
              0.3333333333333333,
              "#9c179e"
             ],
             [
              0.4444444444444444,
              "#bd3786"
             ],
             [
              0.5555555555555556,
              "#d8576b"
             ],
             [
              0.6666666666666666,
              "#ed7953"
             ],
             [
              0.7777777777777778,
              "#fb9f3a"
             ],
             [
              0.8888888888888888,
              "#fdca26"
             ],
             [
              1,
              "#f0f921"
             ]
            ],
            "type": "histogram2d"
           }
          ],
          "histogram2dcontour": [
           {
            "colorbar": {
             "outlinewidth": 0,
             "ticks": ""
            },
            "colorscale": [
             [
              0,
              "#0d0887"
             ],
             [
              0.1111111111111111,
              "#46039f"
             ],
             [
              0.2222222222222222,
              "#7201a8"
             ],
             [
              0.3333333333333333,
              "#9c179e"
             ],
             [
              0.4444444444444444,
              "#bd3786"
             ],
             [
              0.5555555555555556,
              "#d8576b"
             ],
             [
              0.6666666666666666,
              "#ed7953"
             ],
             [
              0.7777777777777778,
              "#fb9f3a"
             ],
             [
              0.8888888888888888,
              "#fdca26"
             ],
             [
              1,
              "#f0f921"
             ]
            ],
            "type": "histogram2dcontour"
           }
          ],
          "mesh3d": [
           {
            "colorbar": {
             "outlinewidth": 0,
             "ticks": ""
            },
            "type": "mesh3d"
           }
          ],
          "parcoords": [
           {
            "line": {
             "colorbar": {
              "outlinewidth": 0,
              "ticks": ""
             }
            },
            "type": "parcoords"
           }
          ],
          "pie": [
           {
            "automargin": true,
            "type": "pie"
           }
          ],
          "scatter": [
           {
            "marker": {
             "colorbar": {
              "outlinewidth": 0,
              "ticks": ""
             }
            },
            "type": "scatter"
           }
          ],
          "scatter3d": [
           {
            "line": {
             "colorbar": {
              "outlinewidth": 0,
              "ticks": ""
             }
            },
            "marker": {
             "colorbar": {
              "outlinewidth": 0,
              "ticks": ""
             }
            },
            "type": "scatter3d"
           }
          ],
          "scattercarpet": [
           {
            "marker": {
             "colorbar": {
              "outlinewidth": 0,
              "ticks": ""
             }
            },
            "type": "scattercarpet"
           }
          ],
          "scattergeo": [
           {
            "marker": {
             "colorbar": {
              "outlinewidth": 0,
              "ticks": ""
             }
            },
            "type": "scattergeo"
           }
          ],
          "scattergl": [
           {
            "marker": {
             "colorbar": {
              "outlinewidth": 0,
              "ticks": ""
             }
            },
            "type": "scattergl"
           }
          ],
          "scattermapbox": [
           {
            "marker": {
             "colorbar": {
              "outlinewidth": 0,
              "ticks": ""
             }
            },
            "type": "scattermapbox"
           }
          ],
          "scatterpolar": [
           {
            "marker": {
             "colorbar": {
              "outlinewidth": 0,
              "ticks": ""
             }
            },
            "type": "scatterpolar"
           }
          ],
          "scatterpolargl": [
           {
            "marker": {
             "colorbar": {
              "outlinewidth": 0,
              "ticks": ""
             }
            },
            "type": "scatterpolargl"
           }
          ],
          "scatterternary": [
           {
            "marker": {
             "colorbar": {
              "outlinewidth": 0,
              "ticks": ""
             }
            },
            "type": "scatterternary"
           }
          ],
          "surface": [
           {
            "colorbar": {
             "outlinewidth": 0,
             "ticks": ""
            },
            "colorscale": [
             [
              0,
              "#0d0887"
             ],
             [
              0.1111111111111111,
              "#46039f"
             ],
             [
              0.2222222222222222,
              "#7201a8"
             ],
             [
              0.3333333333333333,
              "#9c179e"
             ],
             [
              0.4444444444444444,
              "#bd3786"
             ],
             [
              0.5555555555555556,
              "#d8576b"
             ],
             [
              0.6666666666666666,
              "#ed7953"
             ],
             [
              0.7777777777777778,
              "#fb9f3a"
             ],
             [
              0.8888888888888888,
              "#fdca26"
             ],
             [
              1,
              "#f0f921"
             ]
            ],
            "type": "surface"
           }
          ],
          "table": [
           {
            "cells": {
             "fill": {
              "color": "#EBF0F8"
             },
             "line": {
              "color": "white"
             }
            },
            "header": {
             "fill": {
              "color": "#C8D4E3"
             },
             "line": {
              "color": "white"
             }
            },
            "type": "table"
           }
          ]
         },
         "layout": {
          "annotationdefaults": {
           "arrowcolor": "#2a3f5f",
           "arrowhead": 0,
           "arrowwidth": 1
          },
          "autotypenumbers": "strict",
          "coloraxis": {
           "colorbar": {
            "outlinewidth": 0,
            "ticks": ""
           }
          },
          "colorscale": {
           "diverging": [
            [
             0,
             "#8e0152"
            ],
            [
             0.1,
             "#c51b7d"
            ],
            [
             0.2,
             "#de77ae"
            ],
            [
             0.3,
             "#f1b6da"
            ],
            [
             0.4,
             "#fde0ef"
            ],
            [
             0.5,
             "#f7f7f7"
            ],
            [
             0.6,
             "#e6f5d0"
            ],
            [
             0.7,
             "#b8e186"
            ],
            [
             0.8,
             "#7fbc41"
            ],
            [
             0.9,
             "#4d9221"
            ],
            [
             1,
             "#276419"
            ]
           ],
           "sequential": [
            [
             0,
             "#0d0887"
            ],
            [
             0.1111111111111111,
             "#46039f"
            ],
            [
             0.2222222222222222,
             "#7201a8"
            ],
            [
             0.3333333333333333,
             "#9c179e"
            ],
            [
             0.4444444444444444,
             "#bd3786"
            ],
            [
             0.5555555555555556,
             "#d8576b"
            ],
            [
             0.6666666666666666,
             "#ed7953"
            ],
            [
             0.7777777777777778,
             "#fb9f3a"
            ],
            [
             0.8888888888888888,
             "#fdca26"
            ],
            [
             1,
             "#f0f921"
            ]
           ],
           "sequentialminus": [
            [
             0,
             "#0d0887"
            ],
            [
             0.1111111111111111,
             "#46039f"
            ],
            [
             0.2222222222222222,
             "#7201a8"
            ],
            [
             0.3333333333333333,
             "#9c179e"
            ],
            [
             0.4444444444444444,
             "#bd3786"
            ],
            [
             0.5555555555555556,
             "#d8576b"
            ],
            [
             0.6666666666666666,
             "#ed7953"
            ],
            [
             0.7777777777777778,
             "#fb9f3a"
            ],
            [
             0.8888888888888888,
             "#fdca26"
            ],
            [
             1,
             "#f0f921"
            ]
           ]
          },
          "colorway": [
           "#636efa",
           "#EF553B",
           "#00cc96",
           "#ab63fa",
           "#FFA15A",
           "#19d3f3",
           "#FF6692",
           "#B6E880",
           "#FF97FF",
           "#FECB52"
          ],
          "font": {
           "color": "#2a3f5f"
          },
          "geo": {
           "bgcolor": "white",
           "lakecolor": "white",
           "landcolor": "#E5ECF6",
           "showlakes": true,
           "showland": true,
           "subunitcolor": "white"
          },
          "hoverlabel": {
           "align": "left"
          },
          "hovermode": "closest",
          "mapbox": {
           "style": "light"
          },
          "paper_bgcolor": "white",
          "plot_bgcolor": "#E5ECF6",
          "polar": {
           "angularaxis": {
            "gridcolor": "white",
            "linecolor": "white",
            "ticks": ""
           },
           "bgcolor": "#E5ECF6",
           "radialaxis": {
            "gridcolor": "white",
            "linecolor": "white",
            "ticks": ""
           }
          },
          "scene": {
           "xaxis": {
            "backgroundcolor": "#E5ECF6",
            "gridcolor": "white",
            "gridwidth": 2,
            "linecolor": "white",
            "showbackground": true,
            "ticks": "",
            "zerolinecolor": "white"
           },
           "yaxis": {
            "backgroundcolor": "#E5ECF6",
            "gridcolor": "white",
            "gridwidth": 2,
            "linecolor": "white",
            "showbackground": true,
            "ticks": "",
            "zerolinecolor": "white"
           },
           "zaxis": {
            "backgroundcolor": "#E5ECF6",
            "gridcolor": "white",
            "gridwidth": 2,
            "linecolor": "white",
            "showbackground": true,
            "ticks": "",
            "zerolinecolor": "white"
           }
          },
          "shapedefaults": {
           "line": {
            "color": "#2a3f5f"
           }
          },
          "ternary": {
           "aaxis": {
            "gridcolor": "white",
            "linecolor": "white",
            "ticks": ""
           },
           "baxis": {
            "gridcolor": "white",
            "linecolor": "white",
            "ticks": ""
           },
           "bgcolor": "#E5ECF6",
           "caxis": {
            "gridcolor": "white",
            "linecolor": "white",
            "ticks": ""
           }
          },
          "title": {
           "x": 0.05
          },
          "xaxis": {
           "automargin": true,
           "gridcolor": "white",
           "linecolor": "white",
           "ticks": "",
           "title": {
            "standoff": 15
           },
           "zerolinecolor": "white",
           "zerolinewidth": 2
          },
          "yaxis": {
           "automargin": true,
           "gridcolor": "white",
           "linecolor": "white",
           "ticks": "",
           "title": {
            "standoff": 15
           },
           "zerolinecolor": "white",
           "zerolinewidth": 2
          }
         }
        },
        "title": {
         "text": "Optimization History Plot"
        },
        "xaxis": {
         "title": {
          "text": "#Trials"
         }
        },
        "yaxis": {
         "title": {
          "text": "Objective Value"
         }
        }
       }
      },
      "text/html": [
       "<div>                            <div id=\"3ef53e60-910c-409f-af25-4edd9d62212d\" class=\"plotly-graph-div\" style=\"height:525px; width:100%;\"></div>            <script type=\"text/javascript\">                require([\"plotly\"], function(Plotly) {                    window.PLOTLYENV=window.PLOTLYENV || {};                                    if (document.getElementById(\"3ef53e60-910c-409f-af25-4edd9d62212d\")) {                    Plotly.newPlot(                        \"3ef53e60-910c-409f-af25-4edd9d62212d\",                        [{\"mode\":\"markers\",\"name\":\"Objective Value\",\"x\":[0,1,2,3,4,5,6,7,8,9,10,11,12,13,14,15,16,17,18,19,20,21,22,23,24,25,26,27,28,29,30,31,32,33,34,35,36,37,38,39,40,41,42,43,44,45,46,47,48,49],\"y\":[0.3179823964402652,0.2538061700940315,0.2827967346901978,0.23195384541696057,0.22942671774030998,0.1862938368050159,0.31268701696521856,0.2868706040094989,0.3863128768131224,0.3040931323606174,0.1914350267644647,0.17328884258284055,0.16254714065122278,0.15052626506709835,0.25422316947113643,0.22541895167353004,0.31558954376147247,0.19308992318186136,0.16573284921245832,0.3211858914162177,0.3660585361389137,0.1631114237161073,0.17252373850261965,0.15679763004652392,0.17150007391030705,0.1834713225383581,0.2880269551460296,0.16429019843150455,0.18726605091318899,0.38392984922181433,0.2922488258957804,0.16507505909405346,0.16374063488029905,0.16180766564522,0.1573416636135275,0.19438266792392594,0.1515383032753296,0.1654278300786372,0.16928896493225667,0.15355816150951265,0.22770796046060376,0.15559057921580796,0.17457571030793345,0.16529975333952782,0.16290698616166413,0.189107608545037,0.19866297448145262,0.25632629450010785,0.1731806841531713,0.2531898032346088],\"type\":\"scatter\"},{\"name\":\"Best Value\",\"x\":[0,1,2,3,4,5,6,7,8,9,10,11,12,13,14,15,16,17,18,19,20,21,22,23,24,25,26,27,28,29,30,31,32,33,34,35,36,37,38,39,40,41,42,43,44,45,46,47,48,49],\"y\":[0.3179823964402652,0.2538061700940315,0.2538061700940315,0.23195384541696057,0.22942671774030998,0.1862938368050159,0.1862938368050159,0.1862938368050159,0.1862938368050159,0.1862938368050159,0.1862938368050159,0.17328884258284055,0.16254714065122278,0.15052626506709835,0.15052626506709835,0.15052626506709835,0.15052626506709835,0.15052626506709835,0.15052626506709835,0.15052626506709835,0.15052626506709835,0.15052626506709835,0.15052626506709835,0.15052626506709835,0.15052626506709835,0.15052626506709835,0.15052626506709835,0.15052626506709835,0.15052626506709835,0.15052626506709835,0.15052626506709835,0.15052626506709835,0.15052626506709835,0.15052626506709835,0.15052626506709835,0.15052626506709835,0.15052626506709835,0.15052626506709835,0.15052626506709835,0.15052626506709835,0.15052626506709835,0.15052626506709835,0.15052626506709835,0.15052626506709835,0.15052626506709835,0.15052626506709835,0.15052626506709835,0.15052626506709835,0.15052626506709835,0.15052626506709835],\"type\":\"scatter\"}],                        {\"title\":{\"text\":\"Optimization History Plot\"},\"xaxis\":{\"title\":{\"text\":\"#Trials\"}},\"yaxis\":{\"title\":{\"text\":\"Objective Value\"}},\"template\":{\"data\":{\"bar\":[{\"error_x\":{\"color\":\"#2a3f5f\"},\"error_y\":{\"color\":\"#2a3f5f\"},\"marker\":{\"line\":{\"color\":\"#E5ECF6\",\"width\":0.5},\"pattern\":{\"fillmode\":\"overlay\",\"size\":10,\"solidity\":0.2}},\"type\":\"bar\"}],\"barpolar\":[{\"marker\":{\"line\":{\"color\":\"#E5ECF6\",\"width\":0.5},\"pattern\":{\"fillmode\":\"overlay\",\"size\":10,\"solidity\":0.2}},\"type\":\"barpolar\"}],\"carpet\":[{\"aaxis\":{\"endlinecolor\":\"#2a3f5f\",\"gridcolor\":\"white\",\"linecolor\":\"white\",\"minorgridcolor\":\"white\",\"startlinecolor\":\"#2a3f5f\"},\"baxis\":{\"endlinecolor\":\"#2a3f5f\",\"gridcolor\":\"white\",\"linecolor\":\"white\",\"minorgridcolor\":\"white\",\"startlinecolor\":\"#2a3f5f\"},\"type\":\"carpet\"}],\"choropleth\":[{\"colorbar\":{\"outlinewidth\":0,\"ticks\":\"\"},\"type\":\"choropleth\"}],\"contour\":[{\"colorbar\":{\"outlinewidth\":0,\"ticks\":\"\"},\"colorscale\":[[0.0,\"#0d0887\"],[0.1111111111111111,\"#46039f\"],[0.2222222222222222,\"#7201a8\"],[0.3333333333333333,\"#9c179e\"],[0.4444444444444444,\"#bd3786\"],[0.5555555555555556,\"#d8576b\"],[0.6666666666666666,\"#ed7953\"],[0.7777777777777778,\"#fb9f3a\"],[0.8888888888888888,\"#fdca26\"],[1.0,\"#f0f921\"]],\"type\":\"contour\"}],\"contourcarpet\":[{\"colorbar\":{\"outlinewidth\":0,\"ticks\":\"\"},\"type\":\"contourcarpet\"}],\"heatmap\":[{\"colorbar\":{\"outlinewidth\":0,\"ticks\":\"\"},\"colorscale\":[[0.0,\"#0d0887\"],[0.1111111111111111,\"#46039f\"],[0.2222222222222222,\"#7201a8\"],[0.3333333333333333,\"#9c179e\"],[0.4444444444444444,\"#bd3786\"],[0.5555555555555556,\"#d8576b\"],[0.6666666666666666,\"#ed7953\"],[0.7777777777777778,\"#fb9f3a\"],[0.8888888888888888,\"#fdca26\"],[1.0,\"#f0f921\"]],\"type\":\"heatmap\"}],\"heatmapgl\":[{\"colorbar\":{\"outlinewidth\":0,\"ticks\":\"\"},\"colorscale\":[[0.0,\"#0d0887\"],[0.1111111111111111,\"#46039f\"],[0.2222222222222222,\"#7201a8\"],[0.3333333333333333,\"#9c179e\"],[0.4444444444444444,\"#bd3786\"],[0.5555555555555556,\"#d8576b\"],[0.6666666666666666,\"#ed7953\"],[0.7777777777777778,\"#fb9f3a\"],[0.8888888888888888,\"#fdca26\"],[1.0,\"#f0f921\"]],\"type\":\"heatmapgl\"}],\"histogram\":[{\"marker\":{\"pattern\":{\"fillmode\":\"overlay\",\"size\":10,\"solidity\":0.2}},\"type\":\"histogram\"}],\"histogram2d\":[{\"colorbar\":{\"outlinewidth\":0,\"ticks\":\"\"},\"colorscale\":[[0.0,\"#0d0887\"],[0.1111111111111111,\"#46039f\"],[0.2222222222222222,\"#7201a8\"],[0.3333333333333333,\"#9c179e\"],[0.4444444444444444,\"#bd3786\"],[0.5555555555555556,\"#d8576b\"],[0.6666666666666666,\"#ed7953\"],[0.7777777777777778,\"#fb9f3a\"],[0.8888888888888888,\"#fdca26\"],[1.0,\"#f0f921\"]],\"type\":\"histogram2d\"}],\"histogram2dcontour\":[{\"colorbar\":{\"outlinewidth\":0,\"ticks\":\"\"},\"colorscale\":[[0.0,\"#0d0887\"],[0.1111111111111111,\"#46039f\"],[0.2222222222222222,\"#7201a8\"],[0.3333333333333333,\"#9c179e\"],[0.4444444444444444,\"#bd3786\"],[0.5555555555555556,\"#d8576b\"],[0.6666666666666666,\"#ed7953\"],[0.7777777777777778,\"#fb9f3a\"],[0.8888888888888888,\"#fdca26\"],[1.0,\"#f0f921\"]],\"type\":\"histogram2dcontour\"}],\"mesh3d\":[{\"colorbar\":{\"outlinewidth\":0,\"ticks\":\"\"},\"type\":\"mesh3d\"}],\"parcoords\":[{\"line\":{\"colorbar\":{\"outlinewidth\":0,\"ticks\":\"\"}},\"type\":\"parcoords\"}],\"pie\":[{\"automargin\":true,\"type\":\"pie\"}],\"scatter\":[{\"marker\":{\"colorbar\":{\"outlinewidth\":0,\"ticks\":\"\"}},\"type\":\"scatter\"}],\"scatter3d\":[{\"line\":{\"colorbar\":{\"outlinewidth\":0,\"ticks\":\"\"}},\"marker\":{\"colorbar\":{\"outlinewidth\":0,\"ticks\":\"\"}},\"type\":\"scatter3d\"}],\"scattercarpet\":[{\"marker\":{\"colorbar\":{\"outlinewidth\":0,\"ticks\":\"\"}},\"type\":\"scattercarpet\"}],\"scattergeo\":[{\"marker\":{\"colorbar\":{\"outlinewidth\":0,\"ticks\":\"\"}},\"type\":\"scattergeo\"}],\"scattergl\":[{\"marker\":{\"colorbar\":{\"outlinewidth\":0,\"ticks\":\"\"}},\"type\":\"scattergl\"}],\"scattermapbox\":[{\"marker\":{\"colorbar\":{\"outlinewidth\":0,\"ticks\":\"\"}},\"type\":\"scattermapbox\"}],\"scatterpolar\":[{\"marker\":{\"colorbar\":{\"outlinewidth\":0,\"ticks\":\"\"}},\"type\":\"scatterpolar\"}],\"scatterpolargl\":[{\"marker\":{\"colorbar\":{\"outlinewidth\":0,\"ticks\":\"\"}},\"type\":\"scatterpolargl\"}],\"scatterternary\":[{\"marker\":{\"colorbar\":{\"outlinewidth\":0,\"ticks\":\"\"}},\"type\":\"scatterternary\"}],\"surface\":[{\"colorbar\":{\"outlinewidth\":0,\"ticks\":\"\"},\"colorscale\":[[0.0,\"#0d0887\"],[0.1111111111111111,\"#46039f\"],[0.2222222222222222,\"#7201a8\"],[0.3333333333333333,\"#9c179e\"],[0.4444444444444444,\"#bd3786\"],[0.5555555555555556,\"#d8576b\"],[0.6666666666666666,\"#ed7953\"],[0.7777777777777778,\"#fb9f3a\"],[0.8888888888888888,\"#fdca26\"],[1.0,\"#f0f921\"]],\"type\":\"surface\"}],\"table\":[{\"cells\":{\"fill\":{\"color\":\"#EBF0F8\"},\"line\":{\"color\":\"white\"}},\"header\":{\"fill\":{\"color\":\"#C8D4E3\"},\"line\":{\"color\":\"white\"}},\"type\":\"table\"}]},\"layout\":{\"annotationdefaults\":{\"arrowcolor\":\"#2a3f5f\",\"arrowhead\":0,\"arrowwidth\":1},\"autotypenumbers\":\"strict\",\"coloraxis\":{\"colorbar\":{\"outlinewidth\":0,\"ticks\":\"\"}},\"colorscale\":{\"diverging\":[[0,\"#8e0152\"],[0.1,\"#c51b7d\"],[0.2,\"#de77ae\"],[0.3,\"#f1b6da\"],[0.4,\"#fde0ef\"],[0.5,\"#f7f7f7\"],[0.6,\"#e6f5d0\"],[0.7,\"#b8e186\"],[0.8,\"#7fbc41\"],[0.9,\"#4d9221\"],[1,\"#276419\"]],\"sequential\":[[0.0,\"#0d0887\"],[0.1111111111111111,\"#46039f\"],[0.2222222222222222,\"#7201a8\"],[0.3333333333333333,\"#9c179e\"],[0.4444444444444444,\"#bd3786\"],[0.5555555555555556,\"#d8576b\"],[0.6666666666666666,\"#ed7953\"],[0.7777777777777778,\"#fb9f3a\"],[0.8888888888888888,\"#fdca26\"],[1.0,\"#f0f921\"]],\"sequentialminus\":[[0.0,\"#0d0887\"],[0.1111111111111111,\"#46039f\"],[0.2222222222222222,\"#7201a8\"],[0.3333333333333333,\"#9c179e\"],[0.4444444444444444,\"#bd3786\"],[0.5555555555555556,\"#d8576b\"],[0.6666666666666666,\"#ed7953\"],[0.7777777777777778,\"#fb9f3a\"],[0.8888888888888888,\"#fdca26\"],[1.0,\"#f0f921\"]]},\"colorway\":[\"#636efa\",\"#EF553B\",\"#00cc96\",\"#ab63fa\",\"#FFA15A\",\"#19d3f3\",\"#FF6692\",\"#B6E880\",\"#FF97FF\",\"#FECB52\"],\"font\":{\"color\":\"#2a3f5f\"},\"geo\":{\"bgcolor\":\"white\",\"lakecolor\":\"white\",\"landcolor\":\"#E5ECF6\",\"showlakes\":true,\"showland\":true,\"subunitcolor\":\"white\"},\"hoverlabel\":{\"align\":\"left\"},\"hovermode\":\"closest\",\"mapbox\":{\"style\":\"light\"},\"paper_bgcolor\":\"white\",\"plot_bgcolor\":\"#E5ECF6\",\"polar\":{\"angularaxis\":{\"gridcolor\":\"white\",\"linecolor\":\"white\",\"ticks\":\"\"},\"bgcolor\":\"#E5ECF6\",\"radialaxis\":{\"gridcolor\":\"white\",\"linecolor\":\"white\",\"ticks\":\"\"}},\"scene\":{\"xaxis\":{\"backgroundcolor\":\"#E5ECF6\",\"gridcolor\":\"white\",\"gridwidth\":2,\"linecolor\":\"white\",\"showbackground\":true,\"ticks\":\"\",\"zerolinecolor\":\"white\"},\"yaxis\":{\"backgroundcolor\":\"#E5ECF6\",\"gridcolor\":\"white\",\"gridwidth\":2,\"linecolor\":\"white\",\"showbackground\":true,\"ticks\":\"\",\"zerolinecolor\":\"white\"},\"zaxis\":{\"backgroundcolor\":\"#E5ECF6\",\"gridcolor\":\"white\",\"gridwidth\":2,\"linecolor\":\"white\",\"showbackground\":true,\"ticks\":\"\",\"zerolinecolor\":\"white\"}},\"shapedefaults\":{\"line\":{\"color\":\"#2a3f5f\"}},\"ternary\":{\"aaxis\":{\"gridcolor\":\"white\",\"linecolor\":\"white\",\"ticks\":\"\"},\"baxis\":{\"gridcolor\":\"white\",\"linecolor\":\"white\",\"ticks\":\"\"},\"bgcolor\":\"#E5ECF6\",\"caxis\":{\"gridcolor\":\"white\",\"linecolor\":\"white\",\"ticks\":\"\"}},\"title\":{\"x\":0.05},\"xaxis\":{\"automargin\":true,\"gridcolor\":\"white\",\"linecolor\":\"white\",\"ticks\":\"\",\"title\":{\"standoff\":15},\"zerolinecolor\":\"white\",\"zerolinewidth\":2},\"yaxis\":{\"automargin\":true,\"gridcolor\":\"white\",\"linecolor\":\"white\",\"ticks\":\"\",\"title\":{\"standoff\":15},\"zerolinecolor\":\"white\",\"zerolinewidth\":2}}}},                        {\"responsive\": true}                    ).then(function(){\n",
       "                            \n",
       "var gd = document.getElementById('3ef53e60-910c-409f-af25-4edd9d62212d');\n",
       "var x = new MutationObserver(function (mutations, observer) {{\n",
       "        var display = window.getComputedStyle(gd).display;\n",
       "        if (!display || display === 'none') {{\n",
       "            console.log([gd, 'removed!']);\n",
       "            Plotly.purge(gd);\n",
       "            observer.disconnect();\n",
       "        }}\n",
       "}});\n",
       "\n",
       "// Listen for the removal of the full notebook cells\n",
       "var notebookContainer = gd.closest('#notebook-container');\n",
       "if (notebookContainer) {{\n",
       "    x.observe(notebookContainer, {childList: true});\n",
       "}}\n",
       "\n",
       "// Listen for the clearing of the current output cell\n",
       "var outputEl = gd.closest('.output');\n",
       "if (outputEl) {{\n",
       "    x.observe(outputEl, {childList: true});\n",
       "}}\n",
       "\n",
       "                        })                };                });            </script>        </div>"
      ]
     },
     "metadata": {},
     "output_type": "display_data"
    },
    {
     "data": {
      "application/vnd.plotly.v1+json": {
       "config": {
        "plotlyServerURL": "https://plot.ly"
       },
       "data": [
        {
         "dimensions": [
          {
           "label": "Objective Value",
           "range": [
            0.15052626506709835,
            0.3863128768131224
           ],
           "values": [
            0.3863128768131224,
            0.2538061700940315,
            0.2531898032346088,
            0.1654278300786372,
            0.23195384541696057,
            0.17150007391030705,
            0.189107608545037,
            0.22770796046060376,
            0.15355816150951265,
            0.15559057921580796,
            0.17457571030793345,
            0.16529975333952782,
            0.16290698616166413,
            0.31558954376147247,
            0.16573284921245832,
            0.1631114237161073,
            0.17252373850261965,
            0.16507505909405346,
            0.16180766564522,
            0.2880269551460296,
            0.15679763004652392,
            0.16374063488029905,
            0.1515383032753296,
            0.2922488258957804,
            0.1834713225383581,
            0.2868706040094989,
            0.16928896493225667,
            0.19866297448145262,
            0.38392984922181433,
            0.3179823964402652,
            0.3040931323606174,
            0.31268701696521856,
            0.25632629450010785,
            0.22942671774030998,
            0.19438266792392594,
            0.3660585361389137,
            0.25422316947113643,
            0.3211858914162177,
            0.19308992318186136,
            0.1573416636135275,
            0.18726605091318899,
            0.16254714065122278,
            0.15052626506709835,
            0.22541895167353004,
            0.16429019843150455,
            0.1731806841531713,
            0.2827967346901978,
            0.1914350267644647,
            0.17328884258284055,
            0.1862938368050159
           ]
          },
          {
           "label": "alpha",
           "range": [
            -2.990614805869396,
            0.9932896296449284
           ],
           "ticktext": [
            "0.00102",
            "0.01",
            "0.1",
            "1",
            "9.85"
           ],
           "tickvals": [
            -2.990614805869396,
            -2,
            -1,
            0,
            0.9932896296449284
           ],
           "values": [
            -2.7234944743270604,
            -1.4561895075715416,
            -0.9190039604423145,
            -1.4059162383071384,
            -0.9723163375369803,
            -1.2834012365641632,
            -2.3380558533602653,
            -2.4521909040987224,
            -1.9245575308834582,
            -1.8687664524030454,
            -1.9188362967526271,
            -1.9845513482010935,
            -1.5769394008144935,
            -2.0906321777831636,
            -0.31792363214085023,
            -0.20145080098632395,
            -0.18440704354645732,
            0.054493514615076906,
            -1.237012346779831,
            -1.0788071846400362,
            -1.291731254650564,
            -0.5546690326421162,
            -1.3277741554849827,
            -2.385246709564978,
            -1.727489409543881,
            -2.6024162830142825,
            -0.9309363290733983,
            -1.8145168910776783,
            0.9932896296449284,
            0.538588043302685,
            -2.197404650735984,
            0.5983018288828192,
            -1.6378555330014155,
            0.2962155816459813,
            -1.0710554401894603,
            -2.155142660666736,
            -1.785131520658641,
            -2.990614805869396,
            -1.2896706518381786,
            -1.3529981149317236,
            -1.5522183613531473,
            -1.528093484588311,
            -1.732774475941546,
            -1.689237207402371,
            -1.9303909776605757,
            -2.2338089225530937,
            -0.29451596649243994,
            -0.7702407917243475,
            -0.7608469497384244,
            -0.7464978590767106
           ]
          },
          {
           "label": "colsample_bytree",
           "range": [
            0,
            7
           ],
           "ticktext": [
            0.3,
            0.4,
            0.5,
            0.6,
            0.7,
            0.8,
            0.9,
            1
           ],
           "tickvals": [
            0,
            1,
            2,
            3,
            4,
            5,
            6,
            7
           ],
           "values": [
            0,
            0,
            0,
            0,
            0,
            1,
            1,
            1,
            1,
            1,
            1,
            1,
            1,
            1,
            2,
            2,
            2,
            2,
            2,
            2,
            2,
            2,
            2,
            2,
            3,
            3,
            3,
            4,
            4,
            4,
            4,
            5,
            5,
            5,
            5,
            6,
            6,
            6,
            6,
            6,
            6,
            6,
            6,
            6,
            6,
            7,
            7,
            7,
            7,
            7
           ]
          },
          {
           "label": "lambda",
           "range": [
            -2.993984635679507,
            0.8880926822305111
           ],
           "ticktext": [
            "0.00101",
            "0.01",
            "0.1",
            "1",
            "7.73"
           ],
           "tickvals": [
            -2.993984635679507,
            -2,
            -1,
            0,
            0.8880926822305111
           ],
           "values": [
            0.8880926822305111,
            0.787782776667484,
            -2.4774661404477802,
            -1.280362193379169,
            -0.1572726992789699,
            -1.120631892737799,
            -1.8694121715117797,
            -2.993984635679507,
            -2.6055644013448407,
            -2.654642155303115,
            -2.5613458305915895,
            -2.2091545394980465,
            -2.8223400598550943,
            -1.368377674352558,
            -2.379931346160741,
            -2.402712275524999,
            -2.417144472151044,
            -2.5418981128577625,
            -2.741681963444718,
            -1.616894609459076,
            -2.0755522665769974,
            -2.248960514985558,
            -2.7397033902675436,
            -1.7161844896518204,
            -2.004602316122111,
            -1.9572491666697254,
            -1.8596924059577673,
            -2.7864834692503515,
            -2.6137848107334585,
            -2.921879606668886,
            0.44341695115791124,
            -0.09202311704914429,
            0.22209429016909804,
            -0.1091085756865761,
            -2.70116169082707,
            -1.5120817029373457,
            -2.002887349486008,
            -0.7430392222117587,
            -2.357359135874171,
            -2.6526640655211544,
            -0.673165521449747,
            -2.1275721924123316,
            -2.053372024323583,
            -1.7327186724699881,
            -2.1411292704605573,
            -2.1251808341142717,
            -1.0459653066181105,
            -2.925639515160792,
            -2.969902338121375,
            -2.8443442860722135
           ]
          },
          {
           "label": "learning_rate",
           "range": [
            0,
            7
           ],
           "ticktext": [
            0.008,
            0.009,
            0.01,
            0.012,
            0.014,
            0.016,
            0.018,
            0.02
           ],
           "tickvals": [
            0,
            1,
            2,
            3,
            4,
            5,
            6,
            7
           ],
           "values": [
            0,
            5,
            5,
            6,
            6,
            2,
            4,
            6,
            6,
            6,
            6,
            6,
            6,
            7,
            0,
            0,
            0,
            0,
            0,
            2,
            2,
            5,
            6,
            7,
            2,
            3,
            6,
            1,
            2,
            5,
            5,
            1,
            3,
            4,
            6,
            1,
            2,
            3,
            4,
            6,
            7,
            7,
            7,
            7,
            7,
            6,
            6,
            7,
            7,
            7
           ]
          },
          {
           "label": "max_depth",
           "range": [
            0,
            7
           ],
           "ticktext": [
            5,
            7,
            9,
            11,
            13,
            15,
            17,
            20
           ],
           "tickvals": [
            0,
            1,
            2,
            3,
            4,
            5,
            6,
            7
           ],
           "values": [
            5,
            0,
            6,
            0,
            6,
            3,
            4,
            0,
            0,
            0,
            0,
            0,
            5,
            1,
            7,
            7,
            7,
            7,
            7,
            2,
            7,
            7,
            0,
            7,
            4,
            3,
            0,
            0,
            1,
            0,
            5,
            0,
            3,
            4,
            0,
            1,
            1,
            1,
            2,
            0,
            1,
            1,
            1,
            1,
            7,
            0,
            0,
            6,
            6,
            6
           ]
          },
          {
           "label": "min_child_weight",
           "range": [
            1,
            300
           ],
           "values": [
            221,
            101,
            196,
            22,
            222,
            75,
            84,
            111,
            22,
            26,
            69,
            43,
            18,
            141,
            50,
            41,
            3,
            45,
            35,
            73,
            42,
            58,
            24,
            131,
            25,
            185,
            60,
            58,
            35,
            259,
            228,
            223,
            168,
            224,
            95,
            156,
            108,
            300,
            10,
            22,
            98,
            6,
            3,
            78,
            1,
            29,
            260,
            28,
            15,
            57
           ]
          },
          {
           "label": "n_estimators",
           "range": [
            0,
            9
           ],
           "ticktext": [
            90,
            95,
            100,
            150,
            200,
            300,
            400,
            500,
            800,
            1000
           ],
           "tickvals": [
            0,
            1,
            2,
            3,
            4,
            5,
            6,
            7,
            8,
            9
           ],
           "values": [
            8,
            4,
            9,
            5,
            8,
            6,
            5,
            1,
            5,
            5,
            5,
            5,
            7,
            6,
            5,
            5,
            5,
            5,
            5,
            2,
            5,
            5,
            5,
            1,
            4,
            9,
            4,
            8,
            0,
            8,
            0,
            1,
            0,
            8,
            5,
            6,
            6,
            2,
            3,
            5,
            3,
            6,
            6,
            6,
            9,
            5,
            8,
            7,
            7,
            8
           ]
          },
          {
           "label": "random_state",
           "range": [
            0,
            2
           ],
           "ticktext": [
            24,
            48,
            2020
           ],
           "tickvals": [
            0,
            1,
            2
           ],
           "values": [
            2,
            0,
            2,
            0,
            2,
            1,
            1,
            0,
            1,
            1,
            1,
            1,
            2,
            1,
            1,
            1,
            1,
            1,
            1,
            1,
            1,
            1,
            1,
            0,
            1,
            2,
            2,
            1,
            2,
            0,
            1,
            2,
            1,
            0,
            0,
            1,
            1,
            1,
            1,
            1,
            1,
            1,
            1,
            1,
            1,
            1,
            0,
            1,
            1,
            0
           ]
          },
          {
           "label": "subsample",
           "range": [
            0,
            5
           ],
           "ticktext": [
            0.4,
            0.5,
            0.6,
            0.7,
            0.8,
            1
           ],
           "tickvals": [
            0,
            1,
            2,
            3,
            4,
            5
           ],
           "values": [
            1,
            2,
            3,
            5,
            5,
            4,
            2,
            2,
            2,
            2,
            2,
            2,
            2,
            0,
            4,
            4,
            4,
            4,
            4,
            2,
            4,
            4,
            4,
            0,
            0,
            1,
            4,
            1,
            2,
            2,
            1,
            4,
            2,
            5,
            4,
            0,
            0,
            0,
            3,
            4,
            4,
            0,
            0,
            0,
            3,
            5,
            3,
            0,
            0,
            5
           ]
          }
         ],
         "labelangle": 30,
         "labelside": "bottom",
         "line": {
          "color": [
           0.3863128768131224,
           0.2538061700940315,
           0.2531898032346088,
           0.1654278300786372,
           0.23195384541696057,
           0.17150007391030705,
           0.189107608545037,
           0.22770796046060376,
           0.15355816150951265,
           0.15559057921580796,
           0.17457571030793345,
           0.16529975333952782,
           0.16290698616166413,
           0.31558954376147247,
           0.16573284921245832,
           0.1631114237161073,
           0.17252373850261965,
           0.16507505909405346,
           0.16180766564522,
           0.2880269551460296,
           0.15679763004652392,
           0.16374063488029905,
           0.1515383032753296,
           0.2922488258957804,
           0.1834713225383581,
           0.2868706040094989,
           0.16928896493225667,
           0.19866297448145262,
           0.38392984922181433,
           0.3179823964402652,
           0.3040931323606174,
           0.31268701696521856,
           0.25632629450010785,
           0.22942671774030998,
           0.19438266792392594,
           0.3660585361389137,
           0.25422316947113643,
           0.3211858914162177,
           0.19308992318186136,
           0.1573416636135275,
           0.18726605091318899,
           0.16254714065122278,
           0.15052626506709835,
           0.22541895167353004,
           0.16429019843150455,
           0.1731806841531713,
           0.2827967346901978,
           0.1914350267644647,
           0.17328884258284055,
           0.1862938368050159
          ],
          "colorbar": {
           "title": {
            "text": "Objective Value"
           }
          },
          "colorscale": [
           [
            0,
            "rgb(247,251,255)"
           ],
           [
            0.125,
            "rgb(222,235,247)"
           ],
           [
            0.25,
            "rgb(198,219,239)"
           ],
           [
            0.375,
            "rgb(158,202,225)"
           ],
           [
            0.5,
            "rgb(107,174,214)"
           ],
           [
            0.625,
            "rgb(66,146,198)"
           ],
           [
            0.75,
            "rgb(33,113,181)"
           ],
           [
            0.875,
            "rgb(8,81,156)"
           ],
           [
            1,
            "rgb(8,48,107)"
           ]
          ],
          "reversescale": true,
          "showscale": true
         },
         "type": "parcoords"
        }
       ],
       "layout": {
        "template": {
         "data": {
          "bar": [
           {
            "error_x": {
             "color": "#2a3f5f"
            },
            "error_y": {
             "color": "#2a3f5f"
            },
            "marker": {
             "line": {
              "color": "#E5ECF6",
              "width": 0.5
             },
             "pattern": {
              "fillmode": "overlay",
              "size": 10,
              "solidity": 0.2
             }
            },
            "type": "bar"
           }
          ],
          "barpolar": [
           {
            "marker": {
             "line": {
              "color": "#E5ECF6",
              "width": 0.5
             },
             "pattern": {
              "fillmode": "overlay",
              "size": 10,
              "solidity": 0.2
             }
            },
            "type": "barpolar"
           }
          ],
          "carpet": [
           {
            "aaxis": {
             "endlinecolor": "#2a3f5f",
             "gridcolor": "white",
             "linecolor": "white",
             "minorgridcolor": "white",
             "startlinecolor": "#2a3f5f"
            },
            "baxis": {
             "endlinecolor": "#2a3f5f",
             "gridcolor": "white",
             "linecolor": "white",
             "minorgridcolor": "white",
             "startlinecolor": "#2a3f5f"
            },
            "type": "carpet"
           }
          ],
          "choropleth": [
           {
            "colorbar": {
             "outlinewidth": 0,
             "ticks": ""
            },
            "type": "choropleth"
           }
          ],
          "contour": [
           {
            "colorbar": {
             "outlinewidth": 0,
             "ticks": ""
            },
            "colorscale": [
             [
              0,
              "#0d0887"
             ],
             [
              0.1111111111111111,
              "#46039f"
             ],
             [
              0.2222222222222222,
              "#7201a8"
             ],
             [
              0.3333333333333333,
              "#9c179e"
             ],
             [
              0.4444444444444444,
              "#bd3786"
             ],
             [
              0.5555555555555556,
              "#d8576b"
             ],
             [
              0.6666666666666666,
              "#ed7953"
             ],
             [
              0.7777777777777778,
              "#fb9f3a"
             ],
             [
              0.8888888888888888,
              "#fdca26"
             ],
             [
              1,
              "#f0f921"
             ]
            ],
            "type": "contour"
           }
          ],
          "contourcarpet": [
           {
            "colorbar": {
             "outlinewidth": 0,
             "ticks": ""
            },
            "type": "contourcarpet"
           }
          ],
          "heatmap": [
           {
            "colorbar": {
             "outlinewidth": 0,
             "ticks": ""
            },
            "colorscale": [
             [
              0,
              "#0d0887"
             ],
             [
              0.1111111111111111,
              "#46039f"
             ],
             [
              0.2222222222222222,
              "#7201a8"
             ],
             [
              0.3333333333333333,
              "#9c179e"
             ],
             [
              0.4444444444444444,
              "#bd3786"
             ],
             [
              0.5555555555555556,
              "#d8576b"
             ],
             [
              0.6666666666666666,
              "#ed7953"
             ],
             [
              0.7777777777777778,
              "#fb9f3a"
             ],
             [
              0.8888888888888888,
              "#fdca26"
             ],
             [
              1,
              "#f0f921"
             ]
            ],
            "type": "heatmap"
           }
          ],
          "heatmapgl": [
           {
            "colorbar": {
             "outlinewidth": 0,
             "ticks": ""
            },
            "colorscale": [
             [
              0,
              "#0d0887"
             ],
             [
              0.1111111111111111,
              "#46039f"
             ],
             [
              0.2222222222222222,
              "#7201a8"
             ],
             [
              0.3333333333333333,
              "#9c179e"
             ],
             [
              0.4444444444444444,
              "#bd3786"
             ],
             [
              0.5555555555555556,
              "#d8576b"
             ],
             [
              0.6666666666666666,
              "#ed7953"
             ],
             [
              0.7777777777777778,
              "#fb9f3a"
             ],
             [
              0.8888888888888888,
              "#fdca26"
             ],
             [
              1,
              "#f0f921"
             ]
            ],
            "type": "heatmapgl"
           }
          ],
          "histogram": [
           {
            "marker": {
             "pattern": {
              "fillmode": "overlay",
              "size": 10,
              "solidity": 0.2
             }
            },
            "type": "histogram"
           }
          ],
          "histogram2d": [
           {
            "colorbar": {
             "outlinewidth": 0,
             "ticks": ""
            },
            "colorscale": [
             [
              0,
              "#0d0887"
             ],
             [
              0.1111111111111111,
              "#46039f"
             ],
             [
              0.2222222222222222,
              "#7201a8"
             ],
             [
              0.3333333333333333,
              "#9c179e"
             ],
             [
              0.4444444444444444,
              "#bd3786"
             ],
             [
              0.5555555555555556,
              "#d8576b"
             ],
             [
              0.6666666666666666,
              "#ed7953"
             ],
             [
              0.7777777777777778,
              "#fb9f3a"
             ],
             [
              0.8888888888888888,
              "#fdca26"
             ],
             [
              1,
              "#f0f921"
             ]
            ],
            "type": "histogram2d"
           }
          ],
          "histogram2dcontour": [
           {
            "colorbar": {
             "outlinewidth": 0,
             "ticks": ""
            },
            "colorscale": [
             [
              0,
              "#0d0887"
             ],
             [
              0.1111111111111111,
              "#46039f"
             ],
             [
              0.2222222222222222,
              "#7201a8"
             ],
             [
              0.3333333333333333,
              "#9c179e"
             ],
             [
              0.4444444444444444,
              "#bd3786"
             ],
             [
              0.5555555555555556,
              "#d8576b"
             ],
             [
              0.6666666666666666,
              "#ed7953"
             ],
             [
              0.7777777777777778,
              "#fb9f3a"
             ],
             [
              0.8888888888888888,
              "#fdca26"
             ],
             [
              1,
              "#f0f921"
             ]
            ],
            "type": "histogram2dcontour"
           }
          ],
          "mesh3d": [
           {
            "colorbar": {
             "outlinewidth": 0,
             "ticks": ""
            },
            "type": "mesh3d"
           }
          ],
          "parcoords": [
           {
            "line": {
             "colorbar": {
              "outlinewidth": 0,
              "ticks": ""
             }
            },
            "type": "parcoords"
           }
          ],
          "pie": [
           {
            "automargin": true,
            "type": "pie"
           }
          ],
          "scatter": [
           {
            "marker": {
             "colorbar": {
              "outlinewidth": 0,
              "ticks": ""
             }
            },
            "type": "scatter"
           }
          ],
          "scatter3d": [
           {
            "line": {
             "colorbar": {
              "outlinewidth": 0,
              "ticks": ""
             }
            },
            "marker": {
             "colorbar": {
              "outlinewidth": 0,
              "ticks": ""
             }
            },
            "type": "scatter3d"
           }
          ],
          "scattercarpet": [
           {
            "marker": {
             "colorbar": {
              "outlinewidth": 0,
              "ticks": ""
             }
            },
            "type": "scattercarpet"
           }
          ],
          "scattergeo": [
           {
            "marker": {
             "colorbar": {
              "outlinewidth": 0,
              "ticks": ""
             }
            },
            "type": "scattergeo"
           }
          ],
          "scattergl": [
           {
            "marker": {
             "colorbar": {
              "outlinewidth": 0,
              "ticks": ""
             }
            },
            "type": "scattergl"
           }
          ],
          "scattermapbox": [
           {
            "marker": {
             "colorbar": {
              "outlinewidth": 0,
              "ticks": ""
             }
            },
            "type": "scattermapbox"
           }
          ],
          "scatterpolar": [
           {
            "marker": {
             "colorbar": {
              "outlinewidth": 0,
              "ticks": ""
             }
            },
            "type": "scatterpolar"
           }
          ],
          "scatterpolargl": [
           {
            "marker": {
             "colorbar": {
              "outlinewidth": 0,
              "ticks": ""
             }
            },
            "type": "scatterpolargl"
           }
          ],
          "scatterternary": [
           {
            "marker": {
             "colorbar": {
              "outlinewidth": 0,
              "ticks": ""
             }
            },
            "type": "scatterternary"
           }
          ],
          "surface": [
           {
            "colorbar": {
             "outlinewidth": 0,
             "ticks": ""
            },
            "colorscale": [
             [
              0,
              "#0d0887"
             ],
             [
              0.1111111111111111,
              "#46039f"
             ],
             [
              0.2222222222222222,
              "#7201a8"
             ],
             [
              0.3333333333333333,
              "#9c179e"
             ],
             [
              0.4444444444444444,
              "#bd3786"
             ],
             [
              0.5555555555555556,
              "#d8576b"
             ],
             [
              0.6666666666666666,
              "#ed7953"
             ],
             [
              0.7777777777777778,
              "#fb9f3a"
             ],
             [
              0.8888888888888888,
              "#fdca26"
             ],
             [
              1,
              "#f0f921"
             ]
            ],
            "type": "surface"
           }
          ],
          "table": [
           {
            "cells": {
             "fill": {
              "color": "#EBF0F8"
             },
             "line": {
              "color": "white"
             }
            },
            "header": {
             "fill": {
              "color": "#C8D4E3"
             },
             "line": {
              "color": "white"
             }
            },
            "type": "table"
           }
          ]
         },
         "layout": {
          "annotationdefaults": {
           "arrowcolor": "#2a3f5f",
           "arrowhead": 0,
           "arrowwidth": 1
          },
          "autotypenumbers": "strict",
          "coloraxis": {
           "colorbar": {
            "outlinewidth": 0,
            "ticks": ""
           }
          },
          "colorscale": {
           "diverging": [
            [
             0,
             "#8e0152"
            ],
            [
             0.1,
             "#c51b7d"
            ],
            [
             0.2,
             "#de77ae"
            ],
            [
             0.3,
             "#f1b6da"
            ],
            [
             0.4,
             "#fde0ef"
            ],
            [
             0.5,
             "#f7f7f7"
            ],
            [
             0.6,
             "#e6f5d0"
            ],
            [
             0.7,
             "#b8e186"
            ],
            [
             0.8,
             "#7fbc41"
            ],
            [
             0.9,
             "#4d9221"
            ],
            [
             1,
             "#276419"
            ]
           ],
           "sequential": [
            [
             0,
             "#0d0887"
            ],
            [
             0.1111111111111111,
             "#46039f"
            ],
            [
             0.2222222222222222,
             "#7201a8"
            ],
            [
             0.3333333333333333,
             "#9c179e"
            ],
            [
             0.4444444444444444,
             "#bd3786"
            ],
            [
             0.5555555555555556,
             "#d8576b"
            ],
            [
             0.6666666666666666,
             "#ed7953"
            ],
            [
             0.7777777777777778,
             "#fb9f3a"
            ],
            [
             0.8888888888888888,
             "#fdca26"
            ],
            [
             1,
             "#f0f921"
            ]
           ],
           "sequentialminus": [
            [
             0,
             "#0d0887"
            ],
            [
             0.1111111111111111,
             "#46039f"
            ],
            [
             0.2222222222222222,
             "#7201a8"
            ],
            [
             0.3333333333333333,
             "#9c179e"
            ],
            [
             0.4444444444444444,
             "#bd3786"
            ],
            [
             0.5555555555555556,
             "#d8576b"
            ],
            [
             0.6666666666666666,
             "#ed7953"
            ],
            [
             0.7777777777777778,
             "#fb9f3a"
            ],
            [
             0.8888888888888888,
             "#fdca26"
            ],
            [
             1,
             "#f0f921"
            ]
           ]
          },
          "colorway": [
           "#636efa",
           "#EF553B",
           "#00cc96",
           "#ab63fa",
           "#FFA15A",
           "#19d3f3",
           "#FF6692",
           "#B6E880",
           "#FF97FF",
           "#FECB52"
          ],
          "font": {
           "color": "#2a3f5f"
          },
          "geo": {
           "bgcolor": "white",
           "lakecolor": "white",
           "landcolor": "#E5ECF6",
           "showlakes": true,
           "showland": true,
           "subunitcolor": "white"
          },
          "hoverlabel": {
           "align": "left"
          },
          "hovermode": "closest",
          "mapbox": {
           "style": "light"
          },
          "paper_bgcolor": "white",
          "plot_bgcolor": "#E5ECF6",
          "polar": {
           "angularaxis": {
            "gridcolor": "white",
            "linecolor": "white",
            "ticks": ""
           },
           "bgcolor": "#E5ECF6",
           "radialaxis": {
            "gridcolor": "white",
            "linecolor": "white",
            "ticks": ""
           }
          },
          "scene": {
           "xaxis": {
            "backgroundcolor": "#E5ECF6",
            "gridcolor": "white",
            "gridwidth": 2,
            "linecolor": "white",
            "showbackground": true,
            "ticks": "",
            "zerolinecolor": "white"
           },
           "yaxis": {
            "backgroundcolor": "#E5ECF6",
            "gridcolor": "white",
            "gridwidth": 2,
            "linecolor": "white",
            "showbackground": true,
            "ticks": "",
            "zerolinecolor": "white"
           },
           "zaxis": {
            "backgroundcolor": "#E5ECF6",
            "gridcolor": "white",
            "gridwidth": 2,
            "linecolor": "white",
            "showbackground": true,
            "ticks": "",
            "zerolinecolor": "white"
           }
          },
          "shapedefaults": {
           "line": {
            "color": "#2a3f5f"
           }
          },
          "ternary": {
           "aaxis": {
            "gridcolor": "white",
            "linecolor": "white",
            "ticks": ""
           },
           "baxis": {
            "gridcolor": "white",
            "linecolor": "white",
            "ticks": ""
           },
           "bgcolor": "#E5ECF6",
           "caxis": {
            "gridcolor": "white",
            "linecolor": "white",
            "ticks": ""
           }
          },
          "title": {
           "x": 0.05
          },
          "xaxis": {
           "automargin": true,
           "gridcolor": "white",
           "linecolor": "white",
           "ticks": "",
           "title": {
            "standoff": 15
           },
           "zerolinecolor": "white",
           "zerolinewidth": 2
          },
          "yaxis": {
           "automargin": true,
           "gridcolor": "white",
           "linecolor": "white",
           "ticks": "",
           "title": {
            "standoff": 15
           },
           "zerolinecolor": "white",
           "zerolinewidth": 2
          }
         }
        },
        "title": {
         "text": "Parallel Coordinate Plot"
        }
       }
      },
      "text/html": [
       "<div>                            <div id=\"69253f63-06ac-49d1-92c4-65408b623b2c\" class=\"plotly-graph-div\" style=\"height:525px; width:100%;\"></div>            <script type=\"text/javascript\">                require([\"plotly\"], function(Plotly) {                    window.PLOTLYENV=window.PLOTLYENV || {};                                    if (document.getElementById(\"69253f63-06ac-49d1-92c4-65408b623b2c\")) {                    Plotly.newPlot(                        \"69253f63-06ac-49d1-92c4-65408b623b2c\",                        [{\"dimensions\":[{\"label\":\"Objective Value\",\"range\":[0.15052626506709835,0.3863128768131224],\"values\":[0.3863128768131224,0.2538061700940315,0.2531898032346088,0.1654278300786372,0.23195384541696057,0.17150007391030705,0.189107608545037,0.22770796046060376,0.15355816150951265,0.15559057921580796,0.17457571030793345,0.16529975333952782,0.16290698616166413,0.31558954376147247,0.16573284921245832,0.1631114237161073,0.17252373850261965,0.16507505909405346,0.16180766564522,0.2880269551460296,0.15679763004652392,0.16374063488029905,0.1515383032753296,0.2922488258957804,0.1834713225383581,0.2868706040094989,0.16928896493225667,0.19866297448145262,0.38392984922181433,0.3179823964402652,0.3040931323606174,0.31268701696521856,0.25632629450010785,0.22942671774030998,0.19438266792392594,0.3660585361389137,0.25422316947113643,0.3211858914162177,0.19308992318186136,0.1573416636135275,0.18726605091318899,0.16254714065122278,0.15052626506709835,0.22541895167353004,0.16429019843150455,0.1731806841531713,0.2827967346901978,0.1914350267644647,0.17328884258284055,0.1862938368050159]},{\"label\":\"alpha\",\"range\":[-2.990614805869396,0.9932896296449284],\"ticktext\":[\"0.00102\",\"0.01\",\"0.1\",\"1\",\"9.85\"],\"tickvals\":[-2.990614805869396,-2,-1,0,0.9932896296449284],\"values\":[-2.7234944743270604,-1.4561895075715416,-0.9190039604423145,-1.4059162383071384,-0.9723163375369803,-1.2834012365641632,-2.3380558533602653,-2.4521909040987224,-1.9245575308834582,-1.8687664524030454,-1.9188362967526271,-1.9845513482010935,-1.5769394008144935,-2.0906321777831636,-0.31792363214085023,-0.20145080098632395,-0.18440704354645732,0.054493514615076906,-1.237012346779831,-1.0788071846400362,-1.291731254650564,-0.5546690326421162,-1.3277741554849827,-2.385246709564978,-1.727489409543881,-2.6024162830142825,-0.9309363290733983,-1.8145168910776783,0.9932896296449284,0.538588043302685,-2.197404650735984,0.5983018288828192,-1.6378555330014155,0.2962155816459813,-1.0710554401894603,-2.155142660666736,-1.785131520658641,-2.990614805869396,-1.2896706518381786,-1.3529981149317236,-1.5522183613531473,-1.528093484588311,-1.732774475941546,-1.689237207402371,-1.9303909776605757,-2.2338089225530937,-0.29451596649243994,-0.7702407917243475,-0.7608469497384244,-0.7464978590767106]},{\"label\":\"colsample_bytree\",\"range\":[0,7],\"ticktext\":[0.3,0.4,0.5,0.6,0.7,0.8,0.9,1.0],\"tickvals\":[0,1,2,3,4,5,6,7],\"values\":[0,0,0,0,0,1,1,1,1,1,1,1,1,1,2,2,2,2,2,2,2,2,2,2,3,3,3,4,4,4,4,5,5,5,5,6,6,6,6,6,6,6,6,6,6,7,7,7,7,7]},{\"label\":\"lambda\",\"range\":[-2.993984635679507,0.8880926822305111],\"ticktext\":[\"0.00101\",\"0.01\",\"0.1\",\"1\",\"7.73\"],\"tickvals\":[-2.993984635679507,-2,-1,0,0.8880926822305111],\"values\":[0.8880926822305111,0.787782776667484,-2.4774661404477802,-1.280362193379169,-0.1572726992789699,-1.120631892737799,-1.8694121715117797,-2.993984635679507,-2.6055644013448407,-2.654642155303115,-2.5613458305915895,-2.2091545394980465,-2.8223400598550943,-1.368377674352558,-2.379931346160741,-2.402712275524999,-2.417144472151044,-2.5418981128577625,-2.741681963444718,-1.616894609459076,-2.0755522665769974,-2.248960514985558,-2.7397033902675436,-1.7161844896518204,-2.004602316122111,-1.9572491666697254,-1.8596924059577673,-2.7864834692503515,-2.6137848107334585,-2.921879606668886,0.44341695115791124,-0.09202311704914429,0.22209429016909804,-0.1091085756865761,-2.70116169082707,-1.5120817029373457,-2.002887349486008,-0.7430392222117587,-2.357359135874171,-2.6526640655211544,-0.673165521449747,-2.1275721924123316,-2.053372024323583,-1.7327186724699881,-2.1411292704605573,-2.1251808341142717,-1.0459653066181105,-2.925639515160792,-2.969902338121375,-2.8443442860722135]},{\"label\":\"learning_rate\",\"range\":[0,7],\"ticktext\":[0.008,0.009,0.01,0.012,0.014,0.016,0.018,0.02],\"tickvals\":[0,1,2,3,4,5,6,7],\"values\":[0,5,5,6,6,2,4,6,6,6,6,6,6,7,0,0,0,0,0,2,2,5,6,7,2,3,6,1,2,5,5,1,3,4,6,1,2,3,4,6,7,7,7,7,7,6,6,7,7,7]},{\"label\":\"max_depth\",\"range\":[0,7],\"ticktext\":[5,7,9,11,13,15,17,20],\"tickvals\":[0,1,2,3,4,5,6,7],\"values\":[5,0,6,0,6,3,4,0,0,0,0,0,5,1,7,7,7,7,7,2,7,7,0,7,4,3,0,0,1,0,5,0,3,4,0,1,1,1,2,0,1,1,1,1,7,0,0,6,6,6]},{\"label\":\"min_child_weight\",\"range\":[1,300],\"values\":[221,101,196,22,222,75,84,111,22,26,69,43,18,141,50,41,3,45,35,73,42,58,24,131,25,185,60,58,35,259,228,223,168,224,95,156,108,300,10,22,98,6,3,78,1,29,260,28,15,57]},{\"label\":\"n_estimators\",\"range\":[0,9],\"ticktext\":[90,95,100,150,200,300,400,500,800,1000],\"tickvals\":[0,1,2,3,4,5,6,7,8,9],\"values\":[8,4,9,5,8,6,5,1,5,5,5,5,7,6,5,5,5,5,5,2,5,5,5,1,4,9,4,8,0,8,0,1,0,8,5,6,6,2,3,5,3,6,6,6,9,5,8,7,7,8]},{\"label\":\"random_state\",\"range\":[0,2],\"ticktext\":[24,48,2020],\"tickvals\":[0,1,2],\"values\":[2,0,2,0,2,1,1,0,1,1,1,1,2,1,1,1,1,1,1,1,1,1,1,0,1,2,2,1,2,0,1,2,1,0,0,1,1,1,1,1,1,1,1,1,1,1,0,1,1,0]},{\"label\":\"subsample\",\"range\":[0,5],\"ticktext\":[0.4,0.5,0.6,0.7,0.8,1.0],\"tickvals\":[0,1,2,3,4,5],\"values\":[1,2,3,5,5,4,2,2,2,2,2,2,2,0,4,4,4,4,4,2,4,4,4,0,0,1,4,1,2,2,1,4,2,5,4,0,0,0,3,4,4,0,0,0,3,5,3,0,0,5]}],\"labelangle\":30,\"labelside\":\"bottom\",\"line\":{\"color\":[0.3863128768131224,0.2538061700940315,0.2531898032346088,0.1654278300786372,0.23195384541696057,0.17150007391030705,0.189107608545037,0.22770796046060376,0.15355816150951265,0.15559057921580796,0.17457571030793345,0.16529975333952782,0.16290698616166413,0.31558954376147247,0.16573284921245832,0.1631114237161073,0.17252373850261965,0.16507505909405346,0.16180766564522,0.2880269551460296,0.15679763004652392,0.16374063488029905,0.1515383032753296,0.2922488258957804,0.1834713225383581,0.2868706040094989,0.16928896493225667,0.19866297448145262,0.38392984922181433,0.3179823964402652,0.3040931323606174,0.31268701696521856,0.25632629450010785,0.22942671774030998,0.19438266792392594,0.3660585361389137,0.25422316947113643,0.3211858914162177,0.19308992318186136,0.1573416636135275,0.18726605091318899,0.16254714065122278,0.15052626506709835,0.22541895167353004,0.16429019843150455,0.1731806841531713,0.2827967346901978,0.1914350267644647,0.17328884258284055,0.1862938368050159],\"colorbar\":{\"title\":{\"text\":\"Objective Value\"}},\"colorscale\":[[0.0,\"rgb(247,251,255)\"],[0.125,\"rgb(222,235,247)\"],[0.25,\"rgb(198,219,239)\"],[0.375,\"rgb(158,202,225)\"],[0.5,\"rgb(107,174,214)\"],[0.625,\"rgb(66,146,198)\"],[0.75,\"rgb(33,113,181)\"],[0.875,\"rgb(8,81,156)\"],[1.0,\"rgb(8,48,107)\"]],\"reversescale\":true,\"showscale\":true},\"type\":\"parcoords\"}],                        {\"title\":{\"text\":\"Parallel Coordinate Plot\"},\"template\":{\"data\":{\"bar\":[{\"error_x\":{\"color\":\"#2a3f5f\"},\"error_y\":{\"color\":\"#2a3f5f\"},\"marker\":{\"line\":{\"color\":\"#E5ECF6\",\"width\":0.5},\"pattern\":{\"fillmode\":\"overlay\",\"size\":10,\"solidity\":0.2}},\"type\":\"bar\"}],\"barpolar\":[{\"marker\":{\"line\":{\"color\":\"#E5ECF6\",\"width\":0.5},\"pattern\":{\"fillmode\":\"overlay\",\"size\":10,\"solidity\":0.2}},\"type\":\"barpolar\"}],\"carpet\":[{\"aaxis\":{\"endlinecolor\":\"#2a3f5f\",\"gridcolor\":\"white\",\"linecolor\":\"white\",\"minorgridcolor\":\"white\",\"startlinecolor\":\"#2a3f5f\"},\"baxis\":{\"endlinecolor\":\"#2a3f5f\",\"gridcolor\":\"white\",\"linecolor\":\"white\",\"minorgridcolor\":\"white\",\"startlinecolor\":\"#2a3f5f\"},\"type\":\"carpet\"}],\"choropleth\":[{\"colorbar\":{\"outlinewidth\":0,\"ticks\":\"\"},\"type\":\"choropleth\"}],\"contour\":[{\"colorbar\":{\"outlinewidth\":0,\"ticks\":\"\"},\"colorscale\":[[0.0,\"#0d0887\"],[0.1111111111111111,\"#46039f\"],[0.2222222222222222,\"#7201a8\"],[0.3333333333333333,\"#9c179e\"],[0.4444444444444444,\"#bd3786\"],[0.5555555555555556,\"#d8576b\"],[0.6666666666666666,\"#ed7953\"],[0.7777777777777778,\"#fb9f3a\"],[0.8888888888888888,\"#fdca26\"],[1.0,\"#f0f921\"]],\"type\":\"contour\"}],\"contourcarpet\":[{\"colorbar\":{\"outlinewidth\":0,\"ticks\":\"\"},\"type\":\"contourcarpet\"}],\"heatmap\":[{\"colorbar\":{\"outlinewidth\":0,\"ticks\":\"\"},\"colorscale\":[[0.0,\"#0d0887\"],[0.1111111111111111,\"#46039f\"],[0.2222222222222222,\"#7201a8\"],[0.3333333333333333,\"#9c179e\"],[0.4444444444444444,\"#bd3786\"],[0.5555555555555556,\"#d8576b\"],[0.6666666666666666,\"#ed7953\"],[0.7777777777777778,\"#fb9f3a\"],[0.8888888888888888,\"#fdca26\"],[1.0,\"#f0f921\"]],\"type\":\"heatmap\"}],\"heatmapgl\":[{\"colorbar\":{\"outlinewidth\":0,\"ticks\":\"\"},\"colorscale\":[[0.0,\"#0d0887\"],[0.1111111111111111,\"#46039f\"],[0.2222222222222222,\"#7201a8\"],[0.3333333333333333,\"#9c179e\"],[0.4444444444444444,\"#bd3786\"],[0.5555555555555556,\"#d8576b\"],[0.6666666666666666,\"#ed7953\"],[0.7777777777777778,\"#fb9f3a\"],[0.8888888888888888,\"#fdca26\"],[1.0,\"#f0f921\"]],\"type\":\"heatmapgl\"}],\"histogram\":[{\"marker\":{\"pattern\":{\"fillmode\":\"overlay\",\"size\":10,\"solidity\":0.2}},\"type\":\"histogram\"}],\"histogram2d\":[{\"colorbar\":{\"outlinewidth\":0,\"ticks\":\"\"},\"colorscale\":[[0.0,\"#0d0887\"],[0.1111111111111111,\"#46039f\"],[0.2222222222222222,\"#7201a8\"],[0.3333333333333333,\"#9c179e\"],[0.4444444444444444,\"#bd3786\"],[0.5555555555555556,\"#d8576b\"],[0.6666666666666666,\"#ed7953\"],[0.7777777777777778,\"#fb9f3a\"],[0.8888888888888888,\"#fdca26\"],[1.0,\"#f0f921\"]],\"type\":\"histogram2d\"}],\"histogram2dcontour\":[{\"colorbar\":{\"outlinewidth\":0,\"ticks\":\"\"},\"colorscale\":[[0.0,\"#0d0887\"],[0.1111111111111111,\"#46039f\"],[0.2222222222222222,\"#7201a8\"],[0.3333333333333333,\"#9c179e\"],[0.4444444444444444,\"#bd3786\"],[0.5555555555555556,\"#d8576b\"],[0.6666666666666666,\"#ed7953\"],[0.7777777777777778,\"#fb9f3a\"],[0.8888888888888888,\"#fdca26\"],[1.0,\"#f0f921\"]],\"type\":\"histogram2dcontour\"}],\"mesh3d\":[{\"colorbar\":{\"outlinewidth\":0,\"ticks\":\"\"},\"type\":\"mesh3d\"}],\"parcoords\":[{\"line\":{\"colorbar\":{\"outlinewidth\":0,\"ticks\":\"\"}},\"type\":\"parcoords\"}],\"pie\":[{\"automargin\":true,\"type\":\"pie\"}],\"scatter\":[{\"marker\":{\"colorbar\":{\"outlinewidth\":0,\"ticks\":\"\"}},\"type\":\"scatter\"}],\"scatter3d\":[{\"line\":{\"colorbar\":{\"outlinewidth\":0,\"ticks\":\"\"}},\"marker\":{\"colorbar\":{\"outlinewidth\":0,\"ticks\":\"\"}},\"type\":\"scatter3d\"}],\"scattercarpet\":[{\"marker\":{\"colorbar\":{\"outlinewidth\":0,\"ticks\":\"\"}},\"type\":\"scattercarpet\"}],\"scattergeo\":[{\"marker\":{\"colorbar\":{\"outlinewidth\":0,\"ticks\":\"\"}},\"type\":\"scattergeo\"}],\"scattergl\":[{\"marker\":{\"colorbar\":{\"outlinewidth\":0,\"ticks\":\"\"}},\"type\":\"scattergl\"}],\"scattermapbox\":[{\"marker\":{\"colorbar\":{\"outlinewidth\":0,\"ticks\":\"\"}},\"type\":\"scattermapbox\"}],\"scatterpolar\":[{\"marker\":{\"colorbar\":{\"outlinewidth\":0,\"ticks\":\"\"}},\"type\":\"scatterpolar\"}],\"scatterpolargl\":[{\"marker\":{\"colorbar\":{\"outlinewidth\":0,\"ticks\":\"\"}},\"type\":\"scatterpolargl\"}],\"scatterternary\":[{\"marker\":{\"colorbar\":{\"outlinewidth\":0,\"ticks\":\"\"}},\"type\":\"scatterternary\"}],\"surface\":[{\"colorbar\":{\"outlinewidth\":0,\"ticks\":\"\"},\"colorscale\":[[0.0,\"#0d0887\"],[0.1111111111111111,\"#46039f\"],[0.2222222222222222,\"#7201a8\"],[0.3333333333333333,\"#9c179e\"],[0.4444444444444444,\"#bd3786\"],[0.5555555555555556,\"#d8576b\"],[0.6666666666666666,\"#ed7953\"],[0.7777777777777778,\"#fb9f3a\"],[0.8888888888888888,\"#fdca26\"],[1.0,\"#f0f921\"]],\"type\":\"surface\"}],\"table\":[{\"cells\":{\"fill\":{\"color\":\"#EBF0F8\"},\"line\":{\"color\":\"white\"}},\"header\":{\"fill\":{\"color\":\"#C8D4E3\"},\"line\":{\"color\":\"white\"}},\"type\":\"table\"}]},\"layout\":{\"annotationdefaults\":{\"arrowcolor\":\"#2a3f5f\",\"arrowhead\":0,\"arrowwidth\":1},\"autotypenumbers\":\"strict\",\"coloraxis\":{\"colorbar\":{\"outlinewidth\":0,\"ticks\":\"\"}},\"colorscale\":{\"diverging\":[[0,\"#8e0152\"],[0.1,\"#c51b7d\"],[0.2,\"#de77ae\"],[0.3,\"#f1b6da\"],[0.4,\"#fde0ef\"],[0.5,\"#f7f7f7\"],[0.6,\"#e6f5d0\"],[0.7,\"#b8e186\"],[0.8,\"#7fbc41\"],[0.9,\"#4d9221\"],[1,\"#276419\"]],\"sequential\":[[0.0,\"#0d0887\"],[0.1111111111111111,\"#46039f\"],[0.2222222222222222,\"#7201a8\"],[0.3333333333333333,\"#9c179e\"],[0.4444444444444444,\"#bd3786\"],[0.5555555555555556,\"#d8576b\"],[0.6666666666666666,\"#ed7953\"],[0.7777777777777778,\"#fb9f3a\"],[0.8888888888888888,\"#fdca26\"],[1.0,\"#f0f921\"]],\"sequentialminus\":[[0.0,\"#0d0887\"],[0.1111111111111111,\"#46039f\"],[0.2222222222222222,\"#7201a8\"],[0.3333333333333333,\"#9c179e\"],[0.4444444444444444,\"#bd3786\"],[0.5555555555555556,\"#d8576b\"],[0.6666666666666666,\"#ed7953\"],[0.7777777777777778,\"#fb9f3a\"],[0.8888888888888888,\"#fdca26\"],[1.0,\"#f0f921\"]]},\"colorway\":[\"#636efa\",\"#EF553B\",\"#00cc96\",\"#ab63fa\",\"#FFA15A\",\"#19d3f3\",\"#FF6692\",\"#B6E880\",\"#FF97FF\",\"#FECB52\"],\"font\":{\"color\":\"#2a3f5f\"},\"geo\":{\"bgcolor\":\"white\",\"lakecolor\":\"white\",\"landcolor\":\"#E5ECF6\",\"showlakes\":true,\"showland\":true,\"subunitcolor\":\"white\"},\"hoverlabel\":{\"align\":\"left\"},\"hovermode\":\"closest\",\"mapbox\":{\"style\":\"light\"},\"paper_bgcolor\":\"white\",\"plot_bgcolor\":\"#E5ECF6\",\"polar\":{\"angularaxis\":{\"gridcolor\":\"white\",\"linecolor\":\"white\",\"ticks\":\"\"},\"bgcolor\":\"#E5ECF6\",\"radialaxis\":{\"gridcolor\":\"white\",\"linecolor\":\"white\",\"ticks\":\"\"}},\"scene\":{\"xaxis\":{\"backgroundcolor\":\"#E5ECF6\",\"gridcolor\":\"white\",\"gridwidth\":2,\"linecolor\":\"white\",\"showbackground\":true,\"ticks\":\"\",\"zerolinecolor\":\"white\"},\"yaxis\":{\"backgroundcolor\":\"#E5ECF6\",\"gridcolor\":\"white\",\"gridwidth\":2,\"linecolor\":\"white\",\"showbackground\":true,\"ticks\":\"\",\"zerolinecolor\":\"white\"},\"zaxis\":{\"backgroundcolor\":\"#E5ECF6\",\"gridcolor\":\"white\",\"gridwidth\":2,\"linecolor\":\"white\",\"showbackground\":true,\"ticks\":\"\",\"zerolinecolor\":\"white\"}},\"shapedefaults\":{\"line\":{\"color\":\"#2a3f5f\"}},\"ternary\":{\"aaxis\":{\"gridcolor\":\"white\",\"linecolor\":\"white\",\"ticks\":\"\"},\"baxis\":{\"gridcolor\":\"white\",\"linecolor\":\"white\",\"ticks\":\"\"},\"bgcolor\":\"#E5ECF6\",\"caxis\":{\"gridcolor\":\"white\",\"linecolor\":\"white\",\"ticks\":\"\"}},\"title\":{\"x\":0.05},\"xaxis\":{\"automargin\":true,\"gridcolor\":\"white\",\"linecolor\":\"white\",\"ticks\":\"\",\"title\":{\"standoff\":15},\"zerolinecolor\":\"white\",\"zerolinewidth\":2},\"yaxis\":{\"automargin\":true,\"gridcolor\":\"white\",\"linecolor\":\"white\",\"ticks\":\"\",\"title\":{\"standoff\":15},\"zerolinecolor\":\"white\",\"zerolinewidth\":2}}}},                        {\"responsive\": true}                    ).then(function(){\n",
       "                            \n",
       "var gd = document.getElementById('69253f63-06ac-49d1-92c4-65408b623b2c');\n",
       "var x = new MutationObserver(function (mutations, observer) {{\n",
       "        var display = window.getComputedStyle(gd).display;\n",
       "        if (!display || display === 'none') {{\n",
       "            console.log([gd, 'removed!']);\n",
       "            Plotly.purge(gd);\n",
       "            observer.disconnect();\n",
       "        }}\n",
       "}});\n",
       "\n",
       "// Listen for the removal of the full notebook cells\n",
       "var notebookContainer = gd.closest('#notebook-container');\n",
       "if (notebookContainer) {{\n",
       "    x.observe(notebookContainer, {childList: true});\n",
       "}}\n",
       "\n",
       "// Listen for the clearing of the current output cell\n",
       "var outputEl = gd.closest('.output');\n",
       "if (outputEl) {{\n",
       "    x.observe(outputEl, {childList: true});\n",
       "}}\n",
       "\n",
       "                        })                };                });            </script>        </div>"
      ]
     },
     "metadata": {},
     "output_type": "display_data"
    },
    {
     "data": {
      "application/vnd.plotly.v1+json": {
       "config": {
        "plotlyServerURL": "https://plot.ly"
       },
       "data": [
        {
         "cliponaxis": false,
         "hovertemplate": [
          "random_state (CategoricalDistribution): 0.010443238619429047<extra></extra>",
          "lambda (LogUniformDistribution): 0.020878576454890982<extra></extra>",
          "max_depth (CategoricalDistribution): 0.05524395366812652<extra></extra>",
          "colsample_bytree (CategoricalDistribution): 0.05963951849237495<extra></extra>",
          "learning_rate (CategoricalDistribution): 0.07483753952231696<extra></extra>",
          "subsample (CategoricalDistribution): 0.12184020691125724<extra></extra>",
          "alpha (LogUniformDistribution): 0.14854675175928506<extra></extra>",
          "n_estimators (CategoricalDistribution): 0.1697521591167106<extra></extra>",
          "min_child_weight (IntUniformDistribution): 0.33881805545560845<extra></extra>"
         ],
         "marker": {
          "color": "rgb(66,146,198)"
         },
         "orientation": "h",
         "text": [
          "0.010443238619429047",
          "0.020878576454890982",
          "0.05524395366812652",
          "0.05963951849237495",
          "0.07483753952231696",
          "0.12184020691125724",
          "0.14854675175928506",
          "0.1697521591167106",
          "0.33881805545560845"
         ],
         "textposition": "outside",
         "texttemplate": "%{text:.2f}",
         "type": "bar",
         "x": [
          0.010443238619429047,
          0.020878576454890982,
          0.05524395366812652,
          0.05963951849237495,
          0.07483753952231696,
          0.12184020691125724,
          0.14854675175928506,
          0.1697521591167106,
          0.33881805545560845
         ],
         "y": [
          "random_state",
          "lambda",
          "max_depth",
          "colsample_bytree",
          "learning_rate",
          "subsample",
          "alpha",
          "n_estimators",
          "min_child_weight"
         ]
        }
       ],
       "layout": {
        "showlegend": false,
        "template": {
         "data": {
          "bar": [
           {
            "error_x": {
             "color": "#2a3f5f"
            },
            "error_y": {
             "color": "#2a3f5f"
            },
            "marker": {
             "line": {
              "color": "#E5ECF6",
              "width": 0.5
             },
             "pattern": {
              "fillmode": "overlay",
              "size": 10,
              "solidity": 0.2
             }
            },
            "type": "bar"
           }
          ],
          "barpolar": [
           {
            "marker": {
             "line": {
              "color": "#E5ECF6",
              "width": 0.5
             },
             "pattern": {
              "fillmode": "overlay",
              "size": 10,
              "solidity": 0.2
             }
            },
            "type": "barpolar"
           }
          ],
          "carpet": [
           {
            "aaxis": {
             "endlinecolor": "#2a3f5f",
             "gridcolor": "white",
             "linecolor": "white",
             "minorgridcolor": "white",
             "startlinecolor": "#2a3f5f"
            },
            "baxis": {
             "endlinecolor": "#2a3f5f",
             "gridcolor": "white",
             "linecolor": "white",
             "minorgridcolor": "white",
             "startlinecolor": "#2a3f5f"
            },
            "type": "carpet"
           }
          ],
          "choropleth": [
           {
            "colorbar": {
             "outlinewidth": 0,
             "ticks": ""
            },
            "type": "choropleth"
           }
          ],
          "contour": [
           {
            "colorbar": {
             "outlinewidth": 0,
             "ticks": ""
            },
            "colorscale": [
             [
              0,
              "#0d0887"
             ],
             [
              0.1111111111111111,
              "#46039f"
             ],
             [
              0.2222222222222222,
              "#7201a8"
             ],
             [
              0.3333333333333333,
              "#9c179e"
             ],
             [
              0.4444444444444444,
              "#bd3786"
             ],
             [
              0.5555555555555556,
              "#d8576b"
             ],
             [
              0.6666666666666666,
              "#ed7953"
             ],
             [
              0.7777777777777778,
              "#fb9f3a"
             ],
             [
              0.8888888888888888,
              "#fdca26"
             ],
             [
              1,
              "#f0f921"
             ]
            ],
            "type": "contour"
           }
          ],
          "contourcarpet": [
           {
            "colorbar": {
             "outlinewidth": 0,
             "ticks": ""
            },
            "type": "contourcarpet"
           }
          ],
          "heatmap": [
           {
            "colorbar": {
             "outlinewidth": 0,
             "ticks": ""
            },
            "colorscale": [
             [
              0,
              "#0d0887"
             ],
             [
              0.1111111111111111,
              "#46039f"
             ],
             [
              0.2222222222222222,
              "#7201a8"
             ],
             [
              0.3333333333333333,
              "#9c179e"
             ],
             [
              0.4444444444444444,
              "#bd3786"
             ],
             [
              0.5555555555555556,
              "#d8576b"
             ],
             [
              0.6666666666666666,
              "#ed7953"
             ],
             [
              0.7777777777777778,
              "#fb9f3a"
             ],
             [
              0.8888888888888888,
              "#fdca26"
             ],
             [
              1,
              "#f0f921"
             ]
            ],
            "type": "heatmap"
           }
          ],
          "heatmapgl": [
           {
            "colorbar": {
             "outlinewidth": 0,
             "ticks": ""
            },
            "colorscale": [
             [
              0,
              "#0d0887"
             ],
             [
              0.1111111111111111,
              "#46039f"
             ],
             [
              0.2222222222222222,
              "#7201a8"
             ],
             [
              0.3333333333333333,
              "#9c179e"
             ],
             [
              0.4444444444444444,
              "#bd3786"
             ],
             [
              0.5555555555555556,
              "#d8576b"
             ],
             [
              0.6666666666666666,
              "#ed7953"
             ],
             [
              0.7777777777777778,
              "#fb9f3a"
             ],
             [
              0.8888888888888888,
              "#fdca26"
             ],
             [
              1,
              "#f0f921"
             ]
            ],
            "type": "heatmapgl"
           }
          ],
          "histogram": [
           {
            "marker": {
             "pattern": {
              "fillmode": "overlay",
              "size": 10,
              "solidity": 0.2
             }
            },
            "type": "histogram"
           }
          ],
          "histogram2d": [
           {
            "colorbar": {
             "outlinewidth": 0,
             "ticks": ""
            },
            "colorscale": [
             [
              0,
              "#0d0887"
             ],
             [
              0.1111111111111111,
              "#46039f"
             ],
             [
              0.2222222222222222,
              "#7201a8"
             ],
             [
              0.3333333333333333,
              "#9c179e"
             ],
             [
              0.4444444444444444,
              "#bd3786"
             ],
             [
              0.5555555555555556,
              "#d8576b"
             ],
             [
              0.6666666666666666,
              "#ed7953"
             ],
             [
              0.7777777777777778,
              "#fb9f3a"
             ],
             [
              0.8888888888888888,
              "#fdca26"
             ],
             [
              1,
              "#f0f921"
             ]
            ],
            "type": "histogram2d"
           }
          ],
          "histogram2dcontour": [
           {
            "colorbar": {
             "outlinewidth": 0,
             "ticks": ""
            },
            "colorscale": [
             [
              0,
              "#0d0887"
             ],
             [
              0.1111111111111111,
              "#46039f"
             ],
             [
              0.2222222222222222,
              "#7201a8"
             ],
             [
              0.3333333333333333,
              "#9c179e"
             ],
             [
              0.4444444444444444,
              "#bd3786"
             ],
             [
              0.5555555555555556,
              "#d8576b"
             ],
             [
              0.6666666666666666,
              "#ed7953"
             ],
             [
              0.7777777777777778,
              "#fb9f3a"
             ],
             [
              0.8888888888888888,
              "#fdca26"
             ],
             [
              1,
              "#f0f921"
             ]
            ],
            "type": "histogram2dcontour"
           }
          ],
          "mesh3d": [
           {
            "colorbar": {
             "outlinewidth": 0,
             "ticks": ""
            },
            "type": "mesh3d"
           }
          ],
          "parcoords": [
           {
            "line": {
             "colorbar": {
              "outlinewidth": 0,
              "ticks": ""
             }
            },
            "type": "parcoords"
           }
          ],
          "pie": [
           {
            "automargin": true,
            "type": "pie"
           }
          ],
          "scatter": [
           {
            "marker": {
             "colorbar": {
              "outlinewidth": 0,
              "ticks": ""
             }
            },
            "type": "scatter"
           }
          ],
          "scatter3d": [
           {
            "line": {
             "colorbar": {
              "outlinewidth": 0,
              "ticks": ""
             }
            },
            "marker": {
             "colorbar": {
              "outlinewidth": 0,
              "ticks": ""
             }
            },
            "type": "scatter3d"
           }
          ],
          "scattercarpet": [
           {
            "marker": {
             "colorbar": {
              "outlinewidth": 0,
              "ticks": ""
             }
            },
            "type": "scattercarpet"
           }
          ],
          "scattergeo": [
           {
            "marker": {
             "colorbar": {
              "outlinewidth": 0,
              "ticks": ""
             }
            },
            "type": "scattergeo"
           }
          ],
          "scattergl": [
           {
            "marker": {
             "colorbar": {
              "outlinewidth": 0,
              "ticks": ""
             }
            },
            "type": "scattergl"
           }
          ],
          "scattermapbox": [
           {
            "marker": {
             "colorbar": {
              "outlinewidth": 0,
              "ticks": ""
             }
            },
            "type": "scattermapbox"
           }
          ],
          "scatterpolar": [
           {
            "marker": {
             "colorbar": {
              "outlinewidth": 0,
              "ticks": ""
             }
            },
            "type": "scatterpolar"
           }
          ],
          "scatterpolargl": [
           {
            "marker": {
             "colorbar": {
              "outlinewidth": 0,
              "ticks": ""
             }
            },
            "type": "scatterpolargl"
           }
          ],
          "scatterternary": [
           {
            "marker": {
             "colorbar": {
              "outlinewidth": 0,
              "ticks": ""
             }
            },
            "type": "scatterternary"
           }
          ],
          "surface": [
           {
            "colorbar": {
             "outlinewidth": 0,
             "ticks": ""
            },
            "colorscale": [
             [
              0,
              "#0d0887"
             ],
             [
              0.1111111111111111,
              "#46039f"
             ],
             [
              0.2222222222222222,
              "#7201a8"
             ],
             [
              0.3333333333333333,
              "#9c179e"
             ],
             [
              0.4444444444444444,
              "#bd3786"
             ],
             [
              0.5555555555555556,
              "#d8576b"
             ],
             [
              0.6666666666666666,
              "#ed7953"
             ],
             [
              0.7777777777777778,
              "#fb9f3a"
             ],
             [
              0.8888888888888888,
              "#fdca26"
             ],
             [
              1,
              "#f0f921"
             ]
            ],
            "type": "surface"
           }
          ],
          "table": [
           {
            "cells": {
             "fill": {
              "color": "#EBF0F8"
             },
             "line": {
              "color": "white"
             }
            },
            "header": {
             "fill": {
              "color": "#C8D4E3"
             },
             "line": {
              "color": "white"
             }
            },
            "type": "table"
           }
          ]
         },
         "layout": {
          "annotationdefaults": {
           "arrowcolor": "#2a3f5f",
           "arrowhead": 0,
           "arrowwidth": 1
          },
          "autotypenumbers": "strict",
          "coloraxis": {
           "colorbar": {
            "outlinewidth": 0,
            "ticks": ""
           }
          },
          "colorscale": {
           "diverging": [
            [
             0,
             "#8e0152"
            ],
            [
             0.1,
             "#c51b7d"
            ],
            [
             0.2,
             "#de77ae"
            ],
            [
             0.3,
             "#f1b6da"
            ],
            [
             0.4,
             "#fde0ef"
            ],
            [
             0.5,
             "#f7f7f7"
            ],
            [
             0.6,
             "#e6f5d0"
            ],
            [
             0.7,
             "#b8e186"
            ],
            [
             0.8,
             "#7fbc41"
            ],
            [
             0.9,
             "#4d9221"
            ],
            [
             1,
             "#276419"
            ]
           ],
           "sequential": [
            [
             0,
             "#0d0887"
            ],
            [
             0.1111111111111111,
             "#46039f"
            ],
            [
             0.2222222222222222,
             "#7201a8"
            ],
            [
             0.3333333333333333,
             "#9c179e"
            ],
            [
             0.4444444444444444,
             "#bd3786"
            ],
            [
             0.5555555555555556,
             "#d8576b"
            ],
            [
             0.6666666666666666,
             "#ed7953"
            ],
            [
             0.7777777777777778,
             "#fb9f3a"
            ],
            [
             0.8888888888888888,
             "#fdca26"
            ],
            [
             1,
             "#f0f921"
            ]
           ],
           "sequentialminus": [
            [
             0,
             "#0d0887"
            ],
            [
             0.1111111111111111,
             "#46039f"
            ],
            [
             0.2222222222222222,
             "#7201a8"
            ],
            [
             0.3333333333333333,
             "#9c179e"
            ],
            [
             0.4444444444444444,
             "#bd3786"
            ],
            [
             0.5555555555555556,
             "#d8576b"
            ],
            [
             0.6666666666666666,
             "#ed7953"
            ],
            [
             0.7777777777777778,
             "#fb9f3a"
            ],
            [
             0.8888888888888888,
             "#fdca26"
            ],
            [
             1,
             "#f0f921"
            ]
           ]
          },
          "colorway": [
           "#636efa",
           "#EF553B",
           "#00cc96",
           "#ab63fa",
           "#FFA15A",
           "#19d3f3",
           "#FF6692",
           "#B6E880",
           "#FF97FF",
           "#FECB52"
          ],
          "font": {
           "color": "#2a3f5f"
          },
          "geo": {
           "bgcolor": "white",
           "lakecolor": "white",
           "landcolor": "#E5ECF6",
           "showlakes": true,
           "showland": true,
           "subunitcolor": "white"
          },
          "hoverlabel": {
           "align": "left"
          },
          "hovermode": "closest",
          "mapbox": {
           "style": "light"
          },
          "paper_bgcolor": "white",
          "plot_bgcolor": "#E5ECF6",
          "polar": {
           "angularaxis": {
            "gridcolor": "white",
            "linecolor": "white",
            "ticks": ""
           },
           "bgcolor": "#E5ECF6",
           "radialaxis": {
            "gridcolor": "white",
            "linecolor": "white",
            "ticks": ""
           }
          },
          "scene": {
           "xaxis": {
            "backgroundcolor": "#E5ECF6",
            "gridcolor": "white",
            "gridwidth": 2,
            "linecolor": "white",
            "showbackground": true,
            "ticks": "",
            "zerolinecolor": "white"
           },
           "yaxis": {
            "backgroundcolor": "#E5ECF6",
            "gridcolor": "white",
            "gridwidth": 2,
            "linecolor": "white",
            "showbackground": true,
            "ticks": "",
            "zerolinecolor": "white"
           },
           "zaxis": {
            "backgroundcolor": "#E5ECF6",
            "gridcolor": "white",
            "gridwidth": 2,
            "linecolor": "white",
            "showbackground": true,
            "ticks": "",
            "zerolinecolor": "white"
           }
          },
          "shapedefaults": {
           "line": {
            "color": "#2a3f5f"
           }
          },
          "ternary": {
           "aaxis": {
            "gridcolor": "white",
            "linecolor": "white",
            "ticks": ""
           },
           "baxis": {
            "gridcolor": "white",
            "linecolor": "white",
            "ticks": ""
           },
           "bgcolor": "#E5ECF6",
           "caxis": {
            "gridcolor": "white",
            "linecolor": "white",
            "ticks": ""
           }
          },
          "title": {
           "x": 0.05
          },
          "xaxis": {
           "automargin": true,
           "gridcolor": "white",
           "linecolor": "white",
           "ticks": "",
           "title": {
            "standoff": 15
           },
           "zerolinecolor": "white",
           "zerolinewidth": 2
          },
          "yaxis": {
           "automargin": true,
           "gridcolor": "white",
           "linecolor": "white",
           "ticks": "",
           "title": {
            "standoff": 15
           },
           "zerolinecolor": "white",
           "zerolinewidth": 2
          }
         }
        },
        "title": {
         "text": "Hyperparameter Importances"
        },
        "xaxis": {
         "title": {
          "text": "Importance for Objective Value"
         }
        },
        "yaxis": {
         "title": {
          "text": "Hyperparameter"
         }
        }
       }
      },
      "text/html": [
       "<div>                            <div id=\"ca938fad-e04e-4134-b6cd-b5950587a54c\" class=\"plotly-graph-div\" style=\"height:525px; width:100%;\"></div>            <script type=\"text/javascript\">                require([\"plotly\"], function(Plotly) {                    window.PLOTLYENV=window.PLOTLYENV || {};                                    if (document.getElementById(\"ca938fad-e04e-4134-b6cd-b5950587a54c\")) {                    Plotly.newPlot(                        \"ca938fad-e04e-4134-b6cd-b5950587a54c\",                        [{\"cliponaxis\":false,\"hovertemplate\":[\"random_state (CategoricalDistribution): 0.010443238619429047<extra></extra>\",\"lambda (LogUniformDistribution): 0.020878576454890982<extra></extra>\",\"max_depth (CategoricalDistribution): 0.05524395366812652<extra></extra>\",\"colsample_bytree (CategoricalDistribution): 0.05963951849237495<extra></extra>\",\"learning_rate (CategoricalDistribution): 0.07483753952231696<extra></extra>\",\"subsample (CategoricalDistribution): 0.12184020691125724<extra></extra>\",\"alpha (LogUniformDistribution): 0.14854675175928506<extra></extra>\",\"n_estimators (CategoricalDistribution): 0.1697521591167106<extra></extra>\",\"min_child_weight (IntUniformDistribution): 0.33881805545560845<extra></extra>\"],\"marker\":{\"color\":\"rgb(66,146,198)\"},\"orientation\":\"h\",\"text\":[\"0.010443238619429047\",\"0.020878576454890982\",\"0.05524395366812652\",\"0.05963951849237495\",\"0.07483753952231696\",\"0.12184020691125724\",\"0.14854675175928506\",\"0.1697521591167106\",\"0.33881805545560845\"],\"textposition\":\"outside\",\"texttemplate\":\"%{text:.2f}\",\"x\":[0.010443238619429047,0.020878576454890982,0.05524395366812652,0.05963951849237495,0.07483753952231696,0.12184020691125724,0.14854675175928506,0.1697521591167106,0.33881805545560845],\"y\":[\"random_state\",\"lambda\",\"max_depth\",\"colsample_bytree\",\"learning_rate\",\"subsample\",\"alpha\",\"n_estimators\",\"min_child_weight\"],\"type\":\"bar\"}],                        {\"showlegend\":false,\"title\":{\"text\":\"Hyperparameter Importances\"},\"xaxis\":{\"title\":{\"text\":\"Importance for Objective Value\"}},\"yaxis\":{\"title\":{\"text\":\"Hyperparameter\"}},\"template\":{\"data\":{\"bar\":[{\"error_x\":{\"color\":\"#2a3f5f\"},\"error_y\":{\"color\":\"#2a3f5f\"},\"marker\":{\"line\":{\"color\":\"#E5ECF6\",\"width\":0.5},\"pattern\":{\"fillmode\":\"overlay\",\"size\":10,\"solidity\":0.2}},\"type\":\"bar\"}],\"barpolar\":[{\"marker\":{\"line\":{\"color\":\"#E5ECF6\",\"width\":0.5},\"pattern\":{\"fillmode\":\"overlay\",\"size\":10,\"solidity\":0.2}},\"type\":\"barpolar\"}],\"carpet\":[{\"aaxis\":{\"endlinecolor\":\"#2a3f5f\",\"gridcolor\":\"white\",\"linecolor\":\"white\",\"minorgridcolor\":\"white\",\"startlinecolor\":\"#2a3f5f\"},\"baxis\":{\"endlinecolor\":\"#2a3f5f\",\"gridcolor\":\"white\",\"linecolor\":\"white\",\"minorgridcolor\":\"white\",\"startlinecolor\":\"#2a3f5f\"},\"type\":\"carpet\"}],\"choropleth\":[{\"colorbar\":{\"outlinewidth\":0,\"ticks\":\"\"},\"type\":\"choropleth\"}],\"contour\":[{\"colorbar\":{\"outlinewidth\":0,\"ticks\":\"\"},\"colorscale\":[[0.0,\"#0d0887\"],[0.1111111111111111,\"#46039f\"],[0.2222222222222222,\"#7201a8\"],[0.3333333333333333,\"#9c179e\"],[0.4444444444444444,\"#bd3786\"],[0.5555555555555556,\"#d8576b\"],[0.6666666666666666,\"#ed7953\"],[0.7777777777777778,\"#fb9f3a\"],[0.8888888888888888,\"#fdca26\"],[1.0,\"#f0f921\"]],\"type\":\"contour\"}],\"contourcarpet\":[{\"colorbar\":{\"outlinewidth\":0,\"ticks\":\"\"},\"type\":\"contourcarpet\"}],\"heatmap\":[{\"colorbar\":{\"outlinewidth\":0,\"ticks\":\"\"},\"colorscale\":[[0.0,\"#0d0887\"],[0.1111111111111111,\"#46039f\"],[0.2222222222222222,\"#7201a8\"],[0.3333333333333333,\"#9c179e\"],[0.4444444444444444,\"#bd3786\"],[0.5555555555555556,\"#d8576b\"],[0.6666666666666666,\"#ed7953\"],[0.7777777777777778,\"#fb9f3a\"],[0.8888888888888888,\"#fdca26\"],[1.0,\"#f0f921\"]],\"type\":\"heatmap\"}],\"heatmapgl\":[{\"colorbar\":{\"outlinewidth\":0,\"ticks\":\"\"},\"colorscale\":[[0.0,\"#0d0887\"],[0.1111111111111111,\"#46039f\"],[0.2222222222222222,\"#7201a8\"],[0.3333333333333333,\"#9c179e\"],[0.4444444444444444,\"#bd3786\"],[0.5555555555555556,\"#d8576b\"],[0.6666666666666666,\"#ed7953\"],[0.7777777777777778,\"#fb9f3a\"],[0.8888888888888888,\"#fdca26\"],[1.0,\"#f0f921\"]],\"type\":\"heatmapgl\"}],\"histogram\":[{\"marker\":{\"pattern\":{\"fillmode\":\"overlay\",\"size\":10,\"solidity\":0.2}},\"type\":\"histogram\"}],\"histogram2d\":[{\"colorbar\":{\"outlinewidth\":0,\"ticks\":\"\"},\"colorscale\":[[0.0,\"#0d0887\"],[0.1111111111111111,\"#46039f\"],[0.2222222222222222,\"#7201a8\"],[0.3333333333333333,\"#9c179e\"],[0.4444444444444444,\"#bd3786\"],[0.5555555555555556,\"#d8576b\"],[0.6666666666666666,\"#ed7953\"],[0.7777777777777778,\"#fb9f3a\"],[0.8888888888888888,\"#fdca26\"],[1.0,\"#f0f921\"]],\"type\":\"histogram2d\"}],\"histogram2dcontour\":[{\"colorbar\":{\"outlinewidth\":0,\"ticks\":\"\"},\"colorscale\":[[0.0,\"#0d0887\"],[0.1111111111111111,\"#46039f\"],[0.2222222222222222,\"#7201a8\"],[0.3333333333333333,\"#9c179e\"],[0.4444444444444444,\"#bd3786\"],[0.5555555555555556,\"#d8576b\"],[0.6666666666666666,\"#ed7953\"],[0.7777777777777778,\"#fb9f3a\"],[0.8888888888888888,\"#fdca26\"],[1.0,\"#f0f921\"]],\"type\":\"histogram2dcontour\"}],\"mesh3d\":[{\"colorbar\":{\"outlinewidth\":0,\"ticks\":\"\"},\"type\":\"mesh3d\"}],\"parcoords\":[{\"line\":{\"colorbar\":{\"outlinewidth\":0,\"ticks\":\"\"}},\"type\":\"parcoords\"}],\"pie\":[{\"automargin\":true,\"type\":\"pie\"}],\"scatter\":[{\"marker\":{\"colorbar\":{\"outlinewidth\":0,\"ticks\":\"\"}},\"type\":\"scatter\"}],\"scatter3d\":[{\"line\":{\"colorbar\":{\"outlinewidth\":0,\"ticks\":\"\"}},\"marker\":{\"colorbar\":{\"outlinewidth\":0,\"ticks\":\"\"}},\"type\":\"scatter3d\"}],\"scattercarpet\":[{\"marker\":{\"colorbar\":{\"outlinewidth\":0,\"ticks\":\"\"}},\"type\":\"scattercarpet\"}],\"scattergeo\":[{\"marker\":{\"colorbar\":{\"outlinewidth\":0,\"ticks\":\"\"}},\"type\":\"scattergeo\"}],\"scattergl\":[{\"marker\":{\"colorbar\":{\"outlinewidth\":0,\"ticks\":\"\"}},\"type\":\"scattergl\"}],\"scattermapbox\":[{\"marker\":{\"colorbar\":{\"outlinewidth\":0,\"ticks\":\"\"}},\"type\":\"scattermapbox\"}],\"scatterpolar\":[{\"marker\":{\"colorbar\":{\"outlinewidth\":0,\"ticks\":\"\"}},\"type\":\"scatterpolar\"}],\"scatterpolargl\":[{\"marker\":{\"colorbar\":{\"outlinewidth\":0,\"ticks\":\"\"}},\"type\":\"scatterpolargl\"}],\"scatterternary\":[{\"marker\":{\"colorbar\":{\"outlinewidth\":0,\"ticks\":\"\"}},\"type\":\"scatterternary\"}],\"surface\":[{\"colorbar\":{\"outlinewidth\":0,\"ticks\":\"\"},\"colorscale\":[[0.0,\"#0d0887\"],[0.1111111111111111,\"#46039f\"],[0.2222222222222222,\"#7201a8\"],[0.3333333333333333,\"#9c179e\"],[0.4444444444444444,\"#bd3786\"],[0.5555555555555556,\"#d8576b\"],[0.6666666666666666,\"#ed7953\"],[0.7777777777777778,\"#fb9f3a\"],[0.8888888888888888,\"#fdca26\"],[1.0,\"#f0f921\"]],\"type\":\"surface\"}],\"table\":[{\"cells\":{\"fill\":{\"color\":\"#EBF0F8\"},\"line\":{\"color\":\"white\"}},\"header\":{\"fill\":{\"color\":\"#C8D4E3\"},\"line\":{\"color\":\"white\"}},\"type\":\"table\"}]},\"layout\":{\"annotationdefaults\":{\"arrowcolor\":\"#2a3f5f\",\"arrowhead\":0,\"arrowwidth\":1},\"autotypenumbers\":\"strict\",\"coloraxis\":{\"colorbar\":{\"outlinewidth\":0,\"ticks\":\"\"}},\"colorscale\":{\"diverging\":[[0,\"#8e0152\"],[0.1,\"#c51b7d\"],[0.2,\"#de77ae\"],[0.3,\"#f1b6da\"],[0.4,\"#fde0ef\"],[0.5,\"#f7f7f7\"],[0.6,\"#e6f5d0\"],[0.7,\"#b8e186\"],[0.8,\"#7fbc41\"],[0.9,\"#4d9221\"],[1,\"#276419\"]],\"sequential\":[[0.0,\"#0d0887\"],[0.1111111111111111,\"#46039f\"],[0.2222222222222222,\"#7201a8\"],[0.3333333333333333,\"#9c179e\"],[0.4444444444444444,\"#bd3786\"],[0.5555555555555556,\"#d8576b\"],[0.6666666666666666,\"#ed7953\"],[0.7777777777777778,\"#fb9f3a\"],[0.8888888888888888,\"#fdca26\"],[1.0,\"#f0f921\"]],\"sequentialminus\":[[0.0,\"#0d0887\"],[0.1111111111111111,\"#46039f\"],[0.2222222222222222,\"#7201a8\"],[0.3333333333333333,\"#9c179e\"],[0.4444444444444444,\"#bd3786\"],[0.5555555555555556,\"#d8576b\"],[0.6666666666666666,\"#ed7953\"],[0.7777777777777778,\"#fb9f3a\"],[0.8888888888888888,\"#fdca26\"],[1.0,\"#f0f921\"]]},\"colorway\":[\"#636efa\",\"#EF553B\",\"#00cc96\",\"#ab63fa\",\"#FFA15A\",\"#19d3f3\",\"#FF6692\",\"#B6E880\",\"#FF97FF\",\"#FECB52\"],\"font\":{\"color\":\"#2a3f5f\"},\"geo\":{\"bgcolor\":\"white\",\"lakecolor\":\"white\",\"landcolor\":\"#E5ECF6\",\"showlakes\":true,\"showland\":true,\"subunitcolor\":\"white\"},\"hoverlabel\":{\"align\":\"left\"},\"hovermode\":\"closest\",\"mapbox\":{\"style\":\"light\"},\"paper_bgcolor\":\"white\",\"plot_bgcolor\":\"#E5ECF6\",\"polar\":{\"angularaxis\":{\"gridcolor\":\"white\",\"linecolor\":\"white\",\"ticks\":\"\"},\"bgcolor\":\"#E5ECF6\",\"radialaxis\":{\"gridcolor\":\"white\",\"linecolor\":\"white\",\"ticks\":\"\"}},\"scene\":{\"xaxis\":{\"backgroundcolor\":\"#E5ECF6\",\"gridcolor\":\"white\",\"gridwidth\":2,\"linecolor\":\"white\",\"showbackground\":true,\"ticks\":\"\",\"zerolinecolor\":\"white\"},\"yaxis\":{\"backgroundcolor\":\"#E5ECF6\",\"gridcolor\":\"white\",\"gridwidth\":2,\"linecolor\":\"white\",\"showbackground\":true,\"ticks\":\"\",\"zerolinecolor\":\"white\"},\"zaxis\":{\"backgroundcolor\":\"#E5ECF6\",\"gridcolor\":\"white\",\"gridwidth\":2,\"linecolor\":\"white\",\"showbackground\":true,\"ticks\":\"\",\"zerolinecolor\":\"white\"}},\"shapedefaults\":{\"line\":{\"color\":\"#2a3f5f\"}},\"ternary\":{\"aaxis\":{\"gridcolor\":\"white\",\"linecolor\":\"white\",\"ticks\":\"\"},\"baxis\":{\"gridcolor\":\"white\",\"linecolor\":\"white\",\"ticks\":\"\"},\"bgcolor\":\"#E5ECF6\",\"caxis\":{\"gridcolor\":\"white\",\"linecolor\":\"white\",\"ticks\":\"\"}},\"title\":{\"x\":0.05},\"xaxis\":{\"automargin\":true,\"gridcolor\":\"white\",\"linecolor\":\"white\",\"ticks\":\"\",\"title\":{\"standoff\":15},\"zerolinecolor\":\"white\",\"zerolinewidth\":2},\"yaxis\":{\"automargin\":true,\"gridcolor\":\"white\",\"linecolor\":\"white\",\"ticks\":\"\",\"title\":{\"standoff\":15},\"zerolinecolor\":\"white\",\"zerolinewidth\":2}}}},                        {\"responsive\": true}                    ).then(function(){\n",
       "                            \n",
       "var gd = document.getElementById('ca938fad-e04e-4134-b6cd-b5950587a54c');\n",
       "var x = new MutationObserver(function (mutations, observer) {{\n",
       "        var display = window.getComputedStyle(gd).display;\n",
       "        if (!display || display === 'none') {{\n",
       "            console.log([gd, 'removed!']);\n",
       "            Plotly.purge(gd);\n",
       "            observer.disconnect();\n",
       "        }}\n",
       "}});\n",
       "\n",
       "// Listen for the removal of the full notebook cells\n",
       "var notebookContainer = gd.closest('#notebook-container');\n",
       "if (notebookContainer) {{\n",
       "    x.observe(notebookContainer, {childList: true});\n",
       "}}\n",
       "\n",
       "// Listen for the clearing of the current output cell\n",
       "var outputEl = gd.closest('.output');\n",
       "if (outputEl) {{\n",
       "    x.observe(outputEl, {childList: true});\n",
       "}}\n",
       "\n",
       "                        })                };                });            </script>        </div>"
      ]
     },
     "metadata": {},
     "output_type": "display_data"
    }
   ],
   "source": [
    "def objectiveXB(trial):\n",
    "    # train_X, train_y = train_set.drop('CASHING_SUM',axis=1), train_set['CASHING_SUM']\n",
    "    # test_X, test_y = test_set.drop('CASHING_SUM',axis=1), test_set['CASHING_SUM']\n",
    "    param = {\n",
    "        # 'tree_method':'gpu_hist',  # this parameter means using the GPU when training our model to speedup the training process\n",
    "        'lambda': trial.suggest_loguniform('lambda', 1e-3, 10.0),\n",
    "        'alpha': trial.suggest_loguniform('alpha', 1e-3, 10.0),\n",
    "        'colsample_bytree': trial.suggest_categorical('colsample_bytree', [0.3,0.4,0.5,0.6,0.7,0.8,0.9, 1.0]),\n",
    "        'subsample': trial.suggest_categorical('subsample', [0.4,0.5,0.6,0.7,0.8,1.0]),\n",
    "        'learning_rate': trial.suggest_categorical('learning_rate', [0.008,0.009,0.01,0.012,0.014,0.016,0.018, 0.02]),\n",
    "        'n_estimators': trial.suggest_categorical('n_estimators', [90,95,100,150,200,300,400,500,800,1000]),\n",
    "        'max_depth': trial.suggest_categorical('max_depth', [5,7,9,11,13,15,17,20]),\n",
    "        'random_state': trial.suggest_categorical('random_state', [24, 48,2020]),\n",
    "        'min_child_weight': trial.suggest_int('min_child_weight', 1, 300),\n",
    "    }\n",
    "    model = XGBR(**param)  \n",
    "    model.fit(train_X.values,train_y,eval_set=[(test_X.values,test_y)],verbose=False)\n",
    "    preds = model.predict(test_X.values)\n",
    "    mape = MAPE(test_y, preds)\n",
    "    return mape\n",
    "study = optuna.create_study(direction='minimize')\n",
    "study.optimize(objectiveXB, n_trials=50) # trial 实验数\n",
    "optuna.visualization.plot_optimization_history(study).show()\n",
    "optuna.visualization.plot_parallel_coordinate(study).show()\n",
    "optuna.visualization.plot_param_importances(study).show()\n",
    "params=study.best_params"
   ]
  },
  {
   "cell_type": "code",
   "execution_count": 10,
   "id": "36199e1b",
   "metadata": {},
   "outputs": [
    {
     "data": {
      "text/plain": [
       "{'lambda': 0.008843577288202694,\n",
       " 'alpha': 0.01850229171980794,\n",
       " 'colsample_bytree': 0.9,\n",
       " 'subsample': 0.4,\n",
       " 'learning_rate': 0.02,\n",
       " 'n_estimators': 400,\n",
       " 'max_depth': 7,\n",
       " 'random_state': 48,\n",
       " 'min_child_weight': 3}"
      ]
     },
     "execution_count": 10,
     "metadata": {},
     "output_type": "execute_result"
    }
   ],
   "source": [
    "params"
   ]
  },
  {
   "cell_type": "code",
   "execution_count": 13,
   "id": "da99ac26",
   "metadata": {},
   "outputs": [
    {
     "data": {
      "text/plain": [
       "<function matplotlib.pyplot.show(close=None, block=None)>"
      ]
     },
     "execution_count": 13,
     "metadata": {},
     "output_type": "execute_result"
    },
    {
     "data": {
      "image/png": "[encoded data removed]",
      "text/plain": [
       "<Figure size 432x288 with 1 Axes>"
      ]
     },
     "metadata": {
      "needs_background": "light"
     },
     "output_type": "display_data"
    }
   ],
   "source": [
    "model = XGBR(**params)  \n",
    "model.fit(train_X.values,train_y)\n",
    "preds = model.predict(test_X.values)\n",
    "mape = MAPE(test_y, preds)\n",
    "plt.title(f\"mape:{round(mape*100,2)}\")\n",
    "plt.plot(test_y.index,test_y.values)\n",
    "plt.plot(test_y.index,preds)\n",
    "plt.show"
   ]
  },
  {
   "cell_type": "code",
   "execution_count": null,
   "id": "89ff0cff",
   "metadata": {},
   "outputs": [],
   "source": []
  }
 ],
 "metadata": {
  "kernelspec": {
   "display_name": "Python 3 (ipykernel)",
   "language": "python",
   "name": "python3"
  },
  "language_info": {
   "codemirror_mode": {
    "name": "ipython",
    "version": 3
   },
   "file_extension": ".py",
   "mimetype": "text/x-python",
   "name": "python",
   "nbconvert_exporter": "python",
   "pygments_lexer": "ipython3",
   "version": "3.8.12"
  }
 },
 "nbformat": 4,
 "nbformat_minor": 5
}
