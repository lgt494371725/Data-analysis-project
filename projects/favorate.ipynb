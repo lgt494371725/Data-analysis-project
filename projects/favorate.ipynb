{
 "cells": [
  {
   "cell_type": "code",
   "execution_count": 1,
   "id": "bc94c159",
   "metadata": {
    "_cell_guid": "b1076dfc-b9ad-4769-8c92-a6c4dae69d19",
    "_uuid": "8f2839f25d086af736a60e9eeb907d3b93b6e0e5",
    "execution": {
     "iopub.execute_input": "2021-11-26T04:02:46.742906Z",
     "iopub.status.busy": "2021-11-26T04:02:46.741642Z",
     "iopub.status.idle": "2021-11-26T04:02:46.758253Z",
     "shell.execute_reply": "2021-11-26T04:02:46.758787Z",
     "shell.execute_reply.started": "2021-11-26T02:59:12.229623Z"
    },
    "papermill": {
     "duration": 0.057973,
     "end_time": "2021-11-26T04:02:46.759079",
     "exception": false,
     "start_time": "2021-11-26T04:02:46.701106",
     "status": "completed"
    },
    "tags": []
   },
   "outputs": [
    {
     "name": "stdout",
     "output_type": "stream",
     "text": [
      "/kaggle/input/favorita-grocery-sales-forecasting/test.csv.7z\n",
      "/kaggle/input/favorita-grocery-sales-forecasting/stores.csv.7z\n",
      "/kaggle/input/favorita-grocery-sales-forecasting/items.csv.7z\n",
      "/kaggle/input/favorita-grocery-sales-forecasting/holidays_events.csv.7z\n",
      "/kaggle/input/favorita-grocery-sales-forecasting/transactions.csv.7z\n",
      "/kaggle/input/favorita-grocery-sales-forecasting/train.csv.7z\n",
      "/kaggle/input/favorita-grocery-sales-forecasting/oil.csv.7z\n",
      "/kaggle/input/favorita-grocery-sales-forecasting/sample_submission.csv.7z\n"
     ]
    }
   ],
   "source": [
    "# This Python 3 environment comes with many helpful analytics libraries installed\n",
    "# It is defined by the kaggle/python Docker image: https://github.com/kaggle/docker-python\n",
    "# For example, here's several helpful packages to load\n",
    "\n",
    "import numpy as np # linear algebra\n",
    "import pandas as pd # data processing, CSV file I/O (e.g. pd.read_csv)\n",
    "\n",
    "# Input data files are available in the read-only \"../input/\" directory\n",
    "# For example, running this (by clicking run or pressing Shift+Enter) will list all files under the input directory\n",
    "\n",
    "import os\n",
    "for dirname, _, filenames in os.walk('/kaggle/input'):\n",
    "    for filename in filenames:\n",
    "        print(os.path.join(dirname, filename))\n",
    "\n",
    "# You can write up to 20GB to the current directory (/kaggle/working/) that gets preserved as output when you create a version using \"Save & Run All\" \n",
    "# You can also write temporary files to /kaggle/temp/, but they won't be saved outside of the current session"
   ]
  },
  {
   "cell_type": "code",
   "execution_count": 2,
   "id": "c2836b6a",
   "metadata": {
    "execution": {
     "iopub.execute_input": "2021-11-26T04:02:46.836620Z",
     "iopub.status.busy": "2021-11-26T04:02:46.835936Z",
     "iopub.status.idle": "2021-11-26T04:02:47.785531Z",
     "shell.execute_reply": "2021-11-26T04:02:47.784948Z",
     "shell.execute_reply.started": "2021-11-26T02:59:19.716194Z"
    },
    "papermill": {
     "duration": 0.989158,
     "end_time": "2021-11-26T04:02:47.785684",
     "exception": false,
     "start_time": "2021-11-26T04:02:46.796526",
     "status": "completed"
    },
    "tags": []
   },
   "outputs": [],
   "source": [
    "import matplotlib.pyplot as plt\n",
    "import seaborn as sns\n",
    "%matplotlib inline"
   ]
  },
  {
   "cell_type": "code",
   "execution_count": 3,
   "id": "dda5ac40",
   "metadata": {
    "execution": {
     "iopub.execute_input": "2021-11-26T04:02:47.868189Z",
     "iopub.status.busy": "2021-11-26T04:02:47.867512Z",
     "iopub.status.idle": "2021-11-26T04:04:36.863113Z",
     "shell.execute_reply": "2021-11-26T04:04:36.862275Z",
     "shell.execute_reply.started": "2021-11-26T02:59:23.321276Z"
    },
    "papermill": {
     "duration": 109.039794,
     "end_time": "2021-11-26T04:04:36.863293",
     "exception": false,
     "start_time": "2021-11-26T04:02:47.823499",
     "status": "completed"
    },
    "tags": []
   },
   "outputs": [
    {
     "name": "stdout",
     "output_type": "stream",
     "text": [
      "Collecting py7zr\r\n",
      "  Downloading py7zr-0.16.3-py3-none-any.whl (67 kB)\r\n",
      "\u001b[K     |████████████████████████████████| 67 kB 834 kB/s \r\n",
      "\u001b[?25hRequirement already satisfied: texttable in /opt/conda/lib/python3.7/site-packages (from py7zr) (1.6.4)\r\n",
      "Collecting pyzstd>=0.14.4\r\n",
      "  Downloading pyzstd-0.15.0-cp37-cp37m-manylinux_2_17_x86_64.manylinux2014_x86_64.whl (2.8 MB)\r\n",
      "\u001b[K     |████████████████████████████████| 2.8 MB 1.8 MB/s \r\n",
      "\u001b[?25hCollecting multivolumefile>=0.2.3\r\n",
      "  Downloading multivolumefile-0.2.3-py3-none-any.whl (17 kB)\r\n",
      "Collecting brotli>=1.0.9\r\n",
      "  Downloading Brotli-1.0.9-cp37-cp37m-manylinux1_x86_64.whl (357 kB)\r\n",
      "\u001b[K     |████████████████████████████████| 357 kB 44.3 MB/s \r\n",
      "\u001b[?25hRequirement already satisfied: importlib-metadata in /opt/conda/lib/python3.7/site-packages (from py7zr) (4.8.1)\r\n",
      "Collecting pyppmd>=0.17.0\r\n",
      "  Downloading pyppmd-0.17.3-cp37-cp37m-manylinux_2_17_x86_64.manylinux2014_x86_64.whl (126 kB)\r\n",
      "\u001b[K     |████████████████████████████████| 126 kB 57.2 MB/s \r\n",
      "\u001b[?25hCollecting pycryptodomex>=3.6.6\r\n",
      "  Downloading pycryptodomex-3.11.0-cp35-abi3-manylinux2010_x86_64.whl (1.9 MB)\r\n",
      "\u001b[K     |████████████████████████████████| 1.9 MB 69.0 MB/s \r\n",
      "\u001b[?25hCollecting pybcj>=0.5.0\r\n",
      "  Downloading pybcj-0.5.0-cp37-cp37m-manylinux_2_17_x86_64.manylinux2014_x86_64.whl (48 kB)\r\n",
      "\u001b[K     |████████████████████████████████| 48 kB 3.7 MB/s \r\n",
      "\u001b[?25hRequirement already satisfied: typing-extensions>=3.6.4 in /opt/conda/lib/python3.7/site-packages (from importlib-metadata->py7zr) (3.10.0.2)\r\n",
      "Requirement already satisfied: zipp>=0.5 in /opt/conda/lib/python3.7/site-packages (from importlib-metadata->py7zr) (3.5.0)\r\n",
      "Installing collected packages: pyzstd, pyppmd, pycryptodomex, pybcj, multivolumefile, brotli, py7zr\r\n",
      "Successfully installed brotli-1.0.9 multivolumefile-0.2.3 py7zr-0.16.3 pybcj-0.5.0 pycryptodomex-3.11.0 pyppmd-0.17.3 pyzstd-0.15.0\r\n",
      "\u001b[33mWARNING: Running pip as the 'root' user can result in broken permissions and conflicting behaviour with the system package manager. It is recommended to use a virtual environment instead: https://pip.pypa.io/warnings/venv\u001b[0m\r\n"
     ]
    }
   ],
   "source": [
    "!pip install py7zr\n",
    "import py7zr\n",
    "base_path = r'/kaggle/input/favorita-grocery-sales-forecasting/'\n",
    "files = ['stores','items','holidays_events','transactions','train','oil','sample_submission','test']\n",
    "files = [base_path+file+'.csv.7z' for file in files]\n",
    "for file in files:\n",
    "    temp = py7zr.SevenZipFile(file,'r')\n",
    "    temp.extractall(path=r'./')\n",
    "    temp.close()"
   ]
  },
  {
   "cell_type": "markdown",
   "id": "fe80dae8",
   "metadata": {
    "papermill": {
     "duration": 0.045984,
     "end_time": "2021-11-26T04:04:36.956776",
     "exception": false,
     "start_time": "2021-11-26T04:04:36.910792",
     "status": "completed"
    },
    "tags": []
   },
   "source": [
    "# EDA"
   ]
  },
  {
   "cell_type": "code",
   "execution_count": 4,
   "id": "f1729a6a",
   "metadata": {
    "execution": {
     "iopub.execute_input": "2021-11-26T04:04:37.056608Z",
     "iopub.status.busy": "2021-11-26T04:04:37.055851Z",
     "iopub.status.idle": "2021-11-26T04:04:41.819734Z",
     "shell.execute_reply": "2021-11-26T04:04:41.818639Z",
     "shell.execute_reply.started": "2021-11-26T01:22:40.848959Z"
    },
    "papermill": {
     "duration": 4.816655,
     "end_time": "2021-11-26T04:04:41.819892",
     "exception": false,
     "start_time": "2021-11-26T04:04:37.003237",
     "status": "completed"
    },
    "tags": []
   },
   "outputs": [],
   "source": [
    "items = pd.read_csv(\"items.csv\")\n",
    "holiday_events = pd.read_csv(\"holidays_events.csv\")\n",
    "stores = pd.read_csv(\"stores.csv\")\n",
    "oil = pd.read_csv(\"oil.csv\",parse_dates=['date'])\n",
    "transactions = pd.read_csv(\"transactions.csv\",parse_dates=['date'])\n",
    "# Read in the full training data just to get prior information and here is the output:\n",
    "# Output: \"125,497,040 rows | 6 columns\"\n",
    "train = pd.read_csv(\"train.csv\", nrows=6000000, parse_dates=['date'])"
   ]
  },
  {
   "cell_type": "code",
   "execution_count": 5,
   "id": "4968a294",
   "metadata": {
    "execution": {
     "iopub.execute_input": "2021-11-26T04:04:41.982001Z",
     "iopub.status.busy": "2021-11-26T04:04:41.981283Z",
     "iopub.status.idle": "2021-11-26T04:04:42.003277Z",
     "shell.execute_reply": "2021-11-26T04:04:42.002682Z",
     "shell.execute_reply.started": "2021-11-26T01:22:46.208398Z"
    },
    "papermill": {
     "duration": 0.136569,
     "end_time": "2021-11-26T04:04:42.003443",
     "exception": false,
     "start_time": "2021-11-26T04:04:41.866874",
     "status": "completed"
    },
    "tags": []
   },
   "outputs": [
    {
     "data": {
      "text/html": [
       "<div>\n",
       "<style scoped>\n",
       "    .dataframe tbody tr th:only-of-type {\n",
       "        vertical-align: middle;\n",
       "    }\n",
       "\n",
       "    .dataframe tbody tr th {\n",
       "        vertical-align: top;\n",
       "    }\n",
       "\n",
       "    .dataframe thead th {\n",
       "        text-align: right;\n",
       "    }\n",
       "</style>\n",
       "<table border=\"1\" class=\"dataframe\">\n",
       "  <thead>\n",
       "    <tr style=\"text-align: right;\">\n",
       "      <th></th>\n",
       "      <th>id</th>\n",
       "      <th>date</th>\n",
       "      <th>store_nbr</th>\n",
       "      <th>item_nbr</th>\n",
       "      <th>unit_sales</th>\n",
       "      <th>onpromotion</th>\n",
       "    </tr>\n",
       "  </thead>\n",
       "  <tbody>\n",
       "    <tr>\n",
       "      <th>0</th>\n",
       "      <td>0</td>\n",
       "      <td>2013-01-01</td>\n",
       "      <td>25</td>\n",
       "      <td>103665</td>\n",
       "      <td>7.0</td>\n",
       "      <td>NaN</td>\n",
       "    </tr>\n",
       "    <tr>\n",
       "      <th>1</th>\n",
       "      <td>1</td>\n",
       "      <td>2013-01-01</td>\n",
       "      <td>25</td>\n",
       "      <td>105574</td>\n",
       "      <td>1.0</td>\n",
       "      <td>NaN</td>\n",
       "    </tr>\n",
       "    <tr>\n",
       "      <th>2</th>\n",
       "      <td>2</td>\n",
       "      <td>2013-01-01</td>\n",
       "      <td>25</td>\n",
       "      <td>105575</td>\n",
       "      <td>2.0</td>\n",
       "      <td>NaN</td>\n",
       "    </tr>\n",
       "    <tr>\n",
       "      <th>3</th>\n",
       "      <td>3</td>\n",
       "      <td>2013-01-01</td>\n",
       "      <td>25</td>\n",
       "      <td>108079</td>\n",
       "      <td>1.0</td>\n",
       "      <td>NaN</td>\n",
       "    </tr>\n",
       "    <tr>\n",
       "      <th>4</th>\n",
       "      <td>4</td>\n",
       "      <td>2013-01-01</td>\n",
       "      <td>25</td>\n",
       "      <td>108701</td>\n",
       "      <td>1.0</td>\n",
       "      <td>NaN</td>\n",
       "    </tr>\n",
       "  </tbody>\n",
       "</table>\n",
       "</div>"
      ],
      "text/plain": [
       "   id       date  store_nbr  item_nbr  unit_sales  onpromotion\n",
       "0   0 2013-01-01         25    103665         7.0          NaN\n",
       "1   1 2013-01-01         25    105574         1.0          NaN\n",
       "2   2 2013-01-01         25    105575         2.0          NaN\n",
       "3   3 2013-01-01         25    108079         1.0          NaN\n",
       "4   4 2013-01-01         25    108701         1.0          NaN"
      ]
     },
     "execution_count": 5,
     "metadata": {},
     "output_type": "execute_result"
    }
   ],
   "source": [
    "train.head(5)"
   ]
  },
  {
   "cell_type": "markdown",
   "id": "b34c14e1",
   "metadata": {
    "papermill": {
     "duration": 0.047564,
     "end_time": "2021-11-26T04:04:42.100328",
     "exception": false,
     "start_time": "2021-11-26T04:04:42.052764",
     "status": "completed"
    },
    "tags": []
   },
   "source": [
    "**Check null values**"
   ]
  },
  {
   "cell_type": "code",
   "execution_count": 6,
   "id": "719f77e1",
   "metadata": {
    "execution": {
     "iopub.execute_input": "2021-11-26T04:04:42.198392Z",
     "iopub.status.busy": "2021-11-26T04:04:42.197731Z",
     "iopub.status.idle": "2021-11-26T04:04:42.211046Z",
     "shell.execute_reply": "2021-11-26T04:04:42.211859Z",
     "shell.execute_reply.started": "2021-11-26T01:23:28.826605Z"
    },
    "papermill": {
     "duration": 0.064195,
     "end_time": "2021-11-26T04:04:42.212056",
     "exception": false,
     "start_time": "2021-11-26T04:04:42.147861",
     "status": "completed"
    },
    "tags": []
   },
   "outputs": [
    {
     "name": "stdout",
     "output_type": "stream",
     "text": [
      "Nulls in Oil columns: ['date' 'dcoilwtico'] => [False  True]\n",
      "======================================================================\n",
      "Nulls in holiday_events columns: ['date' 'type' 'locale' 'locale_name' 'description' 'transferred'] => [False False False False False False]\n",
      "======================================================================\n",
      "Nulls in stores columns: ['store_nbr' 'city' 'state' 'type' 'cluster'] => [False False False False False]\n",
      "======================================================================\n",
      "Nulls in transactions columns: ['date' 'store_nbr' 'transactions'] => [False False False]\n"
     ]
    }
   ],
   "source": [
    "print(\"Nulls in Oil columns: {0} => {1}\".format(oil.columns.values,oil.isnull().any().values))\n",
    "print(\"=\"*70)\n",
    "print(\"Nulls in holiday_events columns: {0} => {1}\".format(holiday_events.columns.values,holiday_events.isnull().any().values))\n",
    "print(\"=\"*70)\n",
    "print(\"Nulls in stores columns: {0} => {1}\".format(stores.columns.values,stores.isnull().any().values))\n",
    "print(\"=\"*70)\n",
    "print(\"Nulls in transactions columns: {0} => {1}\".format(transactions.columns.values,transactions.isnull().any().values))"
   ]
  },
  {
   "cell_type": "markdown",
   "id": "25545541",
   "metadata": {
    "papermill": {
     "duration": 0.047016,
     "end_time": "2021-11-26T04:04:42.306609",
     "exception": false,
     "start_time": "2021-11-26T04:04:42.259593",
     "status": "completed"
    },
    "tags": []
   },
   "source": [
    "only one column in Oil has null value"
   ]
  },
  {
   "cell_type": "markdown",
   "id": "113f0dcd",
   "metadata": {
    "papermill": {
     "duration": 0.047182,
     "end_time": "2021-11-26T04:04:42.401091",
     "exception": false,
     "start_time": "2021-11-26T04:04:42.353909",
     "status": "completed"
    },
    "tags": []
   },
   "source": [
    "## oil_data"
   ]
  },
  {
   "cell_type": "code",
   "execution_count": 7,
   "id": "51d6c10d",
   "metadata": {
    "execution": {
     "iopub.execute_input": "2021-11-26T04:04:42.499596Z",
     "iopub.status.busy": "2021-11-26T04:04:42.498925Z",
     "iopub.status.idle": "2021-11-26T04:04:42.847945Z",
     "shell.execute_reply": "2021-11-26T04:04:42.848458Z",
     "shell.execute_reply.started": "2021-11-26T01:23:35.563489Z"
    },
    "papermill": {
     "duration": 0.400198,
     "end_time": "2021-11-26T04:04:42.848663",
     "exception": false,
     "start_time": "2021-11-26T04:04:42.448465",
     "status": "completed"
    },
    "tags": []
   },
   "outputs": [
    {
     "data": {
      "text/plain": [
       "<AxesSubplot:xlabel='date'>"
      ]
     },
     "execution_count": 7,
     "metadata": {},
     "output_type": "execute_result"
    },
    {
     "data": {
      "image/png": "[encoded data removed]",
      "text/plain": [
       "<Figure size 432x288 with 1 Axes>"
      ]
     },
     "metadata": {
      "needs_background": "light"
     },
     "output_type": "display_data"
    }
   ],
   "source": [
    "oil.set_index('date').plot()"
   ]
  },
  {
   "cell_type": "markdown",
   "id": "8bc6792f",
   "metadata": {
    "papermill": {
     "duration": 0.049597,
     "end_time": "2021-11-26T04:04:42.948850",
     "exception": false,
     "start_time": "2021-11-26T04:04:42.899253",
     "status": "completed"
    },
    "tags": []
   },
   "source": [
    "## stores data"
   ]
  },
  {
   "cell_type": "code",
   "execution_count": 8,
   "id": "f8225de0",
   "metadata": {
    "execution": {
     "iopub.execute_input": "2021-11-26T04:04:43.057968Z",
     "iopub.status.busy": "2021-11-26T04:04:43.057187Z",
     "iopub.status.idle": "2021-11-26T04:04:43.061397Z",
     "shell.execute_reply": "2021-11-26T04:04:43.060842Z",
     "shell.execute_reply.started": "2021-11-26T01:23:36.758756Z"
    },
    "papermill": {
     "duration": 0.061684,
     "end_time": "2021-11-26T04:04:43.061564",
     "exception": false,
     "start_time": "2021-11-26T04:04:42.999880",
     "status": "completed"
    },
    "tags": []
   },
   "outputs": [
    {
     "name": "stdout",
     "output_type": "stream",
     "text": [
      "   store_nbr           city                           state type  cluster\n",
      "0          1          Quito                       Pichincha    D       13\n",
      "1          2          Quito                       Pichincha    D       13\n",
      "2          3          Quito                       Pichincha    D        8\n",
      "3          4          Quito                       Pichincha    D        9\n",
      "4          5  Santo Domingo  Santo Domingo de los Tsachilas    D        4\n",
      "(54, 5)\n"
     ]
    }
   ],
   "source": [
    "print(stores.head(5))\n",
    "print(stores.shape)"
   ]
  },
  {
   "cell_type": "code",
   "execution_count": 9,
   "id": "d9c7f422",
   "metadata": {
    "execution": {
     "iopub.execute_input": "2021-11-26T04:04:43.166698Z",
     "iopub.status.busy": "2021-11-26T04:04:43.165973Z",
     "iopub.status.idle": "2021-11-26T04:04:43.170581Z",
     "shell.execute_reply": "2021-11-26T04:04:43.169831Z",
     "shell.execute_reply.started": "2021-11-26T01:23:38.627693Z"
    },
    "papermill": {
     "duration": 0.058955,
     "end_time": "2021-11-26T04:04:43.170779",
     "exception": false,
     "start_time": "2021-11-26T04:04:43.111824",
     "status": "completed"
    },
    "tags": []
   },
   "outputs": [
    {
     "name": "stdout",
     "output_type": "stream",
     "text": [
      "[1, 2, 3, 4, 5, 6, 7, 8, 9, 10, 11, 12, 13, 14, 15, 16, 17]\n"
     ]
    }
   ],
   "source": [
    "cluster_ = stores.cluster.unique()\n",
    "print(sorted(cluster_))"
   ]
  },
  {
   "cell_type": "code",
   "execution_count": 10,
   "id": "d40bedd0",
   "metadata": {
    "execution": {
     "iopub.execute_input": "2021-11-26T04:04:43.318207Z",
     "iopub.status.busy": "2021-11-26T04:04:43.317510Z",
     "iopub.status.idle": "2021-11-26T04:04:43.631306Z",
     "shell.execute_reply": "2021-11-26T04:04:43.630691Z",
     "shell.execute_reply.started": "2021-11-26T01:23:39.822448Z"
    },
    "papermill": {
     "duration": 0.410502,
     "end_time": "2021-11-26T04:04:43.631452",
     "exception": false,
     "start_time": "2021-11-26T04:04:43.220950",
     "status": "completed"
    },
    "tags": []
   },
   "outputs": [
    {
     "data": {
      "text/plain": [
       "<AxesSubplot:>"
      ]
     },
     "execution_count": 10,
     "metadata": {},
     "output_type": "execute_result"
    },
    {
     "data": {
      "image/png": "[encoded data removed]",
      "text/plain": [
       "<Figure size 432x288 with 1 Axes>"
      ]
     },
     "metadata": {
      "needs_background": "light"
     },
     "output_type": "display_data"
    }
   ],
   "source": [
    "stores.city.value_counts().plot.bar()"
   ]
  },
  {
   "cell_type": "code",
   "execution_count": 11,
   "id": "e1cc2f2e",
   "metadata": {
    "execution": {
     "iopub.execute_input": "2021-11-26T04:04:43.737306Z",
     "iopub.status.busy": "2021-11-26T04:04:43.736303Z",
     "iopub.status.idle": "2021-11-26T04:04:44.045366Z",
     "shell.execute_reply": "2021-11-26T04:04:44.044808Z",
     "shell.execute_reply.started": "2021-11-26T01:23:40.474572Z"
    },
    "papermill": {
     "duration": 0.362812,
     "end_time": "2021-11-26T04:04:44.045527",
     "exception": false,
     "start_time": "2021-11-26T04:04:43.682715",
     "status": "completed"
    },
    "tags": []
   },
   "outputs": [
    {
     "data": {
      "text/plain": [
       "<AxesSubplot:>"
      ]
     },
     "execution_count": 11,
     "metadata": {},
     "output_type": "execute_result"
    },
    {
     "data": {
      "image/png": "[encoded data removed]",
      "text/plain": [
       "<Figure size 432x288 with 1 Axes>"
      ]
     },
     "metadata": {
      "needs_background": "light"
     },
     "output_type": "display_data"
    }
   ],
   "source": [
    "stores.state.value_counts().plot.bar()"
   ]
  },
  {
   "cell_type": "code",
   "execution_count": 12,
   "id": "95718306",
   "metadata": {
    "execution": {
     "iopub.execute_input": "2021-11-26T04:04:44.153758Z",
     "iopub.status.busy": "2021-11-26T04:04:44.152744Z",
     "iopub.status.idle": "2021-11-26T04:04:44.159657Z",
     "shell.execute_reply": "2021-11-26T04:04:44.160188Z",
     "shell.execute_reply.started": "2021-11-26T01:23:47.132895Z"
    },
    "papermill": {
     "duration": 0.062318,
     "end_time": "2021-11-26T04:04:44.160366",
     "exception": false,
     "start_time": "2021-11-26T04:04:44.098048",
     "status": "completed"
    },
    "tags": []
   },
   "outputs": [
    {
     "data": {
      "text/plain": [
       "3     7\n",
       "6     6\n",
       "10    6\n",
       "15    5\n",
       "13    4\n",
       "14    4\n",
       "11    3\n",
       "4     3\n",
       "8     3\n",
       "1     3\n",
       "9     2\n",
       "7     2\n",
       "2     2\n",
       "12    1\n",
       "5     1\n",
       "16    1\n",
       "17    1\n",
       "Name: cluster, dtype: int64"
      ]
     },
     "execution_count": 12,
     "metadata": {},
     "output_type": "execute_result"
    }
   ],
   "source": [
    "stores.cluster.value_counts()"
   ]
  },
  {
   "cell_type": "markdown",
   "id": "440c0098",
   "metadata": {
    "papermill": {
     "duration": 0.052586,
     "end_time": "2021-11-26T04:04:44.266891",
     "exception": false,
     "start_time": "2021-11-26T04:04:44.214305",
     "status": "completed"
    },
    "tags": []
   },
   "source": [
    "From visualising the store numbers side-by-side based on the clustering, we can identify certain patterns. For example clusters 3, 6, 10 and 15 are the most common store clusters based off the fact that there are more store_nbrs attributed to them then the others while on the other end of the spectrum, we have clusters 5 and 17 which are only related to the stores 44 and 51 respectively."
   ]
  },
  {
   "cell_type": "code",
   "execution_count": 13,
   "id": "3003bddd",
   "metadata": {
    "execution": {
     "iopub.execute_input": "2021-11-26T04:04:44.378042Z",
     "iopub.status.busy": "2021-11-26T04:04:44.377362Z",
     "iopub.status.idle": "2021-11-26T04:04:44.945258Z",
     "shell.execute_reply": "2021-11-26T04:04:44.944630Z",
     "shell.execute_reply.started": "2021-11-26T01:23:49.349926Z"
    },
    "papermill": {
     "duration": 0.623131,
     "end_time": "2021-11-26T04:04:44.945401",
     "exception": false,
     "start_time": "2021-11-26T04:04:44.322270",
     "status": "completed"
    },
    "tags": []
   },
   "outputs": [
    {
     "data": {
      "text/plain": [
       "<AxesSubplot:xlabel='cluster'>"
      ]
     },
     "execution_count": 13,
     "metadata": {},
     "output_type": "execute_result"
    },
    {
     "data": {
      "image/png": "[encoded data removed]",
      "text/plain": [
       "<Figure size 432x288 with 1 Axes>"
      ]
     },
     "metadata": {
      "needs_background": "light"
     },
     "output_type": "display_data"
    }
   ],
   "source": [
    "stores.groupby(['cluster','type']).size().unstack().plot(kind='bar',stacked=True)"
   ]
  },
  {
   "cell_type": "code",
   "execution_count": 14,
   "id": "6cc4e5c3",
   "metadata": {
    "execution": {
     "iopub.execute_input": "2021-11-26T04:04:45.059377Z",
     "iopub.status.busy": "2021-11-26T04:04:45.058663Z",
     "iopub.status.idle": "2021-11-26T04:04:45.637759Z",
     "shell.execute_reply": "2021-11-26T04:04:45.637152Z",
     "shell.execute_reply.started": "2021-11-26T01:23:49.931269Z"
    },
    "papermill": {
     "duration": 0.63898,
     "end_time": "2021-11-26T04:04:45.637916",
     "exception": false,
     "start_time": "2021-11-26T04:04:44.998936",
     "status": "completed"
    },
    "tags": []
   },
   "outputs": [
    {
     "data": {
      "text/plain": [
       "<AxesSubplot:xlabel='type'>"
      ]
     },
     "execution_count": 14,
     "metadata": {},
     "output_type": "execute_result"
    },
    {
     "data": {
      "image/png": "[encoded data removed]",
      "text/plain": [
       "<Figure size 432x288 with 1 Axes>"
      ]
     },
     "metadata": {
      "needs_background": "light"
     },
     "output_type": "display_data"
    }
   ],
   "source": [
    "stores.groupby(['type','cluster']).size().unstack().plot(kind='bar',stacked=True)"
   ]
  },
  {
   "cell_type": "markdown",
   "id": "ce615024",
   "metadata": {
    "papermill": {
     "duration": 1.410298,
     "end_time": "2021-11-26T04:04:47.103578",
     "exception": false,
     "start_time": "2021-11-26T04:04:45.693280",
     "status": "completed"
    },
    "tags": []
   },
   "source": [
    "Most of the store types seem to contain a mix of the clusters,"
   ]
  },
  {
   "cell_type": "markdown",
   "id": "75f7184b",
   "metadata": {
    "papermill": {
     "duration": 0.054173,
     "end_time": "2021-11-26T04:04:47.213612",
     "exception": false,
     "start_time": "2021-11-26T04:04:47.159439",
     "status": "completed"
    },
    "tags": []
   },
   "source": [
    "## holidays_events"
   ]
  },
  {
   "cell_type": "code",
   "execution_count": 15,
   "id": "fbcb8000",
   "metadata": {
    "execution": {
     "iopub.execute_input": "2021-11-26T04:04:47.333619Z",
     "iopub.status.busy": "2021-11-26T04:04:47.332615Z",
     "iopub.status.idle": "2021-11-26T04:04:47.346897Z",
     "shell.execute_reply": "2021-11-26T04:04:47.347575Z",
     "shell.execute_reply.started": "2021-11-26T01:23:55.575682Z"
    },
    "papermill": {
     "duration": 0.079771,
     "end_time": "2021-11-26T04:04:47.347801",
     "exception": false,
     "start_time": "2021-11-26T04:04:47.268030",
     "status": "completed"
    },
    "tags": []
   },
   "outputs": [
    {
     "data": {
      "text/html": [
       "<div>\n",
       "<style scoped>\n",
       "    .dataframe tbody tr th:only-of-type {\n",
       "        vertical-align: middle;\n",
       "    }\n",
       "\n",
       "    .dataframe tbody tr th {\n",
       "        vertical-align: top;\n",
       "    }\n",
       "\n",
       "    .dataframe thead th {\n",
       "        text-align: right;\n",
       "    }\n",
       "</style>\n",
       "<table border=\"1\" class=\"dataframe\">\n",
       "  <thead>\n",
       "    <tr style=\"text-align: right;\">\n",
       "      <th></th>\n",
       "      <th>date</th>\n",
       "      <th>type</th>\n",
       "      <th>locale</th>\n",
       "      <th>locale_name</th>\n",
       "      <th>description</th>\n",
       "      <th>transferred</th>\n",
       "    </tr>\n",
       "  </thead>\n",
       "  <tbody>\n",
       "    <tr>\n",
       "      <th>0</th>\n",
       "      <td>2012-03-02</td>\n",
       "      <td>Holiday</td>\n",
       "      <td>Local</td>\n",
       "      <td>Manta</td>\n",
       "      <td>Fundacion de Manta</td>\n",
       "      <td>False</td>\n",
       "    </tr>\n",
       "    <tr>\n",
       "      <th>1</th>\n",
       "      <td>2012-04-01</td>\n",
       "      <td>Holiday</td>\n",
       "      <td>Regional</td>\n",
       "      <td>Cotopaxi</td>\n",
       "      <td>Provincializacion de Cotopaxi</td>\n",
       "      <td>False</td>\n",
       "    </tr>\n",
       "    <tr>\n",
       "      <th>2</th>\n",
       "      <td>2012-04-12</td>\n",
       "      <td>Holiday</td>\n",
       "      <td>Local</td>\n",
       "      <td>Cuenca</td>\n",
       "      <td>Fundacion de Cuenca</td>\n",
       "      <td>False</td>\n",
       "    </tr>\n",
       "    <tr>\n",
       "      <th>3</th>\n",
       "      <td>2012-04-14</td>\n",
       "      <td>Holiday</td>\n",
       "      <td>Local</td>\n",
       "      <td>Libertad</td>\n",
       "      <td>Cantonizacion de Libertad</td>\n",
       "      <td>False</td>\n",
       "    </tr>\n",
       "    <tr>\n",
       "      <th>4</th>\n",
       "      <td>2012-04-21</td>\n",
       "      <td>Holiday</td>\n",
       "      <td>Local</td>\n",
       "      <td>Riobamba</td>\n",
       "      <td>Cantonizacion de Riobamba</td>\n",
       "      <td>False</td>\n",
       "    </tr>\n",
       "  </tbody>\n",
       "</table>\n",
       "</div>"
      ],
      "text/plain": [
       "         date     type    locale locale_name                    description  \\\n",
       "0  2012-03-02  Holiday     Local       Manta             Fundacion de Manta   \n",
       "1  2012-04-01  Holiday  Regional    Cotopaxi  Provincializacion de Cotopaxi   \n",
       "2  2012-04-12  Holiday     Local      Cuenca            Fundacion de Cuenca   \n",
       "3  2012-04-14  Holiday     Local    Libertad      Cantonizacion de Libertad   \n",
       "4  2012-04-21  Holiday     Local    Riobamba      Cantonizacion de Riobamba   \n",
       "\n",
       "   transferred  \n",
       "0        False  \n",
       "1        False  \n",
       "2        False  \n",
       "3        False  \n",
       "4        False  "
      ]
     },
     "execution_count": 15,
     "metadata": {},
     "output_type": "execute_result"
    }
   ],
   "source": [
    "holiday_events.head()"
   ]
  },
  {
   "cell_type": "markdown",
   "id": "c8be3398",
   "metadata": {
    "papermill": {
     "duration": 0.055975,
     "end_time": "2021-11-26T04:04:47.473104",
     "exception": false,
     "start_time": "2021-11-26T04:04:47.417129",
     "status": "completed"
    },
    "tags": []
   },
   "source": [
    "## items"
   ]
  },
  {
   "cell_type": "code",
   "execution_count": 16,
   "id": "68f84cba",
   "metadata": {
    "execution": {
     "iopub.execute_input": "2021-11-26T04:04:47.587995Z",
     "iopub.status.busy": "2021-11-26T04:04:47.587244Z",
     "iopub.status.idle": "2021-11-26T04:04:47.596880Z",
     "shell.execute_reply": "2021-11-26T04:04:47.596184Z",
     "shell.execute_reply.started": "2021-11-26T01:23:57.348875Z"
    },
    "papermill": {
     "duration": 0.068184,
     "end_time": "2021-11-26T04:04:47.597044",
     "exception": false,
     "start_time": "2021-11-26T04:04:47.528860",
     "status": "completed"
    },
    "tags": []
   },
   "outputs": [
    {
     "data": {
      "text/html": [
       "<div>\n",
       "<style scoped>\n",
       "    .dataframe tbody tr th:only-of-type {\n",
       "        vertical-align: middle;\n",
       "    }\n",
       "\n",
       "    .dataframe tbody tr th {\n",
       "        vertical-align: top;\n",
       "    }\n",
       "\n",
       "    .dataframe thead th {\n",
       "        text-align: right;\n",
       "    }\n",
       "</style>\n",
       "<table border=\"1\" class=\"dataframe\">\n",
       "  <thead>\n",
       "    <tr style=\"text-align: right;\">\n",
       "      <th></th>\n",
       "      <th>item_nbr</th>\n",
       "      <th>family</th>\n",
       "      <th>class</th>\n",
       "      <th>perishable</th>\n",
       "    </tr>\n",
       "  </thead>\n",
       "  <tbody>\n",
       "    <tr>\n",
       "      <th>0</th>\n",
       "      <td>96995</td>\n",
       "      <td>GROCERY I</td>\n",
       "      <td>1093</td>\n",
       "      <td>0</td>\n",
       "    </tr>\n",
       "    <tr>\n",
       "      <th>1</th>\n",
       "      <td>99197</td>\n",
       "      <td>GROCERY I</td>\n",
       "      <td>1067</td>\n",
       "      <td>0</td>\n",
       "    </tr>\n",
       "    <tr>\n",
       "      <th>2</th>\n",
       "      <td>103501</td>\n",
       "      <td>CLEANING</td>\n",
       "      <td>3008</td>\n",
       "      <td>0</td>\n",
       "    </tr>\n",
       "    <tr>\n",
       "      <th>3</th>\n",
       "      <td>103520</td>\n",
       "      <td>GROCERY I</td>\n",
       "      <td>1028</td>\n",
       "      <td>0</td>\n",
       "    </tr>\n",
       "    <tr>\n",
       "      <th>4</th>\n",
       "      <td>103665</td>\n",
       "      <td>BREAD/BAKERY</td>\n",
       "      <td>2712</td>\n",
       "      <td>1</td>\n",
       "    </tr>\n",
       "  </tbody>\n",
       "</table>\n",
       "</div>"
      ],
      "text/plain": [
       "   item_nbr        family  class  perishable\n",
       "0     96995     GROCERY I   1093           0\n",
       "1     99197     GROCERY I   1067           0\n",
       "2    103501      CLEANING   3008           0\n",
       "3    103520     GROCERY I   1028           0\n",
       "4    103665  BREAD/BAKERY   2712           1"
      ]
     },
     "execution_count": 16,
     "metadata": {},
     "output_type": "execute_result"
    }
   ],
   "source": [
    "items.head()"
   ]
  },
  {
   "cell_type": "code",
   "execution_count": 17,
   "id": "5c333ee5",
   "metadata": {
    "execution": {
     "iopub.execute_input": "2021-11-26T04:04:47.775154Z",
     "iopub.status.busy": "2021-11-26T04:04:47.758901Z",
     "iopub.status.idle": "2021-11-26T04:04:48.207534Z",
     "shell.execute_reply": "2021-11-26T04:04:48.206953Z",
     "shell.execute_reply.started": "2021-11-26T01:24:00.430024Z"
    },
    "papermill": {
     "duration": 0.554417,
     "end_time": "2021-11-26T04:04:48.207710",
     "exception": false,
     "start_time": "2021-11-26T04:04:47.653293",
     "status": "completed"
    },
    "tags": []
   },
   "outputs": [
    {
     "data": {
      "text/plain": [
       "<AxesSubplot:>"
      ]
     },
     "execution_count": 17,
     "metadata": {},
     "output_type": "execute_result"
    },
    {
     "data": {
      "image/png": "[encoded data removed]",
      "text/plain": [
       "<Figure size 1152x576 with 1 Axes>"
      ]
     },
     "metadata": {
      "needs_background": "light"
     },
     "output_type": "display_data"
    }
   ],
   "source": [
    "plt.figure(figsize=(16,8))\n",
    "items.family.value_counts().plot.barh()"
   ]
  },
  {
   "cell_type": "code",
   "execution_count": 18,
   "id": "11eb606c",
   "metadata": {
    "execution": {
     "iopub.execute_input": "2021-11-26T04:04:48.358047Z",
     "iopub.status.busy": "2021-11-26T04:04:48.352873Z",
     "iopub.status.idle": "2021-11-26T04:04:48.871024Z",
     "shell.execute_reply": "2021-11-26T04:04:48.870338Z",
     "shell.execute_reply.started": "2021-11-26T01:24:00.931019Z"
    },
    "papermill": {
     "duration": 0.606387,
     "end_time": "2021-11-26T04:04:48.871166",
     "exception": false,
     "start_time": "2021-11-26T04:04:48.264779",
     "status": "completed"
    },
    "tags": []
   },
   "outputs": [
    {
     "data": {
      "image/png": "[encoded data removed]",
      "text/plain": [
       "<Figure size 864x720 with 1 Axes>"
      ]
     },
     "metadata": {},
     "output_type": "display_data"
    }
   ],
   "source": [
    "plt.style.use('seaborn-white')\n",
    "fam_perishable = items.groupby(['family', 'perishable']).size()\n",
    "fam_perishable.unstack().plot(kind='bar',stacked=True, colormap= 'coolwarm', figsize=(12,10),  grid=False)\n",
    "plt.title('Stacked Barplot of locale name against event type')\n",
    "plt.ylabel('Count of entries')\n",
    "plt.show()"
   ]
  },
  {
   "cell_type": "markdown",
   "id": "5dffaa33",
   "metadata": {
    "papermill": {
     "duration": 0.059937,
     "end_time": "2021-11-26T04:04:48.990203",
     "exception": false,
     "start_time": "2021-11-26T04:04:48.930266",
     "status": "completed"
    },
    "tags": []
   },
   "source": [
    "## transactions\n",
    "Inspecting the transactions file, we must be aware that the transactional data is only included for the training timeframe according to the competition's data dictionary. Furthermore the columns in this file relate only to the count of sales transactions for"
   ]
  },
  {
   "cell_type": "code",
   "execution_count": 19,
   "id": "e97e2637",
   "metadata": {
    "execution": {
     "iopub.execute_input": "2021-11-26T04:04:49.118136Z",
     "iopub.status.busy": "2021-11-26T04:04:49.117402Z",
     "iopub.status.idle": "2021-11-26T04:04:49.121494Z",
     "shell.execute_reply": "2021-11-26T04:04:49.120950Z",
     "shell.execute_reply.started": "2021-11-26T01:24:08.637767Z"
    },
    "papermill": {
     "duration": 0.072413,
     "end_time": "2021-11-26T04:04:49.121637",
     "exception": false,
     "start_time": "2021-11-26T04:04:49.049224",
     "status": "completed"
    },
    "tags": []
   },
   "outputs": [
    {
     "data": {
      "text/html": [
       "<div>\n",
       "<style scoped>\n",
       "    .dataframe tbody tr th:only-of-type {\n",
       "        vertical-align: middle;\n",
       "    }\n",
       "\n",
       "    .dataframe tbody tr th {\n",
       "        vertical-align: top;\n",
       "    }\n",
       "\n",
       "    .dataframe thead th {\n",
       "        text-align: right;\n",
       "    }\n",
       "</style>\n",
       "<table border=\"1\" class=\"dataframe\">\n",
       "  <thead>\n",
       "    <tr style=\"text-align: right;\">\n",
       "      <th></th>\n",
       "      <th>date</th>\n",
       "      <th>store_nbr</th>\n",
       "      <th>transactions</th>\n",
       "    </tr>\n",
       "  </thead>\n",
       "  <tbody>\n",
       "    <tr>\n",
       "      <th>0</th>\n",
       "      <td>2013-01-01</td>\n",
       "      <td>25</td>\n",
       "      <td>770</td>\n",
       "    </tr>\n",
       "    <tr>\n",
       "      <th>1</th>\n",
       "      <td>2013-01-02</td>\n",
       "      <td>1</td>\n",
       "      <td>2111</td>\n",
       "    </tr>\n",
       "    <tr>\n",
       "      <th>2</th>\n",
       "      <td>2013-01-02</td>\n",
       "      <td>2</td>\n",
       "      <td>2358</td>\n",
       "    </tr>\n",
       "    <tr>\n",
       "      <th>3</th>\n",
       "      <td>2013-01-02</td>\n",
       "      <td>3</td>\n",
       "      <td>3487</td>\n",
       "    </tr>\n",
       "    <tr>\n",
       "      <th>4</th>\n",
       "      <td>2013-01-02</td>\n",
       "      <td>4</td>\n",
       "      <td>1922</td>\n",
       "    </tr>\n",
       "  </tbody>\n",
       "</table>\n",
       "</div>"
      ],
      "text/plain": [
       "        date  store_nbr  transactions\n",
       "0 2013-01-01         25           770\n",
       "1 2013-01-02          1          2111\n",
       "2 2013-01-02          2          2358\n",
       "3 2013-01-02          3          3487\n",
       "4 2013-01-02          4          1922"
      ]
     },
     "execution_count": 19,
     "metadata": {},
     "output_type": "execute_result"
    }
   ],
   "source": [
    "transactions.head()"
   ]
  },
  {
   "cell_type": "code",
   "execution_count": 20,
   "id": "bd7233c0",
   "metadata": {
    "execution": {
     "iopub.execute_input": "2021-11-26T04:04:49.244833Z",
     "iopub.status.busy": "2021-11-26T04:04:49.244068Z",
     "iopub.status.idle": "2021-11-26T04:04:49.725775Z",
     "shell.execute_reply": "2021-11-26T04:04:49.725091Z",
     "shell.execute_reply.started": "2021-11-26T01:24:14.408368Z"
    },
    "papermill": {
     "duration": 0.544423,
     "end_time": "2021-11-26T04:04:49.725919",
     "exception": false,
     "start_time": "2021-11-26T04:04:49.181496",
     "status": "completed"
    },
    "tags": []
   },
   "outputs": [
    {
     "data": {
      "image/png": "[encoded data removed]",
      "text/plain": [
       "<Figure size 936x792 with 1 Axes>"
      ]
     },
     "metadata": {},
     "output_type": "display_data"
    }
   ],
   "source": [
    "plt.style.use('seaborn-white')\n",
    "plt.figure(figsize=(13,11))\n",
    "plt.plot(transactions.date.values, transactions.transactions.values, color='darkblue')\n",
    "plt.axvline(x=pd.to_datetime('2015-12-23'),color='red',alpha=0.3)\n",
    "# plt.axvline(x='2016-12-23',color='red',alpha=0.3)\n",
    "# plt.axvline(x='2014-12-23',color='red',alpha=0.3)\n",
    "# plt.axvline(x='2013-12-23',color='red',alpha=0.3)\n",
    "# plt.axvline(x='2013-05-12',color='green',alpha=0.2, linestyle= '--')\n",
    "# plt.axvline(x='2015-05-10',color='green',alpha=0.2, linestyle= '--')\n",
    "# plt.axvline(x='2016-05-08',color='green',alpha=0.2, linestyle= '--')\n",
    "# plt.axvline(x='2014-05-11',color='green',alpha=0.2, linestyle= '--')\n",
    "# plt.axvline(x='2017-05-14',color='green',alpha=0.2, linestyle= '--')\n",
    "plt.ylim(-50, 10000)\n",
    "plt.title(\"Distribution of transactions per day from 2013 till 2017\")\n",
    "plt.ylabel('transactions per day', fontsize= 16)\n",
    "plt.xlabel('Date', fontsize= 16)\n",
    "plt.show()"
   ]
  },
  {
   "cell_type": "code",
   "execution_count": 21,
   "id": "459e7624",
   "metadata": {
    "execution": {
     "iopub.execute_input": "2021-11-26T04:04:49.860520Z",
     "iopub.status.busy": "2021-11-26T04:04:49.859541Z",
     "iopub.status.idle": "2021-11-26T04:04:49.862909Z",
     "shell.execute_reply": "2021-11-26T04:04:49.863550Z",
     "shell.execute_reply.started": "2021-11-25T12:58:35.086975Z"
    },
    "papermill": {
     "duration": 0.076915,
     "end_time": "2021-11-26T04:04:49.863727",
     "exception": false,
     "start_time": "2021-11-26T04:04:49.786812",
     "status": "completed"
    },
    "tags": []
   },
   "outputs": [
    {
     "data": {
      "text/html": [
       "<div>\n",
       "<style scoped>\n",
       "    .dataframe tbody tr th:only-of-type {\n",
       "        vertical-align: middle;\n",
       "    }\n",
       "\n",
       "    .dataframe tbody tr th {\n",
       "        vertical-align: top;\n",
       "    }\n",
       "\n",
       "    .dataframe thead th {\n",
       "        text-align: right;\n",
       "    }\n",
       "</style>\n",
       "<table border=\"1\" class=\"dataframe\">\n",
       "  <thead>\n",
       "    <tr style=\"text-align: right;\">\n",
       "      <th></th>\n",
       "      <th>date</th>\n",
       "      <th>type</th>\n",
       "      <th>locale</th>\n",
       "      <th>locale_name</th>\n",
       "      <th>description</th>\n",
       "      <th>transferred</th>\n",
       "    </tr>\n",
       "  </thead>\n",
       "  <tbody>\n",
       "    <tr>\n",
       "      <th>54</th>\n",
       "      <td>2013-05-12</td>\n",
       "      <td>Holiday</td>\n",
       "      <td>Local</td>\n",
       "      <td>Puyo</td>\n",
       "      <td>Cantonizacion del Puyo</td>\n",
       "      <td>False</td>\n",
       "    </tr>\n",
       "    <tr>\n",
       "      <th>55</th>\n",
       "      <td>2013-05-12</td>\n",
       "      <td>Event</td>\n",
       "      <td>National</td>\n",
       "      <td>Ecuador</td>\n",
       "      <td>Dia de la Madre</td>\n",
       "      <td>False</td>\n",
       "    </tr>\n",
       "  </tbody>\n",
       "</table>\n",
       "</div>"
      ],
      "text/plain": [
       "          date     type    locale locale_name             description  \\\n",
       "54  2013-05-12  Holiday     Local        Puyo  Cantonizacion del Puyo   \n",
       "55  2013-05-12    Event  National     Ecuador         Dia de la Madre   \n",
       "\n",
       "    transferred  \n",
       "54        False  \n",
       "55        False  "
      ]
     },
     "execution_count": 21,
     "metadata": {},
     "output_type": "execute_result"
    }
   ],
   "source": [
    "holiday_events[holiday_events.date=='2013-05-12']"
   ]
  },
  {
   "cell_type": "code",
   "execution_count": 22,
   "id": "707adad6",
   "metadata": {
    "execution": {
     "iopub.execute_input": "2021-11-26T04:04:49.991893Z",
     "iopub.status.busy": "2021-11-26T04:04:49.990881Z",
     "iopub.status.idle": "2021-11-26T04:04:51.170528Z",
     "shell.execute_reply": "2021-11-26T04:04:51.170997Z",
     "shell.execute_reply.started": "2021-11-26T01:24:21.747609Z"
    },
    "papermill": {
     "duration": 1.246047,
     "end_time": "2021-11-26T04:04:51.171175",
     "exception": false,
     "start_time": "2021-11-26T04:04:49.925128",
     "status": "completed"
    },
    "tags": []
   },
   "outputs": [
    {
     "data": {
      "image/png": "[encoded data removed]",
      "text/plain": [
       "<Figure size 936x792 with 1 Axes>"
      ]
     },
     "metadata": {},
     "output_type": "display_data"
    }
   ],
   "source": [
    "plt.style.use('seaborn-deep')\n",
    "plt.figure(figsize=(13,11))\n",
    "plt.plot(train.date.values, train.unit_sales)\n",
    "plt.ylim(-50, 10000)\n",
    "plt.ylabel('transactions per day')\n",
    "plt.xlabel('Date')\n",
    "plt.show()"
   ]
  },
  {
   "cell_type": "markdown",
   "id": "e8786fb3",
   "metadata": {
    "papermill": {
     "duration": 0.064052,
     "end_time": "2021-11-26T04:04:51.299751",
     "exception": false,
     "start_time": "2021-11-26T04:04:51.235699",
     "status": "completed"
    },
    "tags": []
   },
   "source": [
    "# modeling"
   ]
  },
  {
   "cell_type": "code",
   "execution_count": 23,
   "id": "575f17e1",
   "metadata": {
    "execution": {
     "iopub.execute_input": "2021-11-26T04:04:51.435267Z",
     "iopub.status.busy": "2021-11-26T04:04:51.434175Z",
     "iopub.status.idle": "2021-11-26T04:08:47.780390Z",
     "shell.execute_reply": "2021-11-26T04:08:47.779778Z",
     "shell.execute_reply.started": "2021-11-26T03:06:04.469781Z"
    },
    "papermill": {
     "duration": 236.415318,
     "end_time": "2021-11-26T04:08:47.780574",
     "exception": false,
     "start_time": "2021-11-26T04:04:51.365256",
     "status": "completed"
    },
    "tags": []
   },
   "outputs": [
    {
     "data": {
      "text/html": [
       "<style type='text/css'>\n",
       ".datatable table.frame { margin-bottom: 0; }\n",
       ".datatable table.frame thead { border-bottom: none; }\n",
       ".datatable table.frame tr.coltypes td {  color: #FFFFFF;  line-height: 6px;  padding: 0 0.5em;}\n",
       ".datatable .bool    { background: #DDDD99; }\n",
       ".datatable .object  { background: #565656; }\n",
       ".datatable .int     { background: #5D9E5D; }\n",
       ".datatable .float   { background: #4040CC; }\n",
       ".datatable .str     { background: #CC4040; }\n",
       ".datatable .time    { background: #40CC40; }\n",
       ".datatable .row_index {  background: var(--jp-border-color3);  border-right: 1px solid var(--jp-border-color0);  color: var(--jp-ui-font-color3);  font-size: 9px;}\n",
       ".datatable .frame tbody td { text-align: left; }\n",
       ".datatable .frame tr.coltypes .row_index {  background: var(--jp-border-color0);}\n",
       ".datatable th:nth-child(2) { padding-left: 12px; }\n",
       ".datatable .hellipsis {  color: var(--jp-cell-editor-border-color);}\n",
       ".datatable .vellipsis {  background: var(--jp-layout-color0);  color: var(--jp-cell-editor-border-color);}\n",
       ".datatable .na {  color: var(--jp-cell-editor-border-color);  font-size: 80%;}\n",
       ".datatable .sp {  opacity: 0.25;}\n",
       ".datatable .footer { font-size: 9px; }\n",
       ".datatable .frame_dimensions {  background: var(--jp-border-color3);  border-top: 1px solid var(--jp-border-color0);  color: var(--jp-ui-font-color3);  display: inline-block;  opacity: 0.6;  padding: 1px 10px 1px 5px;}\n",
       "</style>\n"
      ],
      "text/plain": [
       "<IPython.core.display.HTML object>"
      ]
     },
     "metadata": {},
     "output_type": "display_data"
    }
   ],
   "source": [
    "from datetime import date, timedelta\n",
    "import pandas as pd\n",
    "import numpy as np\n",
    "from sklearn.metrics import mean_squared_error\n",
    "import lightgbm as lgb\n",
    "\n",
    "df_train = pd.read_csv(\n",
    "    'train.csv', usecols=[1, 2, 3, 4, 5],\n",
    "    dtype={'onpromotion': bool},\n",
    "    converters={'unit_sales': lambda u: np.log1p(\n",
    "        float(u)) if float(u) > 0 else 0},\n",
    "    parse_dates=[\"date\"],\n",
    "    skiprows=range(1, 66458909)  # 2016-01-01\n",
    ")\n",
    "\n",
    "df_test = pd.read_csv(\n",
    "    \"test.csv\", usecols=[0, 1, 2, 3, 4],\n",
    "    dtype={'onpromotion': bool},\n",
    "    parse_dates=[\"date\"]  # , date_parser=parser\n",
    ").set_index(\n",
    "    ['store_nbr', 'item_nbr', 'date']\n",
    ")"
   ]
  },
  {
   "cell_type": "code",
   "execution_count": 24,
   "id": "8a0e6df7",
   "metadata": {
    "execution": {
     "iopub.execute_input": "2021-11-26T04:08:47.913314Z",
     "iopub.status.busy": "2021-11-26T04:08:47.912552Z",
     "iopub.status.idle": "2021-11-26T04:08:48.877927Z",
     "shell.execute_reply": "2021-11-26T04:08:48.878514Z",
     "shell.execute_reply.started": "2021-11-26T03:10:19.955249Z"
    },
    "papermill": {
     "duration": 1.034145,
     "end_time": "2021-11-26T04:08:48.878698",
     "exception": false,
     "start_time": "2021-11-26T04:08:47.844553",
     "status": "completed"
    },
    "tags": []
   },
   "outputs": [],
   "source": [
    "items = pd.read_csv(\n",
    "    \"items.csv\",\n",
    ").set_index(\"item_nbr\")\n",
    "\n",
    "df_2017 = df_train[df_train.date.isin(\n",
    "    pd.date_range(\"2017-05-31\", periods=7 * 11))].copy()\n",
    "del df_train"
   ]
  },
  {
   "cell_type": "code",
   "execution_count": 25,
   "id": "cd7d4dca",
   "metadata": {
    "execution": {
     "iopub.execute_input": "2021-11-26T04:08:49.013771Z",
     "iopub.status.busy": "2021-11-26T04:08:49.013046Z",
     "iopub.status.idle": "2021-11-26T04:08:58.599721Z",
     "shell.execute_reply": "2021-11-26T04:08:58.600224Z",
     "shell.execute_reply.started": "2021-11-26T03:11:29.590276Z"
    },
    "papermill": {
     "duration": 9.654686,
     "end_time": "2021-11-26T04:08:58.600415",
     "exception": false,
     "start_time": "2021-11-26T04:08:48.945729",
     "status": "completed"
    },
    "tags": []
   },
   "outputs": [],
   "source": [
    "promo_2017_train = df_2017.set_index(\n",
    "    [\"store_nbr\", \"item_nbr\", \"date\"])[[\"onpromotion\"]].unstack(\n",
    "        level=-1).fillna(False)"
   ]
  },
  {
   "cell_type": "code",
   "execution_count": 26,
   "id": "b11b237c",
   "metadata": {
    "execution": {
     "iopub.execute_input": "2021-11-26T04:08:58.731675Z",
     "iopub.status.busy": "2021-11-26T04:08:58.730927Z",
     "iopub.status.idle": "2021-11-26T04:08:58.738855Z",
     "shell.execute_reply": "2021-11-26T04:08:58.738175Z",
     "shell.execute_reply.started": "2021-11-26T03:11:42.791400Z"
    },
    "papermill": {
     "duration": 0.074907,
     "end_time": "2021-11-26T04:08:58.739004",
     "exception": false,
     "start_time": "2021-11-26T04:08:58.664097",
     "status": "completed"
    },
    "tags": []
   },
   "outputs": [
    {
     "data": {
      "text/plain": [
       "DatetimeIndex(['2017-05-31', '2017-06-01', '2017-06-02'], dtype='datetime64[ns]', name='date', freq=None)"
      ]
     },
     "execution_count": 26,
     "metadata": {},
     "output_type": "execute_result"
    }
   ],
   "source": [
    "promo_2017_train.columns.get_level_values(1)[:3]"
   ]
  },
  {
   "cell_type": "code",
   "execution_count": 27,
   "id": "d261e8bf",
   "metadata": {
    "execution": {
     "iopub.execute_input": "2021-11-26T04:08:58.874238Z",
     "iopub.status.busy": "2021-11-26T04:08:58.873211Z",
     "iopub.status.idle": "2021-11-26T04:08:58.909189Z",
     "shell.execute_reply": "2021-11-26T04:08:58.909696Z",
     "shell.execute_reply.started": "2021-11-26T03:11:45.367129Z"
    },
    "papermill": {
     "duration": 0.106988,
     "end_time": "2021-11-26T04:08:58.909881",
     "exception": false,
     "start_time": "2021-11-26T04:08:58.802893",
     "status": "completed"
    },
    "tags": []
   },
   "outputs": [
    {
     "data": {
      "text/html": [
       "<div>\n",
       "<style scoped>\n",
       "    .dataframe tbody tr th:only-of-type {\n",
       "        vertical-align: middle;\n",
       "    }\n",
       "\n",
       "    .dataframe tbody tr th {\n",
       "        vertical-align: top;\n",
       "    }\n",
       "\n",
       "    .dataframe thead tr th {\n",
       "        text-align: left;\n",
       "    }\n",
       "\n",
       "    .dataframe thead tr:last-of-type th {\n",
       "        text-align: right;\n",
       "    }\n",
       "</style>\n",
       "<table border=\"1\" class=\"dataframe\">\n",
       "  <thead>\n",
       "    <tr>\n",
       "      <th></th>\n",
       "      <th></th>\n",
       "      <th colspan=\"21\" halign=\"left\">onpromotion</th>\n",
       "    </tr>\n",
       "    <tr>\n",
       "      <th></th>\n",
       "      <th>date</th>\n",
       "      <th>2017-05-31</th>\n",
       "      <th>2017-06-01</th>\n",
       "      <th>2017-06-02</th>\n",
       "      <th>2017-06-03</th>\n",
       "      <th>2017-06-04</th>\n",
       "      <th>2017-06-05</th>\n",
       "      <th>2017-06-06</th>\n",
       "      <th>2017-06-07</th>\n",
       "      <th>2017-06-08</th>\n",
       "      <th>2017-06-09</th>\n",
       "      <th>...</th>\n",
       "      <th>2017-08-06</th>\n",
       "      <th>2017-08-07</th>\n",
       "      <th>2017-08-08</th>\n",
       "      <th>2017-08-09</th>\n",
       "      <th>2017-08-10</th>\n",
       "      <th>2017-08-11</th>\n",
       "      <th>2017-08-12</th>\n",
       "      <th>2017-08-13</th>\n",
       "      <th>2017-08-14</th>\n",
       "      <th>2017-08-15</th>\n",
       "    </tr>\n",
       "    <tr>\n",
       "      <th>store_nbr</th>\n",
       "      <th>item_nbr</th>\n",
       "      <th></th>\n",
       "      <th></th>\n",
       "      <th></th>\n",
       "      <th></th>\n",
       "      <th></th>\n",
       "      <th></th>\n",
       "      <th></th>\n",
       "      <th></th>\n",
       "      <th></th>\n",
       "      <th></th>\n",
       "      <th></th>\n",
       "      <th></th>\n",
       "      <th></th>\n",
       "      <th></th>\n",
       "      <th></th>\n",
       "      <th></th>\n",
       "      <th></th>\n",
       "      <th></th>\n",
       "      <th></th>\n",
       "      <th></th>\n",
       "      <th></th>\n",
       "    </tr>\n",
       "  </thead>\n",
       "  <tbody>\n",
       "    <tr>\n",
       "      <th rowspan=\"3\" valign=\"top\">1</th>\n",
       "      <th>96995</th>\n",
       "      <td>False</td>\n",
       "      <td>False</td>\n",
       "      <td>False</td>\n",
       "      <td>False</td>\n",
       "      <td>False</td>\n",
       "      <td>False</td>\n",
       "      <td>False</td>\n",
       "      <td>False</td>\n",
       "      <td>False</td>\n",
       "      <td>False</td>\n",
       "      <td>...</td>\n",
       "      <td>False</td>\n",
       "      <td>False</td>\n",
       "      <td>False</td>\n",
       "      <td>False</td>\n",
       "      <td>False</td>\n",
       "      <td>False</td>\n",
       "      <td>False</td>\n",
       "      <td>False</td>\n",
       "      <td>False</td>\n",
       "      <td>False</td>\n",
       "    </tr>\n",
       "    <tr>\n",
       "      <th>99197</th>\n",
       "      <td>False</td>\n",
       "      <td>False</td>\n",
       "      <td>False</td>\n",
       "      <td>False</td>\n",
       "      <td>False</td>\n",
       "      <td>False</td>\n",
       "      <td>False</td>\n",
       "      <td>False</td>\n",
       "      <td>False</td>\n",
       "      <td>False</td>\n",
       "      <td>...</td>\n",
       "      <td>False</td>\n",
       "      <td>False</td>\n",
       "      <td>False</td>\n",
       "      <td>False</td>\n",
       "      <td>False</td>\n",
       "      <td>False</td>\n",
       "      <td>False</td>\n",
       "      <td>False</td>\n",
       "      <td>False</td>\n",
       "      <td>False</td>\n",
       "    </tr>\n",
       "    <tr>\n",
       "      <th>103520</th>\n",
       "      <td>False</td>\n",
       "      <td>False</td>\n",
       "      <td>False</td>\n",
       "      <td>False</td>\n",
       "      <td>False</td>\n",
       "      <td>False</td>\n",
       "      <td>False</td>\n",
       "      <td>False</td>\n",
       "      <td>False</td>\n",
       "      <td>False</td>\n",
       "      <td>...</td>\n",
       "      <td>False</td>\n",
       "      <td>False</td>\n",
       "      <td>False</td>\n",
       "      <td>False</td>\n",
       "      <td>False</td>\n",
       "      <td>False</td>\n",
       "      <td>False</td>\n",
       "      <td>False</td>\n",
       "      <td>False</td>\n",
       "      <td>False</td>\n",
       "    </tr>\n",
       "  </tbody>\n",
       "</table>\n",
       "<p>3 rows × 77 columns</p>\n",
       "</div>"
      ],
      "text/plain": [
       "                   onpromotion                                              \\\n",
       "date                2017-05-31 2017-06-01 2017-06-02 2017-06-03 2017-06-04   \n",
       "store_nbr item_nbr                                                           \n",
       "1         96995          False      False      False      False      False   \n",
       "          99197          False      False      False      False      False   \n",
       "          103520         False      False      False      False      False   \n",
       "\n",
       "                                                                           \\\n",
       "date               2017-06-05 2017-06-06 2017-06-07 2017-06-08 2017-06-09   \n",
       "store_nbr item_nbr                                                          \n",
       "1         96995         False      False      False      False      False   \n",
       "          99197         False      False      False      False      False   \n",
       "          103520        False      False      False      False      False   \n",
       "\n",
       "                    ...                                              \\\n",
       "date                ... 2017-08-06 2017-08-07 2017-08-08 2017-08-09   \n",
       "store_nbr item_nbr  ...                                               \n",
       "1         96995     ...      False      False      False      False   \n",
       "          99197     ...      False      False      False      False   \n",
       "          103520    ...      False      False      False      False   \n",
       "\n",
       "                                                                           \\\n",
       "date               2017-08-10 2017-08-11 2017-08-12 2017-08-13 2017-08-14   \n",
       "store_nbr item_nbr                                                          \n",
       "1         96995         False      False      False      False      False   \n",
       "          99197         False      False      False      False      False   \n",
       "          103520        False      False      False      False      False   \n",
       "\n",
       "                               \n",
       "date               2017-08-15  \n",
       "store_nbr item_nbr             \n",
       "1         96995         False  \n",
       "          99197         False  \n",
       "          103520        False  \n",
       "\n",
       "[3 rows x 77 columns]"
      ]
     },
     "execution_count": 27,
     "metadata": {},
     "output_type": "execute_result"
    }
   ],
   "source": [
    "promo_2017_train.head(3)"
   ]
  },
  {
   "cell_type": "code",
   "execution_count": 28,
   "id": "886b3879",
   "metadata": {
    "execution": {
     "iopub.execute_input": "2021-11-26T04:08:59.057009Z",
     "iopub.status.busy": "2021-11-26T04:08:59.056297Z",
     "iopub.status.idle": "2021-11-26T04:09:01.520243Z",
     "shell.execute_reply": "2021-11-26T04:09:01.519629Z",
     "shell.execute_reply.started": "2021-11-26T03:12:08.686476Z"
    },
    "papermill": {
     "duration": 2.545474,
     "end_time": "2021-11-26T04:09:01.520395",
     "exception": false,
     "start_time": "2021-11-26T04:08:58.974921",
     "status": "completed"
    },
    "tags": []
   },
   "outputs": [],
   "source": [
    "promo_2017_train.columns = promo_2017_train.columns.get_level_values(1) # 本来的columns是元组类型(onpromotion,date)->(date)\n",
    "promo_2017_test = df_test[[\"onpromotion\"]].unstack(level=-1).fillna(False)\n",
    "promo_2017_test.columns = promo_2017_test.columns.get_level_values(1)\n",
    "promo_2017_test = promo_2017_test.reindex(promo_2017_train.index).fillna(False)  # 有些商品train里有test没有，所以要让他们的index一致"
   ]
  },
  {
   "cell_type": "code",
   "execution_count": 29,
   "id": "4927a4b5",
   "metadata": {
    "execution": {
     "iopub.execute_input": "2021-11-26T04:09:01.654989Z",
     "iopub.status.busy": "2021-11-26T04:09:01.654237Z",
     "iopub.status.idle": "2021-11-26T04:09:01.667289Z",
     "shell.execute_reply": "2021-11-26T04:09:01.667844Z",
     "shell.execute_reply.started": "2021-11-26T03:12:12.140295Z"
    },
    "papermill": {
     "duration": 0.083312,
     "end_time": "2021-11-26T04:09:01.668023",
     "exception": false,
     "start_time": "2021-11-26T04:09:01.584711",
     "status": "completed"
    },
    "tags": []
   },
   "outputs": [],
   "source": [
    "promo_2017 = pd.concat([promo_2017_train, promo_2017_test], axis=1)\n",
    "del promo_2017_test, promo_2017_train"
   ]
  },
  {
   "cell_type": "code",
   "execution_count": 30,
   "id": "4cee003e",
   "metadata": {
    "execution": {
     "iopub.execute_input": "2021-11-26T04:09:01.806117Z",
     "iopub.status.busy": "2021-11-26T04:09:01.802535Z",
     "iopub.status.idle": "2021-11-26T04:09:01.831304Z",
     "shell.execute_reply": "2021-11-26T04:09:01.831945Z",
     "shell.execute_reply.started": "2021-11-26T03:12:16.412005Z"
    },
    "papermill": {
     "duration": 0.099705,
     "end_time": "2021-11-26T04:09:01.832117",
     "exception": false,
     "start_time": "2021-11-26T04:09:01.732412",
     "status": "completed"
    },
    "tags": []
   },
   "outputs": [
    {
     "data": {
      "text/html": [
       "<div>\n",
       "<style scoped>\n",
       "    .dataframe tbody tr th:only-of-type {\n",
       "        vertical-align: middle;\n",
       "    }\n",
       "\n",
       "    .dataframe tbody tr th {\n",
       "        vertical-align: top;\n",
       "    }\n",
       "\n",
       "    .dataframe thead th {\n",
       "        text-align: right;\n",
       "    }\n",
       "</style>\n",
       "<table border=\"1\" class=\"dataframe\">\n",
       "  <thead>\n",
       "    <tr style=\"text-align: right;\">\n",
       "      <th></th>\n",
       "      <th>date</th>\n",
       "      <th>2017-05-31</th>\n",
       "      <th>2017-06-01</th>\n",
       "      <th>2017-06-02</th>\n",
       "      <th>2017-06-03</th>\n",
       "      <th>2017-06-04</th>\n",
       "      <th>2017-06-05</th>\n",
       "      <th>2017-06-06</th>\n",
       "      <th>2017-06-07</th>\n",
       "      <th>2017-06-08</th>\n",
       "      <th>2017-06-09</th>\n",
       "      <th>...</th>\n",
       "      <th>2017-08-22</th>\n",
       "      <th>2017-08-23</th>\n",
       "      <th>2017-08-24</th>\n",
       "      <th>2017-08-25</th>\n",
       "      <th>2017-08-26</th>\n",
       "      <th>2017-08-27</th>\n",
       "      <th>2017-08-28</th>\n",
       "      <th>2017-08-29</th>\n",
       "      <th>2017-08-30</th>\n",
       "      <th>2017-08-31</th>\n",
       "    </tr>\n",
       "    <tr>\n",
       "      <th>store_nbr</th>\n",
       "      <th>item_nbr</th>\n",
       "      <th></th>\n",
       "      <th></th>\n",
       "      <th></th>\n",
       "      <th></th>\n",
       "      <th></th>\n",
       "      <th></th>\n",
       "      <th></th>\n",
       "      <th></th>\n",
       "      <th></th>\n",
       "      <th></th>\n",
       "      <th></th>\n",
       "      <th></th>\n",
       "      <th></th>\n",
       "      <th></th>\n",
       "      <th></th>\n",
       "      <th></th>\n",
       "      <th></th>\n",
       "      <th></th>\n",
       "      <th></th>\n",
       "      <th></th>\n",
       "      <th></th>\n",
       "    </tr>\n",
       "  </thead>\n",
       "  <tbody>\n",
       "    <tr>\n",
       "      <th rowspan=\"3\" valign=\"top\">1</th>\n",
       "      <th>96995</th>\n",
       "      <td>False</td>\n",
       "      <td>False</td>\n",
       "      <td>False</td>\n",
       "      <td>False</td>\n",
       "      <td>False</td>\n",
       "      <td>False</td>\n",
       "      <td>False</td>\n",
       "      <td>False</td>\n",
       "      <td>False</td>\n",
       "      <td>False</td>\n",
       "      <td>...</td>\n",
       "      <td>False</td>\n",
       "      <td>False</td>\n",
       "      <td>False</td>\n",
       "      <td>False</td>\n",
       "      <td>False</td>\n",
       "      <td>False</td>\n",
       "      <td>False</td>\n",
       "      <td>False</td>\n",
       "      <td>False</td>\n",
       "      <td>False</td>\n",
       "    </tr>\n",
       "    <tr>\n",
       "      <th>99197</th>\n",
       "      <td>False</td>\n",
       "      <td>False</td>\n",
       "      <td>False</td>\n",
       "      <td>False</td>\n",
       "      <td>False</td>\n",
       "      <td>False</td>\n",
       "      <td>False</td>\n",
       "      <td>False</td>\n",
       "      <td>False</td>\n",
       "      <td>False</td>\n",
       "      <td>...</td>\n",
       "      <td>False</td>\n",
       "      <td>False</td>\n",
       "      <td>False</td>\n",
       "      <td>False</td>\n",
       "      <td>False</td>\n",
       "      <td>False</td>\n",
       "      <td>False</td>\n",
       "      <td>False</td>\n",
       "      <td>False</td>\n",
       "      <td>False</td>\n",
       "    </tr>\n",
       "    <tr>\n",
       "      <th>103520</th>\n",
       "      <td>False</td>\n",
       "      <td>False</td>\n",
       "      <td>False</td>\n",
       "      <td>False</td>\n",
       "      <td>False</td>\n",
       "      <td>False</td>\n",
       "      <td>False</td>\n",
       "      <td>False</td>\n",
       "      <td>False</td>\n",
       "      <td>False</td>\n",
       "      <td>...</td>\n",
       "      <td>False</td>\n",
       "      <td>False</td>\n",
       "      <td>False</td>\n",
       "      <td>False</td>\n",
       "      <td>False</td>\n",
       "      <td>False</td>\n",
       "      <td>False</td>\n",
       "      <td>False</td>\n",
       "      <td>False</td>\n",
       "      <td>False</td>\n",
       "    </tr>\n",
       "  </tbody>\n",
       "</table>\n",
       "<p>3 rows × 93 columns</p>\n",
       "</div>"
      ],
      "text/plain": [
       "date                2017-05-31  2017-06-01  2017-06-02  2017-06-03  \\\n",
       "store_nbr item_nbr                                                   \n",
       "1         96995          False       False       False       False   \n",
       "          99197          False       False       False       False   \n",
       "          103520         False       False       False       False   \n",
       "\n",
       "date                2017-06-04  2017-06-05  2017-06-06  2017-06-07  \\\n",
       "store_nbr item_nbr                                                   \n",
       "1         96995          False       False       False       False   \n",
       "          99197          False       False       False       False   \n",
       "          103520         False       False       False       False   \n",
       "\n",
       "date                2017-06-08  2017-06-09  ...  2017-08-22  2017-08-23  \\\n",
       "store_nbr item_nbr                          ...                           \n",
       "1         96995          False       False  ...       False       False   \n",
       "          99197          False       False  ...       False       False   \n",
       "          103520         False       False  ...       False       False   \n",
       "\n",
       "date                2017-08-24  2017-08-25  2017-08-26  2017-08-27  \\\n",
       "store_nbr item_nbr                                                   \n",
       "1         96995          False       False       False       False   \n",
       "          99197          False       False       False       False   \n",
       "          103520         False       False       False       False   \n",
       "\n",
       "date                2017-08-28  2017-08-29  2017-08-30  2017-08-31  \n",
       "store_nbr item_nbr                                                  \n",
       "1         96995          False       False       False       False  \n",
       "          99197          False       False       False       False  \n",
       "          103520         False       False       False       False  \n",
       "\n",
       "[3 rows x 93 columns]"
      ]
     },
     "execution_count": 30,
     "metadata": {},
     "output_type": "execute_result"
    }
   ],
   "source": [
    "promo_2017.head(3)"
   ]
  },
  {
   "cell_type": "code",
   "execution_count": 31,
   "id": "083d7a1d",
   "metadata": {
    "execution": {
     "iopub.execute_input": "2021-11-26T04:09:01.974020Z",
     "iopub.status.busy": "2021-11-26T04:09:01.973162Z",
     "iopub.status.idle": "2021-11-26T04:09:01.976084Z",
     "shell.execute_reply": "2021-11-26T04:09:01.976608Z",
     "shell.execute_reply.started": "2021-11-26T01:47:30.640454Z"
    },
    "papermill": {
     "duration": 0.079636,
     "end_time": "2021-11-26T04:09:01.976789",
     "exception": false,
     "start_time": "2021-11-26T04:09:01.897153",
     "status": "completed"
    },
    "tags": []
   },
   "outputs": [
    {
     "data": {
      "text/html": [
       "<div>\n",
       "<style scoped>\n",
       "    .dataframe tbody tr th:only-of-type {\n",
       "        vertical-align: middle;\n",
       "    }\n",
       "\n",
       "    .dataframe tbody tr th {\n",
       "        vertical-align: top;\n",
       "    }\n",
       "\n",
       "    .dataframe thead th {\n",
       "        text-align: right;\n",
       "    }\n",
       "</style>\n",
       "<table border=\"1\" class=\"dataframe\">\n",
       "  <thead>\n",
       "    <tr style=\"text-align: right;\">\n",
       "      <th></th>\n",
       "      <th>date</th>\n",
       "      <th>store_nbr</th>\n",
       "      <th>item_nbr</th>\n",
       "      <th>unit_sales</th>\n",
       "      <th>onpromotion</th>\n",
       "    </tr>\n",
       "  </thead>\n",
       "  <tbody>\n",
       "    <tr>\n",
       "      <th>50912462</th>\n",
       "      <td>2017-05-31</td>\n",
       "      <td>1</td>\n",
       "      <td>96995</td>\n",
       "      <td>0.693147</td>\n",
       "      <td>False</td>\n",
       "    </tr>\n",
       "    <tr>\n",
       "      <th>50912463</th>\n",
       "      <td>2017-05-31</td>\n",
       "      <td>1</td>\n",
       "      <td>99197</td>\n",
       "      <td>0.693147</td>\n",
       "      <td>False</td>\n",
       "    </tr>\n",
       "    <tr>\n",
       "      <th>50912464</th>\n",
       "      <td>2017-05-31</td>\n",
       "      <td>1</td>\n",
       "      <td>103520</td>\n",
       "      <td>1.386294</td>\n",
       "      <td>False</td>\n",
       "    </tr>\n",
       "  </tbody>\n",
       "</table>\n",
       "</div>"
      ],
      "text/plain": [
       "               date  store_nbr  item_nbr  unit_sales  onpromotion\n",
       "50912462 2017-05-31          1     96995    0.693147        False\n",
       "50912463 2017-05-31          1     99197    0.693147        False\n",
       "50912464 2017-05-31          1    103520    1.386294        False"
      ]
     },
     "execution_count": 31,
     "metadata": {},
     "output_type": "execute_result"
    }
   ],
   "source": [
    "df_2017.head(3)"
   ]
  },
  {
   "cell_type": "code",
   "execution_count": 32,
   "id": "ce4ae170",
   "metadata": {
    "execution": {
     "iopub.execute_input": "2021-11-26T04:09:02.115109Z",
     "iopub.status.busy": "2021-11-26T04:09:02.113655Z",
     "iopub.status.idle": "2021-11-26T04:09:07.964466Z",
     "shell.execute_reply": "2021-11-26T04:09:07.965064Z",
     "shell.execute_reply.started": "2021-11-26T03:12:23.357790Z"
    },
    "papermill": {
     "duration": 5.922806,
     "end_time": "2021-11-26T04:09:07.965239",
     "exception": false,
     "start_time": "2021-11-26T04:09:02.042433",
     "status": "completed"
    },
    "tags": []
   },
   "outputs": [],
   "source": [
    "df_2017 = df_2017.set_index(  # df_2017 is train set\n",
    "    [\"store_nbr\", \"item_nbr\", \"date\"])[[\"unit_sales\"]].unstack(\n",
    "        level=-1).fillna(0) # 我们列出了所有商品每天的unit_sales,但是有些商品某些天是没有记录的，会出现na\n",
    "df_2017.columns = df_2017.columns.get_level_values(1)"
   ]
  },
  {
   "cell_type": "code",
   "execution_count": 33,
   "id": "4f354412",
   "metadata": {
    "execution": {
     "iopub.execute_input": "2021-11-26T04:09:08.127220Z",
     "iopub.status.busy": "2021-11-26T04:09:08.126298Z",
     "iopub.status.idle": "2021-11-26T04:09:08.129902Z",
     "shell.execute_reply": "2021-11-26T04:09:08.130404Z",
     "shell.execute_reply.started": "2021-11-26T01:49:19.338653Z"
    },
    "papermill": {
     "duration": 0.099227,
     "end_time": "2021-11-26T04:09:08.130613",
     "exception": false,
     "start_time": "2021-11-26T04:09:08.031386",
     "status": "completed"
    },
    "tags": []
   },
   "outputs": [
    {
     "data": {
      "text/html": [
       "<div>\n",
       "<style scoped>\n",
       "    .dataframe tbody tr th:only-of-type {\n",
       "        vertical-align: middle;\n",
       "    }\n",
       "\n",
       "    .dataframe tbody tr th {\n",
       "        vertical-align: top;\n",
       "    }\n",
       "\n",
       "    .dataframe thead th {\n",
       "        text-align: right;\n",
       "    }\n",
       "</style>\n",
       "<table border=\"1\" class=\"dataframe\">\n",
       "  <thead>\n",
       "    <tr style=\"text-align: right;\">\n",
       "      <th></th>\n",
       "      <th>date</th>\n",
       "      <th>2017-05-31</th>\n",
       "      <th>2017-06-01</th>\n",
       "      <th>2017-06-02</th>\n",
       "      <th>2017-06-03</th>\n",
       "      <th>2017-06-04</th>\n",
       "      <th>2017-06-05</th>\n",
       "      <th>2017-06-06</th>\n",
       "      <th>2017-06-07</th>\n",
       "      <th>2017-06-08</th>\n",
       "      <th>2017-06-09</th>\n",
       "      <th>...</th>\n",
       "      <th>2017-08-06</th>\n",
       "      <th>2017-08-07</th>\n",
       "      <th>2017-08-08</th>\n",
       "      <th>2017-08-09</th>\n",
       "      <th>2017-08-10</th>\n",
       "      <th>2017-08-11</th>\n",
       "      <th>2017-08-12</th>\n",
       "      <th>2017-08-13</th>\n",
       "      <th>2017-08-14</th>\n",
       "      <th>2017-08-15</th>\n",
       "    </tr>\n",
       "    <tr>\n",
       "      <th>store_nbr</th>\n",
       "      <th>item_nbr</th>\n",
       "      <th></th>\n",
       "      <th></th>\n",
       "      <th></th>\n",
       "      <th></th>\n",
       "      <th></th>\n",
       "      <th></th>\n",
       "      <th></th>\n",
       "      <th></th>\n",
       "      <th></th>\n",
       "      <th></th>\n",
       "      <th></th>\n",
       "      <th></th>\n",
       "      <th></th>\n",
       "      <th></th>\n",
       "      <th></th>\n",
       "      <th></th>\n",
       "      <th></th>\n",
       "      <th></th>\n",
       "      <th></th>\n",
       "      <th></th>\n",
       "      <th></th>\n",
       "    </tr>\n",
       "  </thead>\n",
       "  <tbody>\n",
       "    <tr>\n",
       "      <th rowspan=\"3\" valign=\"top\">1</th>\n",
       "      <th>96995</th>\n",
       "      <td>0.693147</td>\n",
       "      <td>0.000000</td>\n",
       "      <td>0.000000</td>\n",
       "      <td>0.000000</td>\n",
       "      <td>0.000000</td>\n",
       "      <td>0.000000</td>\n",
       "      <td>0.000000</td>\n",
       "      <td>0.000000</td>\n",
       "      <td>0.000000</td>\n",
       "      <td>0.693147</td>\n",
       "      <td>...</td>\n",
       "      <td>1.098612</td>\n",
       "      <td>1.098612</td>\n",
       "      <td>0.000000</td>\n",
       "      <td>0.000000</td>\n",
       "      <td>0.693147</td>\n",
       "      <td>0.000000</td>\n",
       "      <td>0.000000</td>\n",
       "      <td>0.000000</td>\n",
       "      <td>0.0</td>\n",
       "      <td>0.0</td>\n",
       "    </tr>\n",
       "    <tr>\n",
       "      <th>99197</th>\n",
       "      <td>0.693147</td>\n",
       "      <td>1.386294</td>\n",
       "      <td>1.098612</td>\n",
       "      <td>1.945910</td>\n",
       "      <td>1.098612</td>\n",
       "      <td>1.098612</td>\n",
       "      <td>0.000000</td>\n",
       "      <td>0.000000</td>\n",
       "      <td>0.693147</td>\n",
       "      <td>0.693147</td>\n",
       "      <td>...</td>\n",
       "      <td>0.000000</td>\n",
       "      <td>1.098612</td>\n",
       "      <td>0.000000</td>\n",
       "      <td>1.098612</td>\n",
       "      <td>0.000000</td>\n",
       "      <td>0.000000</td>\n",
       "      <td>0.000000</td>\n",
       "      <td>0.000000</td>\n",
       "      <td>0.0</td>\n",
       "      <td>0.0</td>\n",
       "    </tr>\n",
       "    <tr>\n",
       "      <th>103520</th>\n",
       "      <td>1.386294</td>\n",
       "      <td>1.098612</td>\n",
       "      <td>1.098612</td>\n",
       "      <td>0.693147</td>\n",
       "      <td>0.000000</td>\n",
       "      <td>0.693147</td>\n",
       "      <td>1.609438</td>\n",
       "      <td>0.693147</td>\n",
       "      <td>0.693147</td>\n",
       "      <td>1.098612</td>\n",
       "      <td>...</td>\n",
       "      <td>0.000000</td>\n",
       "      <td>0.000000</td>\n",
       "      <td>1.386294</td>\n",
       "      <td>0.000000</td>\n",
       "      <td>1.386294</td>\n",
       "      <td>0.693147</td>\n",
       "      <td>0.693147</td>\n",
       "      <td>0.693147</td>\n",
       "      <td>0.0</td>\n",
       "      <td>0.0</td>\n",
       "    </tr>\n",
       "  </tbody>\n",
       "</table>\n",
       "<p>3 rows × 77 columns</p>\n",
       "</div>"
      ],
      "text/plain": [
       "date                2017-05-31  2017-06-01  2017-06-02  2017-06-03  \\\n",
       "store_nbr item_nbr                                                   \n",
       "1         96995       0.693147    0.000000    0.000000    0.000000   \n",
       "          99197       0.693147    1.386294    1.098612    1.945910   \n",
       "          103520      1.386294    1.098612    1.098612    0.693147   \n",
       "\n",
       "date                2017-06-04  2017-06-05  2017-06-06  2017-06-07  \\\n",
       "store_nbr item_nbr                                                   \n",
       "1         96995       0.000000    0.000000    0.000000    0.000000   \n",
       "          99197       1.098612    1.098612    0.000000    0.000000   \n",
       "          103520      0.000000    0.693147    1.609438    0.693147   \n",
       "\n",
       "date                2017-06-08  2017-06-09  ...  2017-08-06  2017-08-07  \\\n",
       "store_nbr item_nbr                          ...                           \n",
       "1         96995       0.000000    0.693147  ...    1.098612    1.098612   \n",
       "          99197       0.693147    0.693147  ...    0.000000    1.098612   \n",
       "          103520      0.693147    1.098612  ...    0.000000    0.000000   \n",
       "\n",
       "date                2017-08-08  2017-08-09  2017-08-10  2017-08-11  \\\n",
       "store_nbr item_nbr                                                   \n",
       "1         96995       0.000000    0.000000    0.693147    0.000000   \n",
       "          99197       0.000000    1.098612    0.000000    0.000000   \n",
       "          103520      1.386294    0.000000    1.386294    0.693147   \n",
       "\n",
       "date                2017-08-12  2017-08-13  2017-08-14  2017-08-15  \n",
       "store_nbr item_nbr                                                  \n",
       "1         96995       0.000000    0.000000         0.0         0.0  \n",
       "          99197       0.000000    0.000000         0.0         0.0  \n",
       "          103520      0.693147    0.693147         0.0         0.0  \n",
       "\n",
       "[3 rows x 77 columns]"
      ]
     },
     "execution_count": 33,
     "metadata": {},
     "output_type": "execute_result"
    }
   ],
   "source": [
    "df_2017.head(3)"
   ]
  },
  {
   "cell_type": "code",
   "execution_count": 34,
   "id": "c3f521b6",
   "metadata": {
    "execution": {
     "iopub.execute_input": "2021-11-26T04:09:08.267380Z",
     "iopub.status.busy": "2021-11-26T04:09:08.266339Z",
     "iopub.status.idle": "2021-11-26T04:09:08.275403Z",
     "shell.execute_reply": "2021-11-26T04:09:08.275966Z",
     "shell.execute_reply.started": "2021-11-26T03:12:38.628556Z"
    },
    "papermill": {
     "duration": 0.079903,
     "end_time": "2021-11-26T04:09:08.276148",
     "exception": false,
     "start_time": "2021-11-26T04:09:08.196245",
     "status": "completed"
    },
    "tags": []
   },
   "outputs": [],
   "source": [
    "items = items.reindex(df_2017.index.get_level_values(1)) # 重新排列货物顺序与df_2017的index货物顺序一致"
   ]
  },
  {
   "cell_type": "code",
   "execution_count": 35,
   "id": "be7bd95a",
   "metadata": {
    "execution": {
     "iopub.execute_input": "2021-11-26T04:09:08.413143Z",
     "iopub.status.busy": "2021-11-26T04:09:08.412156Z",
     "iopub.status.idle": "2021-11-26T04:09:08.421425Z",
     "shell.execute_reply": "2021-11-26T04:09:08.421986Z",
     "shell.execute_reply.started": "2021-11-26T01:48:59.066375Z"
    },
    "papermill": {
     "duration": 0.079333,
     "end_time": "2021-11-26T04:09:08.422154",
     "exception": false,
     "start_time": "2021-11-26T04:09:08.342821",
     "status": "completed"
    },
    "tags": []
   },
   "outputs": [
    {
     "data": {
      "text/html": [
       "<div>\n",
       "<style scoped>\n",
       "    .dataframe tbody tr th:only-of-type {\n",
       "        vertical-align: middle;\n",
       "    }\n",
       "\n",
       "    .dataframe tbody tr th {\n",
       "        vertical-align: top;\n",
       "    }\n",
       "\n",
       "    .dataframe thead th {\n",
       "        text-align: right;\n",
       "    }\n",
       "</style>\n",
       "<table border=\"1\" class=\"dataframe\">\n",
       "  <thead>\n",
       "    <tr style=\"text-align: right;\">\n",
       "      <th></th>\n",
       "      <th>family</th>\n",
       "      <th>class</th>\n",
       "      <th>perishable</th>\n",
       "    </tr>\n",
       "    <tr>\n",
       "      <th>item_nbr</th>\n",
       "      <th></th>\n",
       "      <th></th>\n",
       "      <th></th>\n",
       "    </tr>\n",
       "  </thead>\n",
       "  <tbody>\n",
       "    <tr>\n",
       "      <th>96995</th>\n",
       "      <td>GROCERY I</td>\n",
       "      <td>1093</td>\n",
       "      <td>0</td>\n",
       "    </tr>\n",
       "    <tr>\n",
       "      <th>99197</th>\n",
       "      <td>GROCERY I</td>\n",
       "      <td>1067</td>\n",
       "      <td>0</td>\n",
       "    </tr>\n",
       "    <tr>\n",
       "      <th>103520</th>\n",
       "      <td>GROCERY I</td>\n",
       "      <td>1028</td>\n",
       "      <td>0</td>\n",
       "    </tr>\n",
       "  </tbody>\n",
       "</table>\n",
       "</div>"
      ],
      "text/plain": [
       "             family  class  perishable\n",
       "item_nbr                              \n",
       "96995     GROCERY I   1093           0\n",
       "99197     GROCERY I   1067           0\n",
       "103520    GROCERY I   1028           0"
      ]
     },
     "execution_count": 35,
     "metadata": {},
     "output_type": "execute_result"
    }
   ],
   "source": [
    "items.head(3)"
   ]
  },
  {
   "cell_type": "code",
   "execution_count": 36,
   "id": "1646e565",
   "metadata": {
    "execution": {
     "iopub.execute_input": "2021-11-26T04:09:08.558511Z",
     "iopub.status.busy": "2021-11-26T04:09:08.557520Z",
     "iopub.status.idle": "2021-11-26T04:09:08.568187Z",
     "shell.execute_reply": "2021-11-26T04:09:08.567523Z",
     "shell.execute_reply.started": "2021-11-26T03:12:42.893193Z"
    },
    "papermill": {
     "duration": 0.079713,
     "end_time": "2021-11-26T04:09:08.568328",
     "exception": false,
     "start_time": "2021-11-26T04:09:08.488615",
     "status": "completed"
    },
    "tags": []
   },
   "outputs": [],
   "source": [
    "def get_timespan(df, dt, minus, periods):\n",
    "    \"\"\"\n",
    "    dt:2017-06-21,minus:3,periods:3\n",
    "    ->['2017-06-18', '2017-06-19', '2017-06-20']\n",
    "    取出df这三天的unit_sales\n",
    "    \"\"\"\n",
    "    return df[\n",
    "        pd.date_range(dt - timedelta(days=minus), periods=periods)\n",
    "    ]\n",
    "\n",
    "def prepare_dataset(t2017, is_train=True):\n",
    "    X = pd.DataFrame({\n",
    "        \"mean_3_2017\": get_timespan(df_2017, t2017, 3, 3).mean(axis=1).values, # 过去3天各个货物的平均unit_sales\n",
    "        \"mean_7_2017\": get_timespan(df_2017, t2017, 7, 7).mean(axis=1).values,\n",
    "        \"mean_14_2017\": get_timespan(df_2017, t2017, 14, 14).mean(axis=1).values,\n",
    "        \"promo_14_2017\": get_timespan(promo_2017, t2017, 14, 14).sum(axis=1).values # 过去14天做促销的次数\n",
    "    })\n",
    "    for i in range(16):\n",
    "        X[\"promo_{}\".format(i)] = promo_2017[pd.to_datetime( # 之后16天的促销情况,因为我们要预测的target是未来16天的促销情况\n",
    "            t2017 + timedelta(days=i)\n",
    "        )].values.astype(np.uint8)\n",
    "    if is_train:\n",
    "        y = df_2017[\n",
    "            pd.date_range(t2017, periods=16) # 之后16天的unit_sales\n",
    "        ].values\n",
    "        return X, y\n",
    "    return X  # 如果是test则返回这个"
   ]
  },
  {
   "cell_type": "code",
   "execution_count": 37,
   "id": "af194a87",
   "metadata": {
    "execution": {
     "iopub.execute_input": "2021-11-26T04:09:08.714719Z",
     "iopub.status.busy": "2021-11-26T04:09:08.705098Z",
     "iopub.status.idle": "2021-11-26T04:09:09.029685Z",
     "shell.execute_reply": "2021-11-26T04:09:09.030175Z",
     "shell.execute_reply.started": "2021-11-26T03:12:49.523775Z"
    },
    "papermill": {
     "duration": 0.395428,
     "end_time": "2021-11-26T04:09:09.030358",
     "exception": false,
     "start_time": "2021-11-26T04:09:08.634930",
     "status": "completed"
    },
    "tags": []
   },
   "outputs": [
    {
     "name": "stdout",
     "output_type": "stream",
     "text": [
      "Preparing dataset...\n"
     ]
    }
   ],
   "source": [
    "print(\"Preparing dataset...\")\n",
    "t2017 = date(2017, 6, 21)\n",
    "X_l, y_l = [], []\n",
    "for i in range(4): \n",
    "    delta = timedelta(days=7 * i)  # date(2017, 6, 21) -> date(2017, 7, 12)\n",
    "    X_tmp, y_tmp = prepare_dataset(\n",
    "        t2017 + delta\n",
    "    )\n",
    "    X_l.append(X_tmp)\n",
    "    y_l.append(y_tmp)\n",
    "X_train = pd.concat(X_l, axis=0)  # 看上去行很长，实际上只选取了4天作为样本\n",
    "y_train = np.concatenate(y_l, axis=0)\n",
    "del X_l, y_l\n",
    "X_val, y_val = prepare_dataset(date(2017, 7, 26))\n",
    "X_test = prepare_dataset(date(2017, 8, 16), is_train=False) # 从8-16开始预测未来16天"
   ]
  },
  {
   "cell_type": "code",
   "execution_count": 38,
   "id": "a9895ca3",
   "metadata": {
    "execution": {
     "iopub.execute_input": "2021-11-26T04:09:09.180596Z",
     "iopub.status.busy": "2021-11-26T04:09:09.171886Z",
     "iopub.status.idle": "2021-11-26T04:15:00.639340Z",
     "shell.execute_reply": "2021-11-26T04:15:00.638607Z",
     "shell.execute_reply.started": "2021-11-26T03:16:55.420089Z"
    },
    "papermill": {
     "duration": 351.542374,
     "end_time": "2021-11-26T04:15:00.639511",
     "exception": false,
     "start_time": "2021-11-26T04:09:09.097137",
     "status": "completed"
    },
    "tags": []
   },
   "outputs": [
    {
     "name": "stdout",
     "output_type": "stream",
     "text": [
      "Training and predicting models...\n",
      "==================================================\n",
      "Step 1\n",
      "==================================================\n",
      "[LightGBM] [Warning] Accuracy may be bad since you didn't explicitly set num_leaves OR 2^max_depth > num_leaves. (num_leaves=31).\n"
     ]
    },
    {
     "name": "stderr",
     "output_type": "stream",
     "text": [
      "/opt/conda/lib/python3.7/site-packages/lightgbm/basic.py:1702: UserWarning: Using categorical_feature in Dataset.\n",
      "  _log_warning('Using categorical_feature in Dataset.')\n"
     ]
    },
    {
     "name": "stdout",
     "output_type": "stream",
     "text": [
      "[LightGBM] [Warning] Accuracy may be bad since you didn't explicitly set num_leaves OR 2^max_depth > num_leaves. (num_leaves=31).\n",
      "[LightGBM] [Warning] Auto-choosing row-wise multi-threading, the overhead of testing was 0.054328 seconds.\n",
      "You can set `force_row_wise=true` to remove the overhead.\n",
      "And if memory is not enough, you can set `force_col_wise=true`.\n",
      "[LightGBM] [Info] Total Bins 812\n",
      "[LightGBM] [Info] Number of data points in the train set: 627160, number of used features: 20\n",
      "[LightGBM] [Warning] Accuracy may be bad since you didn't explicitly set num_leaves OR 2^max_depth > num_leaves. (num_leaves=31).\n",
      "[LightGBM] [Info] Start training from score 1.096796\n",
      "Training until validation scores don't improve for 50 rounds\n",
      "[50]\ttraining's l2: 0.345337\tvalid_1's l2: 0.341407\n",
      "[100]\ttraining's l2: 0.333268\tvalid_1's l2: 0.33001\n",
      "[150]\ttraining's l2: 0.33125\tvalid_1's l2: 0.328701\n",
      "[200]\ttraining's l2: 0.330228\tvalid_1's l2: 0.328227\n",
      "[250]\ttraining's l2: 0.329363\tvalid_1's l2: 0.327916\n",
      "[300]\ttraining's l2: 0.328713\tvalid_1's l2: 0.327708\n",
      "[350]\ttraining's l2: 0.328116\tvalid_1's l2: 0.327561\n",
      "[400]\ttraining's l2: 0.32756\tvalid_1's l2: 0.327414\n",
      "[450]\ttraining's l2: 0.327086\tvalid_1's l2: 0.327303\n",
      "[500]\ttraining's l2: 0.3266\tvalid_1's l2: 0.327181\n",
      "[550]\ttraining's l2: 0.326166\tvalid_1's l2: 0.32712\n",
      "[600]\ttraining's l2: 0.325743\tvalid_1's l2: 0.327094\n",
      "[LightGBM] [Warning] No further splits with positive gain, best gain: -inf\n",
      "[LightGBM] [Warning] No further splits with positive gain, best gain: -inf\n",
      "[650]\ttraining's l2: 0.325367\tvalid_1's l2: 0.327093\n",
      "Early stopping, best iteration is:\n",
      "[613]\ttraining's l2: 0.32564\tvalid_1's l2: 0.327081\n",
      "mean_7_2017: 1906982.19\n",
      "mean_14_2017: 1715606.44\n",
      "promo_0: 140956.41\n",
      "mean_3_2017: 135023.84\n",
      "promo_14_2017: 55240.83\n",
      "promo_7: 19826.21\n",
      "promo_14: 6236.04\n",
      "promo_3: 5218.82\n",
      "promo_15: 3992.70\n",
      "promo_9: 3271.55\n",
      "promo_13: 2269.10\n",
      "promo_2: 1831.80\n",
      "promo_4: 1739.47\n",
      "promo_1: 1491.11\n",
      "promo_6: 1452.49\n",
      "promo_8: 1025.29\n",
      "promo_11: 1010.55\n",
      "promo_5: 871.89\n",
      "promo_10: 808.70\n",
      "promo_12: 627.28\n",
      "==================================================\n",
      "Step 2\n",
      "==================================================\n",
      "[LightGBM] [Warning] Accuracy may be bad since you didn't explicitly set num_leaves OR 2^max_depth > num_leaves. (num_leaves=31).\n",
      "[LightGBM] [Warning] Accuracy may be bad since you didn't explicitly set num_leaves OR 2^max_depth > num_leaves. (num_leaves=31).\n",
      "[LightGBM] [Warning] Auto-choosing row-wise multi-threading, the overhead of testing was 0.065266 seconds.\n",
      "You can set `force_row_wise=true` to remove the overhead.\n",
      "And if memory is not enough, you can set `force_col_wise=true`.\n",
      "[LightGBM] [Info] Total Bins 812\n",
      "[LightGBM] [Info] Number of data points in the train set: 627160, number of used features: 20\n",
      "[LightGBM] [Warning] Accuracy may be bad since you didn't explicitly set num_leaves OR 2^max_depth > num_leaves. (num_leaves=31).\n",
      "[LightGBM] [Info] Start training from score 1.009272\n",
      "Training until validation scores don't improve for 50 rounds\n",
      "[50]\ttraining's l2: 0.361859\tvalid_1's l2: 0.373589\n",
      "[100]\ttraining's l2: 0.352682\tvalid_1's l2: 0.363765\n",
      "[150]\ttraining's l2: 0.350674\tvalid_1's l2: 0.361907\n",
      "[200]\ttraining's l2: 0.349508\tvalid_1's l2: 0.361241\n",
      "[250]\ttraining's l2: 0.34861\tvalid_1's l2: 0.36064\n",
      "[300]\ttraining's l2: 0.347921\tvalid_1's l2: 0.360359\n",
      "[350]\ttraining's l2: 0.347254\tvalid_1's l2: 0.360172\n",
      "[400]\ttraining's l2: 0.346691\tvalid_1's l2: 0.360088\n",
      "[450]\ttraining's l2: 0.346145\tvalid_1's l2: 0.359997\n",
      "[LightGBM] [Warning] No further splits with positive gain, best gain: -inf\n",
      "[500]\ttraining's l2: 0.345624\tvalid_1's l2: 0.359908\n",
      "[550]\ttraining's l2: 0.34513\tvalid_1's l2: 0.359896\n",
      "[600]\ttraining's l2: 0.344703\tvalid_1's l2: 0.359826\n",
      "[650]\ttraining's l2: 0.344279\tvalid_1's l2: 0.359767\n",
      "Early stopping, best iteration is:\n",
      "[636]\ttraining's l2: 0.344394\tvalid_1's l2: 0.359766\n",
      "mean_14_2017: 1795255.14\n",
      "mean_7_2017: 1239281.06\n",
      "promo_1: 99846.57\n",
      "mean_3_2017: 77124.98\n",
      "promo_14_2017: 45853.98\n",
      "promo_3: 13072.21\n",
      "promo_0: 7157.72\n",
      "promo_2: 6710.04\n",
      "promo_4: 5106.17\n",
      "promo_5: 4555.76\n",
      "promo_7: 2152.45\n",
      "promo_9: 2028.86\n",
      "promo_6: 1998.15\n",
      "promo_8: 1848.96\n",
      "promo_14: 1674.15\n",
      "promo_15: 1198.00\n",
      "promo_13: 957.09\n",
      "promo_11: 839.79\n",
      "promo_12: 775.80\n",
      "promo_10: 680.16\n",
      "==================================================\n",
      "Step 3\n",
      "==================================================\n",
      "[LightGBM] [Warning] Accuracy may be bad since you didn't explicitly set num_leaves OR 2^max_depth > num_leaves. (num_leaves=31).\n",
      "[LightGBM] [Warning] Accuracy may be bad since you didn't explicitly set num_leaves OR 2^max_depth > num_leaves. (num_leaves=31).\n",
      "[LightGBM] [Warning] Auto-choosing row-wise multi-threading, the overhead of testing was 0.052876 seconds.\n",
      "You can set `force_row_wise=true` to remove the overhead.\n",
      "And if memory is not enough, you can set `force_col_wise=true`.\n",
      "[LightGBM] [Info] Total Bins 812\n",
      "[LightGBM] [Info] Number of data points in the train set: 627160, number of used features: 20\n",
      "[LightGBM] [Warning] Accuracy may be bad since you didn't explicitly set num_leaves OR 2^max_depth > num_leaves. (num_leaves=31).\n",
      "[LightGBM] [Info] Start training from score 1.107529\n",
      "Training until validation scores don't improve for 50 rounds\n",
      "[50]\ttraining's l2: 0.380284\tvalid_1's l2: 0.401833\n",
      "[100]\ttraining's l2: 0.367301\tvalid_1's l2: 0.390031\n",
      "[150]\ttraining's l2: 0.364507\tvalid_1's l2: 0.38889\n",
      "[200]\ttraining's l2: 0.363003\tvalid_1's l2: 0.38812\n",
      "[250]\ttraining's l2: 0.361927\tvalid_1's l2: 0.387719\n",
      "[300]\ttraining's l2: 0.361076\tvalid_1's l2: 0.38737\n",
      "[350]\ttraining's l2: 0.360326\tvalid_1's l2: 0.387336\n",
      "Early stopping, best iteration is:\n",
      "[316]\ttraining's l2: 0.36083\tvalid_1's l2: 0.387292\n",
      "mean_14_2017: 2257950.58\n",
      "mean_7_2017: 1213331.08\n",
      "promo_2: 140560.94\n",
      "mean_3_2017: 75934.64\n",
      "promo_14_2017: 58983.74\n",
      "promo_9: 14442.61\n",
      "promo_3: 10621.18\n",
      "promo_0: 5814.46\n",
      "promo_4: 5559.11\n",
      "promo_5: 5368.93\n",
      "promo_1: 3832.32\n",
      "promo_7: 3764.52\n",
      "promo_14: 3333.89\n",
      "promo_6: 2038.32\n",
      "promo_13: 1826.75\n",
      "promo_11: 1712.45\n",
      "promo_10: 1690.88\n",
      "promo_15: 1277.10\n",
      "promo_12: 1115.12\n",
      "promo_8: 841.15\n",
      "==================================================\n",
      "Step 4\n",
      "==================================================\n",
      "[LightGBM] [Warning] Accuracy may be bad since you didn't explicitly set num_leaves OR 2^max_depth > num_leaves. (num_leaves=31).\n",
      "[LightGBM] [Warning] Accuracy may be bad since you didn't explicitly set num_leaves OR 2^max_depth > num_leaves. (num_leaves=31).\n",
      "[LightGBM] [Warning] Auto-choosing row-wise multi-threading, the overhead of testing was 0.052951 seconds.\n",
      "You can set `force_row_wise=true` to remove the overhead.\n",
      "And if memory is not enough, you can set `force_col_wise=true`.\n",
      "[LightGBM] [Info] Total Bins 812\n",
      "[LightGBM] [Info] Number of data points in the train set: 627160, number of used features: 20\n",
      "[LightGBM] [Warning] Accuracy may be bad since you didn't explicitly set num_leaves OR 2^max_depth > num_leaves. (num_leaves=31).\n",
      "[LightGBM] [Info] Start training from score 1.313589\n",
      "Training until validation scores don't improve for 50 rounds\n",
      "[50]\ttraining's l2: 0.410358\tvalid_1's l2: 0.414087\n",
      "[100]\ttraining's l2: 0.398266\tvalid_1's l2: 0.402713\n",
      "[150]\ttraining's l2: 0.395275\tvalid_1's l2: 0.400524\n",
      "[200]\ttraining's l2: 0.393713\tvalid_1's l2: 0.399805\n",
      "[250]\ttraining's l2: 0.392519\tvalid_1's l2: 0.399399\n",
      "[300]\ttraining's l2: 0.391627\tvalid_1's l2: 0.399176\n",
      "[350]\ttraining's l2: 0.390905\tvalid_1's l2: 0.399114\n",
      "[400]\ttraining's l2: 0.390215\tvalid_1's l2: 0.399039\n",
      "[450]\ttraining's l2: 0.389575\tvalid_1's l2: 0.398854\n",
      "[500]\ttraining's l2: 0.388928\tvalid_1's l2: 0.398689\n",
      "[550]\ttraining's l2: 0.388369\tvalid_1's l2: 0.398473\n",
      "[600]\ttraining's l2: 0.387853\tvalid_1's l2: 0.398413\n",
      "[650]\ttraining's l2: 0.387354\tvalid_1's l2: 0.398385\n",
      "[700]\ttraining's l2: 0.38685\tvalid_1's l2: 0.398318\n",
      "[750]\ttraining's l2: 0.386389\tvalid_1's l2: 0.398326\n",
      "Early stopping, best iteration is:\n",
      "[721]\ttraining's l2: 0.386658\tvalid_1's l2: 0.398271\n",
      "mean_14_2017: 2964512.67\n",
      "mean_7_2017: 1063096.62\n",
      "mean_3_2017: 94952.70\n",
      "promo_3: 85929.09\n",
      "promo_14_2017: 48334.59\n",
      "promo_2: 12805.11\n",
      "promo_4: 8183.02\n",
      "promo_0: 7669.68\n",
      "promo_5: 7230.94\n",
      "promo_7: 6397.11\n",
      "promo_1: 6365.34\n",
      "promo_6: 3754.76\n",
      "promo_14: 3507.61\n",
      "promo_10: 2651.97\n",
      "promo_8: 2603.07\n",
      "promo_9: 2570.23\n",
      "promo_15: 1662.18\n",
      "promo_13: 1512.68\n",
      "promo_11: 1131.35\n",
      "promo_12: 857.03\n",
      "==================================================\n",
      "Step 5\n",
      "==================================================\n",
      "[LightGBM] [Warning] Accuracy may be bad since you didn't explicitly set num_leaves OR 2^max_depth > num_leaves. (num_leaves=31).\n",
      "[LightGBM] [Warning] Accuracy may be bad since you didn't explicitly set num_leaves OR 2^max_depth > num_leaves. (num_leaves=31).\n",
      "[LightGBM] [Warning] Auto-choosing row-wise multi-threading, the overhead of testing was 0.054849 seconds.\n",
      "You can set `force_row_wise=true` to remove the overhead.\n",
      "And if memory is not enough, you can set `force_col_wise=true`.\n",
      "[LightGBM] [Info] Total Bins 812\n",
      "[LightGBM] [Info] Number of data points in the train set: 627160, number of used features: 20\n",
      "[LightGBM] [Warning] Accuracy may be bad since you didn't explicitly set num_leaves OR 2^max_depth > num_leaves. (num_leaves=31).\n",
      "[LightGBM] [Info] Start training from score 1.356844\n",
      "Training until validation scores don't improve for 50 rounds\n",
      "[50]\ttraining's l2: 0.439431\tvalid_1's l2: 0.437323\n",
      "[100]\ttraining's l2: 0.425728\tvalid_1's l2: 0.42465\n",
      "[150]\ttraining's l2: 0.422286\tvalid_1's l2: 0.422052\n",
      "[200]\ttraining's l2: 0.420539\tvalid_1's l2: 0.420975\n",
      "[250]\ttraining's l2: 0.419196\tvalid_1's l2: 0.420282\n",
      "[300]\ttraining's l2: 0.418188\tvalid_1's l2: 0.419877\n",
      "[350]\ttraining's l2: 0.417347\tvalid_1's l2: 0.419481\n",
      "[LightGBM] [Warning] No further splits with positive gain, best gain: -inf\n",
      "[400]\ttraining's l2: 0.416568\tvalid_1's l2: 0.419234\n",
      "[450]\ttraining's l2: 0.41587\tvalid_1's l2: 0.419054\n",
      "[500]\ttraining's l2: 0.415215\tvalid_1's l2: 0.418809\n",
      "[550]\ttraining's l2: 0.414602\tvalid_1's l2: 0.418679\n",
      "[600]\ttraining's l2: 0.414073\tvalid_1's l2: 0.418539\n",
      "[650]\ttraining's l2: 0.413536\tvalid_1's l2: 0.418368\n",
      "[700]\ttraining's l2: 0.413025\tvalid_1's l2: 0.41834\n",
      "[750]\ttraining's l2: 0.41253\tvalid_1's l2: 0.41825\n",
      "[LightGBM] [Warning] No further splits with positive gain, best gain: -inf\n",
      "[800]\ttraining's l2: 0.412042\tvalid_1's l2: 0.418259\n",
      "Early stopping, best iteration is:\n",
      "[775]\ttraining's l2: 0.412286\tvalid_1's l2: 0.41822\n",
      "mean_14_2017: 3233634.14\n",
      "mean_7_2017: 739891.92\n",
      "mean_3_2017: 427516.29\n",
      "promo_4: 85928.53\n",
      "promo_14_2017: 46211.13\n",
      "promo_3: 11726.73\n",
      "promo_5: 11699.85\n",
      "promo_7: 8458.32\n",
      "promo_2: 7561.11\n",
      "promo_1: 6784.26\n",
      "promo_6: 6104.57\n",
      "promo_0: 6070.12\n",
      "promo_14: 4608.71\n",
      "promo_9: 4317.69\n",
      "promo_11: 3947.71\n",
      "promo_8: 2826.87\n",
      "promo_10: 2360.65\n",
      "promo_13: 2079.22\n",
      "promo_12: 2002.23\n",
      "promo_15: 1960.36\n",
      "==================================================\n",
      "Step 6\n",
      "==================================================\n",
      "[LightGBM] [Warning] Accuracy may be bad since you didn't explicitly set num_leaves OR 2^max_depth > num_leaves. (num_leaves=31).\n",
      "[LightGBM] [Warning] Accuracy may be bad since you didn't explicitly set num_leaves OR 2^max_depth > num_leaves. (num_leaves=31).\n",
      "[LightGBM] [Warning] Auto-choosing row-wise multi-threading, the overhead of testing was 0.054811 seconds.\n",
      "You can set `force_row_wise=true` to remove the overhead.\n",
      "And if memory is not enough, you can set `force_col_wise=true`.\n",
      "[LightGBM] [Info] Total Bins 812\n",
      "[LightGBM] [Info] Number of data points in the train set: 627160, number of used features: 20\n",
      "[LightGBM] [Warning] Accuracy may be bad since you didn't explicitly set num_leaves OR 2^max_depth > num_leaves. (num_leaves=31).\n",
      "[LightGBM] [Info] Start training from score 1.149478\n",
      "Training until validation scores don't improve for 50 rounds\n",
      "[50]\ttraining's l2: 0.409401\tvalid_1's l2: 0.423551\n",
      "[100]\ttraining's l2: 0.398262\tvalid_1's l2: 0.410225\n",
      "[150]\ttraining's l2: 0.395389\tvalid_1's l2: 0.407964\n",
      "[200]\ttraining's l2: 0.393874\tvalid_1's l2: 0.407022\n",
      "[250]\ttraining's l2: 0.392681\tvalid_1's l2: 0.406516\n",
      "[300]\ttraining's l2: 0.391742\tvalid_1's l2: 0.405954\n",
      "[350]\ttraining's l2: 0.390931\tvalid_1's l2: 0.405787\n",
      "[400]\ttraining's l2: 0.390226\tvalid_1's l2: 0.405642\n",
      "[450]\ttraining's l2: 0.389579\tvalid_1's l2: 0.405595\n",
      "[500]\ttraining's l2: 0.38896\tvalid_1's l2: 0.4055\n",
      "[550]\ttraining's l2: 0.388425\tvalid_1's l2: 0.405428\n",
      "[600]\ttraining's l2: 0.3879\tvalid_1's l2: 0.405424\n",
      "Early stopping, best iteration is:\n",
      "[584]\ttraining's l2: 0.388077\tvalid_1's l2: 0.405373\n",
      "mean_14_2017: 2628704.43\n",
      "mean_7_2017: 682758.00\n",
      "mean_3_2017: 273936.11\n",
      "promo_5: 91948.43\n",
      "promo_14_2017: 45189.86\n",
      "promo_3: 15276.83\n",
      "promo_6: 11923.21\n",
      "promo_7: 9606.23\n",
      "promo_0: 5280.34\n",
      "promo_2: 4990.24\n",
      "promo_4: 4859.75\n",
      "promo_1: 4551.46\n",
      "promo_9: 3453.46\n",
      "promo_8: 3281.60\n",
      "promo_14: 2905.15\n",
      "promo_12: 2317.28\n",
      "promo_11: 2201.61\n",
      "promo_13: 1921.72\n",
      "promo_10: 1879.26\n",
      "promo_15: 970.45\n",
      "==================================================\n",
      "Step 7\n",
      "==================================================\n",
      "[LightGBM] [Warning] Accuracy may be bad since you didn't explicitly set num_leaves OR 2^max_depth > num_leaves. (num_leaves=31).\n",
      "[LightGBM] [Warning] Accuracy may be bad since you didn't explicitly set num_leaves OR 2^max_depth > num_leaves. (num_leaves=31).\n",
      "[LightGBM] [Warning] Auto-choosing row-wise multi-threading, the overhead of testing was 0.053470 seconds.\n",
      "You can set `force_row_wise=true` to remove the overhead.\n",
      "And if memory is not enough, you can set `force_col_wise=true`.\n",
      "[LightGBM] [Info] Total Bins 812\n",
      "[LightGBM] [Info] Number of data points in the train set: 627160, number of used features: 20\n",
      "[LightGBM] [Warning] Accuracy may be bad since you didn't explicitly set num_leaves OR 2^max_depth > num_leaves. (num_leaves=31).\n",
      "[LightGBM] [Info] Start training from score 1.088831\n",
      "Training until validation scores don't improve for 50 rounds\n",
      "[50]\ttraining's l2: 0.399056\tvalid_1's l2: 0.499663\n",
      "[100]\ttraining's l2: 0.387318\tvalid_1's l2: 0.484643\n",
      "[150]\ttraining's l2: 0.384294\tvalid_1's l2: 0.483727\n",
      "[200]\ttraining's l2: 0.382885\tvalid_1's l2: 0.483232\n",
      "[250]\ttraining's l2: 0.381782\tvalid_1's l2: 0.48316\n",
      "Early stopping, best iteration is:\n",
      "[221]\ttraining's l2: 0.3824\tvalid_1's l2: 0.483016\n",
      "mean_14_2017: 2372457.84\n",
      "mean_7_2017: 681685.30\n",
      "mean_3_2017: 217830.58\n",
      "promo_6: 153972.26\n",
      "promo_14_2017: 50377.55\n",
      "promo_3: 14306.18\n",
      "promo_13: 10128.67\n",
      "promo_7: 9923.83\n",
      "promo_5: 7778.01\n",
      "promo_0: 5090.17\n",
      "promo_1: 4830.57\n",
      "promo_4: 4013.63\n",
      "promo_14: 3480.05\n",
      "promo_9: 3372.38\n",
      "promo_2: 3043.53\n",
      "promo_8: 2126.92\n",
      "promo_15: 1355.74\n",
      "promo_11: 1080.99\n",
      "promo_12: 1003.88\n",
      "promo_10: 958.14\n",
      "==================================================\n",
      "Step 8\n",
      "==================================================\n",
      "[LightGBM] [Warning] Accuracy may be bad since you didn't explicitly set num_leaves OR 2^max_depth > num_leaves. (num_leaves=31).\n",
      "[LightGBM] [Warning] Accuracy may be bad since you didn't explicitly set num_leaves OR 2^max_depth > num_leaves. (num_leaves=31).\n",
      "[LightGBM] [Warning] Auto-choosing row-wise multi-threading, the overhead of testing was 0.053150 seconds.\n",
      "You can set `force_row_wise=true` to remove the overhead.\n",
      "And if memory is not enough, you can set `force_col_wise=true`.\n",
      "[LightGBM] [Info] Total Bins 812\n",
      "[LightGBM] [Info] Number of data points in the train set: 627160, number of used features: 20\n",
      "[LightGBM] [Warning] Accuracy may be bad since you didn't explicitly set num_leaves OR 2^max_depth > num_leaves. (num_leaves=31).\n",
      "[LightGBM] [Info] Start training from score 1.093566\n",
      "Training until validation scores don't improve for 50 rounds\n",
      "[50]\ttraining's l2: 0.387511\tvalid_1's l2: 0.459933\n",
      "[100]\ttraining's l2: 0.375409\tvalid_1's l2: 0.442333\n",
      "[150]\ttraining's l2: 0.372809\tvalid_1's l2: 0.439426\n",
      "[200]\ttraining's l2: 0.371382\tvalid_1's l2: 0.438852\n",
      "[250]\ttraining's l2: 0.370268\tvalid_1's l2: 0.438382\n",
      "[300]\ttraining's l2: 0.369349\tvalid_1's l2: 0.437888\n",
      "[350]\ttraining's l2: 0.368554\tvalid_1's l2: 0.437667\n",
      "[400]\ttraining's l2: 0.367907\tvalid_1's l2: 0.437424\n",
      "[LightGBM] [Warning] No further splits with positive gain, best gain: -inf\n",
      "[LightGBM] [Warning] No further splits with positive gain, best gain: -inf\n",
      "[450]\ttraining's l2: 0.367279\tvalid_1's l2: 0.437185\n",
      "[500]\ttraining's l2: 0.366663\tvalid_1's l2: 0.43697\n",
      "[550]\ttraining's l2: 0.366121\tvalid_1's l2: 0.436875\n",
      "[600]\ttraining's l2: 0.365637\tvalid_1's l2: 0.436669\n",
      "[650]\ttraining's l2: 0.365147\tvalid_1's l2: 0.436533\n",
      "[700]\ttraining's l2: 0.364681\tvalid_1's l2: 0.436503\n",
      "[750]\ttraining's l2: 0.364275\tvalid_1's l2: 0.436411\n",
      "[800]\ttraining's l2: 0.363863\tvalid_1's l2: 0.436372\n",
      "[850]\ttraining's l2: 0.363463\tvalid_1's l2: 0.436404\n",
      "Early stopping, best iteration is:\n",
      "[831]\ttraining's l2: 0.363612\tvalid_1's l2: 0.436329\n",
      "mean_14_2017: 2604673.68\n",
      "mean_7_2017: 772005.94\n",
      "promo_7: 207129.71\n",
      "mean_3_2017: 77900.70\n",
      "promo_14_2017: 44191.14\n",
      "promo_0: 40648.03\n",
      "promo_14: 18599.38\n",
      "promo_5: 8145.61\n",
      "promo_3: 6651.31\n",
      "promo_9: 6587.95\n",
      "promo_8: 5873.20\n",
      "promo_6: 5550.97\n",
      "promo_2: 3968.97\n",
      "promo_1: 3639.65\n",
      "promo_4: 3435.32\n",
      "promo_15: 3382.57\n",
      "promo_13: 2122.65\n",
      "promo_10: 2121.63\n",
      "promo_11: 1693.08\n",
      "promo_12: 1096.77\n",
      "==================================================\n",
      "Step 9\n",
      "==================================================\n",
      "[LightGBM] [Warning] Accuracy may be bad since you didn't explicitly set num_leaves OR 2^max_depth > num_leaves. (num_leaves=31).\n",
      "[LightGBM] [Warning] Accuracy may be bad since you didn't explicitly set num_leaves OR 2^max_depth > num_leaves. (num_leaves=31).\n",
      "[LightGBM] [Warning] Auto-choosing row-wise multi-threading, the overhead of testing was 0.053073 seconds.\n",
      "You can set `force_row_wise=true` to remove the overhead.\n",
      "And if memory is not enough, you can set `force_col_wise=true`.\n",
      "[LightGBM] [Info] Total Bins 812\n",
      "[LightGBM] [Info] Number of data points in the train set: 627160, number of used features: 20\n",
      "[LightGBM] [Warning] Accuracy may be bad since you didn't explicitly set num_leaves OR 2^max_depth > num_leaves. (num_leaves=31).\n",
      "[LightGBM] [Info] Start training from score 1.021405\n",
      "Training until validation scores don't improve for 50 rounds\n",
      "[50]\ttraining's l2: 0.394462\tvalid_1's l2: 0.438818\n",
      "[100]\ttraining's l2: 0.384406\tvalid_1's l2: 0.426795\n",
      "[150]\ttraining's l2: 0.381738\tvalid_1's l2: 0.425159\n",
      "[200]\ttraining's l2: 0.380271\tvalid_1's l2: 0.424837\n",
      "[250]\ttraining's l2: 0.379186\tvalid_1's l2: 0.424488\n",
      "[300]\ttraining's l2: 0.378293\tvalid_1's l2: 0.424364\n",
      "[LightGBM] [Warning] No further splits with positive gain, best gain: -inf\n",
      "[350]\ttraining's l2: 0.377568\tvalid_1's l2: 0.424143\n",
      "[LightGBM] [Warning] No further splits with positive gain, best gain: -inf\n",
      "[400]\ttraining's l2: 0.376916\tvalid_1's l2: 0.424025\n",
      "[450]\ttraining's l2: 0.376333\tvalid_1's l2: 0.423957\n",
      "[500]\ttraining's l2: 0.375758\tvalid_1's l2: 0.423918\n",
      "Early stopping, best iteration is:\n",
      "[489]\ttraining's l2: 0.375883\tvalid_1's l2: 0.423877\n",
      "mean_14_2017: 2277955.47\n",
      "mean_7_2017: 620716.12\n",
      "promo_8: 131967.53\n",
      "mean_3_2017: 64949.78\n",
      "promo_14_2017: 50687.16\n",
      "promo_10: 17187.82\n",
      "promo_7: 9524.05\n",
      "promo_9: 8013.87\n",
      "promo_3: 6011.09\n",
      "promo_11: 5060.99\n",
      "promo_12: 5003.54\n",
      "promo_0: 4351.71\n",
      "promo_5: 3813.30\n",
      "promo_13: 3734.33\n",
      "promo_14: 3472.81\n",
      "promo_15: 3101.08\n",
      "promo_2: 2577.96\n",
      "promo_1: 2293.66\n",
      "promo_6: 2290.46\n",
      "promo_4: 1694.87\n",
      "==================================================\n",
      "Step 10\n",
      "==================================================\n",
      "[LightGBM] [Warning] Accuracy may be bad since you didn't explicitly set num_leaves OR 2^max_depth > num_leaves. (num_leaves=31).\n",
      "[LightGBM] [Warning] Accuracy may be bad since you didn't explicitly set num_leaves OR 2^max_depth > num_leaves. (num_leaves=31).\n",
      "[LightGBM] [Warning] Auto-choosing row-wise multi-threading, the overhead of testing was 0.052535 seconds.\n",
      "You can set `force_row_wise=true` to remove the overhead.\n",
      "And if memory is not enough, you can set `force_col_wise=true`.\n",
      "[LightGBM] [Info] Total Bins 812\n",
      "[LightGBM] [Info] Number of data points in the train set: 627160, number of used features: 20\n",
      "[LightGBM] [Warning] Accuracy may be bad since you didn't explicitly set num_leaves OR 2^max_depth > num_leaves. (num_leaves=31).\n",
      "[LightGBM] [Info] Start training from score 1.107053\n",
      "Training until validation scores don't improve for 50 rounds\n",
      "[50]\ttraining's l2: 0.410232\tvalid_1's l2: 0.441559\n",
      "[100]\ttraining's l2: 0.397355\tvalid_1's l2: 0.428745\n",
      "[150]\ttraining's l2: 0.394059\tvalid_1's l2: 0.427309\n",
      "[200]\ttraining's l2: 0.392279\tvalid_1's l2: 0.426881\n",
      "[250]\ttraining's l2: 0.391018\tvalid_1's l2: 0.426827\n",
      "[300]\ttraining's l2: 0.390098\tvalid_1's l2: 0.426744\n",
      "[350]\ttraining's l2: 0.389263\tvalid_1's l2: 0.426787\n",
      "Early stopping, best iteration is:\n",
      "[334]\ttraining's l2: 0.389555\tvalid_1's l2: 0.426696\n",
      "mean_14_2017: 2555789.48\n",
      "mean_7_2017: 729487.05\n",
      "promo_9: 180296.96\n",
      "mean_3_2017: 71901.77\n",
      "promo_14_2017: 66009.35\n",
      "promo_2: 20450.17\n",
      "promo_10: 12406.41\n",
      "promo_7: 10066.86\n",
      "promo_8: 6319.72\n",
      "promo_14: 5336.27\n",
      "promo_12: 5254.42\n",
      "promo_11: 4829.55\n",
      "promo_13: 2612.15\n",
      "promo_0: 2509.63\n",
      "promo_1: 2394.11\n",
      "promo_6: 2263.48\n",
      "promo_15: 1751.57\n",
      "promo_4: 1718.33\n",
      "promo_5: 1377.41\n",
      "promo_3: 1151.68\n",
      "==================================================\n",
      "Step 11\n",
      "==================================================\n",
      "[LightGBM] [Warning] Accuracy may be bad since you didn't explicitly set num_leaves OR 2^max_depth > num_leaves. (num_leaves=31).\n",
      "[LightGBM] [Warning] Accuracy may be bad since you didn't explicitly set num_leaves OR 2^max_depth > num_leaves. (num_leaves=31).\n",
      "[LightGBM] [Warning] Auto-choosing col-wise multi-threading, the overhead of testing was 0.075882 seconds.\n",
      "You can set `force_col_wise=true` to remove the overhead.\n",
      "[LightGBM] [Info] Total Bins 812\n",
      "[LightGBM] [Info] Number of data points in the train set: 627160, number of used features: 20\n",
      "[LightGBM] [Warning] Accuracy may be bad since you didn't explicitly set num_leaves OR 2^max_depth > num_leaves. (num_leaves=31).\n",
      "[LightGBM] [Info] Start training from score 1.302907\n",
      "Training until validation scores don't improve for 50 rounds\n",
      "[50]\ttraining's l2: 0.446205\tvalid_1's l2: 0.448755\n",
      "[100]\ttraining's l2: 0.433572\tvalid_1's l2: 0.438777\n",
      "[150]\ttraining's l2: 0.429804\tvalid_1's l2: 0.437869\n",
      "[200]\ttraining's l2: 0.428034\tvalid_1's l2: 0.437814\n",
      "Early stopping, best iteration is:\n",
      "[190]\ttraining's l2: 0.428368\tvalid_1's l2: 0.437786\n",
      "mean_14_2017: 2876299.17\n",
      "mean_7_2017: 871509.08\n",
      "promo_10: 123243.50\n",
      "mean_3_2017: 73916.79\n",
      "promo_14_2017: 51566.89\n",
      "promo_9: 12867.51\n",
      "promo_14: 9345.23\n",
      "promo_7: 8361.90\n",
      "promo_11: 8307.00\n",
      "promo_8: 7805.18\n",
      "promo_12: 7129.20\n",
      "promo_3: 4715.41\n",
      "promo_15: 4556.97\n",
      "promo_13: 4415.80\n",
      "promo_0: 2716.56\n",
      "promo_2: 2464.33\n",
      "promo_6: 2421.39\n",
      "promo_5: 2253.18\n",
      "promo_1: 2061.53\n",
      "promo_4: 1939.87\n",
      "==================================================\n",
      "Step 12\n",
      "==================================================\n",
      "[LightGBM] [Warning] Accuracy may be bad since you didn't explicitly set num_leaves OR 2^max_depth > num_leaves. (num_leaves=31).\n",
      "[LightGBM] [Warning] Accuracy may be bad since you didn't explicitly set num_leaves OR 2^max_depth > num_leaves. (num_leaves=31).\n",
      "[LightGBM] [Warning] Auto-choosing row-wise multi-threading, the overhead of testing was 0.058807 seconds.\n",
      "You can set `force_row_wise=true` to remove the overhead.\n",
      "And if memory is not enough, you can set `force_col_wise=true`.\n",
      "[LightGBM] [Info] Total Bins 812\n",
      "[LightGBM] [Info] Number of data points in the train set: 627160, number of used features: 20\n",
      "[LightGBM] [Warning] Accuracy may be bad since you didn't explicitly set num_leaves OR 2^max_depth > num_leaves. (num_leaves=31).\n",
      "[LightGBM] [Info] Start training from score 1.343745\n",
      "Training until validation scores don't improve for 50 rounds\n",
      "[50]\ttraining's l2: 0.473659\tvalid_1's l2: 0.477829\n",
      "[100]\ttraining's l2: 0.460017\tvalid_1's l2: 0.467333\n",
      "[150]\ttraining's l2: 0.456154\tvalid_1's l2: 0.466061\n",
      "[200]\ttraining's l2: 0.454148\tvalid_1's l2: 0.465401\n",
      "[250]\ttraining's l2: 0.452708\tvalid_1's l2: 0.465015\n",
      "[300]\ttraining's l2: 0.451545\tvalid_1's l2: 0.464784\n",
      "[350]\ttraining's l2: 0.450597\tvalid_1's l2: 0.464638\n",
      "[400]\ttraining's l2: 0.449672\tvalid_1's l2: 0.464479\n",
      "[450]\ttraining's l2: 0.448914\tvalid_1's l2: 0.464308\n",
      "[500]\ttraining's l2: 0.448139\tvalid_1's l2: 0.464183\n",
      "[550]\ttraining's l2: 0.447471\tvalid_1's l2: 0.464152\n",
      "[600]\ttraining's l2: 0.446836\tvalid_1's l2: 0.464181\n",
      "Early stopping, best iteration is:\n",
      "[555]\ttraining's l2: 0.447407\tvalid_1's l2: 0.464138\n",
      "mean_14_2017: 3135685.12\n",
      "mean_7_2017: 649804.17\n",
      "mean_3_2017: 329050.19\n",
      "promo_11: 120637.84\n",
      "promo_14_2017: 52201.77\n",
      "promo_14: 13663.64\n",
      "promo_10: 13041.92\n",
      "promo_9: 12161.36\n",
      "promo_12: 11676.84\n",
      "promo_4: 11158.56\n",
      "promo_13: 9248.05\n",
      "promo_7: 8573.38\n",
      "promo_8: 7354.27\n",
      "promo_15: 3616.12\n",
      "promo_0: 3556.37\n",
      "promo_6: 3249.01\n",
      "promo_1: 2670.50\n",
      "promo_2: 2549.46\n",
      "promo_3: 2256.80\n",
      "promo_5: 2247.19\n",
      "==================================================\n",
      "Step 13\n",
      "==================================================\n",
      "[LightGBM] [Warning] Accuracy may be bad since you didn't explicitly set num_leaves OR 2^max_depth > num_leaves. (num_leaves=31).\n",
      "[LightGBM] [Warning] Accuracy may be bad since you didn't explicitly set num_leaves OR 2^max_depth > num_leaves. (num_leaves=31).\n",
      "[LightGBM] [Warning] Auto-choosing row-wise multi-threading, the overhead of testing was 0.052998 seconds.\n",
      "You can set `force_row_wise=true` to remove the overhead.\n",
      "And if memory is not enough, you can set `force_col_wise=true`.\n",
      "[LightGBM] [Info] Total Bins 812\n",
      "[LightGBM] [Info] Number of data points in the train set: 627160, number of used features: 20\n",
      "[LightGBM] [Warning] Accuracy may be bad since you didn't explicitly set num_leaves OR 2^max_depth > num_leaves. (num_leaves=31).\n",
      "[LightGBM] [Info] Start training from score 1.159270\n",
      "Training until validation scores don't improve for 50 rounds\n",
      "[50]\ttraining's l2: 0.439366\tvalid_1's l2: 0.441615\n",
      "[100]\ttraining's l2: 0.427533\tvalid_1's l2: 0.431817\n",
      "[150]\ttraining's l2: 0.424203\tvalid_1's l2: 0.430587\n",
      "[200]\ttraining's l2: 0.42245\tvalid_1's l2: 0.430069\n",
      "[250]\ttraining's l2: 0.421234\tvalid_1's l2: 0.429898\n",
      "[300]\ttraining's l2: 0.420227\tvalid_1's l2: 0.429613\n",
      "[350]\ttraining's l2: 0.419339\tvalid_1's l2: 0.429606\n",
      "Early stopping, best iteration is:\n",
      "[324]\ttraining's l2: 0.419813\tvalid_1's l2: 0.429568\n",
      "mean_14_2017: 2611532.40\n",
      "mean_7_2017: 555405.07\n",
      "mean_3_2017: 251249.05\n",
      "promo_12: 104315.41\n",
      "promo_14_2017: 47911.15\n",
      "promo_13: 29393.47\n",
      "promo_10: 13933.70\n",
      "promo_14: 13040.66\n",
      "promo_9: 7639.12\n",
      "promo_11: 6557.04\n",
      "promo_5: 5853.77\n",
      "promo_7: 5329.25\n",
      "promo_8: 4766.66\n",
      "promo_15: 4678.07\n",
      "promo_0: 2673.53\n",
      "promo_6: 2663.97\n",
      "promo_3: 1806.27\n",
      "promo_2: 1553.73\n",
      "promo_1: 1462.75\n",
      "promo_4: 1313.84\n",
      "==================================================\n",
      "Step 14\n",
      "==================================================\n",
      "[LightGBM] [Warning] Accuracy may be bad since you didn't explicitly set num_leaves OR 2^max_depth > num_leaves. (num_leaves=31).\n",
      "[LightGBM] [Warning] Accuracy may be bad since you didn't explicitly set num_leaves OR 2^max_depth > num_leaves. (num_leaves=31).\n",
      "[LightGBM] [Warning] Auto-choosing row-wise multi-threading, the overhead of testing was 0.052706 seconds.\n",
      "You can set `force_row_wise=true` to remove the overhead.\n",
      "And if memory is not enough, you can set `force_col_wise=true`.\n",
      "[LightGBM] [Info] Total Bins 812\n",
      "[LightGBM] [Info] Number of data points in the train set: 627160, number of used features: 20\n",
      "[LightGBM] [Warning] Accuracy may be bad since you didn't explicitly set num_leaves OR 2^max_depth > num_leaves. (num_leaves=31).\n",
      "[LightGBM] [Info] Start training from score 1.092901\n",
      "Training until validation scores don't improve for 50 rounds\n",
      "[50]\ttraining's l2: 0.42452\tvalid_1's l2: 0.424418\n",
      "[100]\ttraining's l2: 0.412408\tvalid_1's l2: 0.415604\n",
      "[150]\ttraining's l2: 0.409006\tvalid_1's l2: 0.414446\n",
      "[200]\ttraining's l2: 0.407341\tvalid_1's l2: 0.413832\n",
      "[250]\ttraining's l2: 0.406143\tvalid_1's l2: 0.413907\n",
      "Early stopping, best iteration is:\n",
      "[207]\ttraining's l2: 0.407165\tvalid_1's l2: 0.413726\n",
      "mean_14_2017: 2386583.02\n",
      "mean_7_2017: 540773.01\n",
      "mean_3_2017: 200752.54\n",
      "promo_13: 186378.15\n",
      "promo_14_2017: 47734.43\n",
      "promo_12: 18172.99\n",
      "promo_6: 13519.71\n",
      "promo_14: 13390.73\n",
      "promo_10: 10409.61\n",
      "promo_0: 5888.98\n",
      "promo_9: 5553.76\n",
      "promo_7: 5231.58\n",
      "promo_11: 4018.89\n",
      "promo_8: 3765.98\n",
      "promo_15: 3731.59\n",
      "promo_2: 2026.13\n",
      "promo_1: 1628.19\n",
      "promo_5: 1191.51\n",
      "promo_4: 1024.79\n",
      "promo_3: 920.61\n",
      "==================================================\n",
      "Step 15\n",
      "==================================================\n",
      "[LightGBM] [Warning] Accuracy may be bad since you didn't explicitly set num_leaves OR 2^max_depth > num_leaves. (num_leaves=31).\n",
      "[LightGBM] [Warning] Accuracy may be bad since you didn't explicitly set num_leaves OR 2^max_depth > num_leaves. (num_leaves=31).\n",
      "[LightGBM] [Warning] Auto-choosing row-wise multi-threading, the overhead of testing was 0.053786 seconds.\n",
      "You can set `force_row_wise=true` to remove the overhead.\n",
      "And if memory is not enough, you can set `force_col_wise=true`.\n",
      "[LightGBM] [Info] Total Bins 812\n",
      "[LightGBM] [Info] Number of data points in the train set: 627160, number of used features: 20\n",
      "[LightGBM] [Warning] Accuracy may be bad since you didn't explicitly set num_leaves OR 2^max_depth > num_leaves. (num_leaves=31).\n",
      "[LightGBM] [Info] Start training from score 1.090359\n",
      "Training until validation scores don't improve for 50 rounds\n",
      "[50]\ttraining's l2: 0.410485\tvalid_1's l2: 0.409808\n",
      "[100]\ttraining's l2: 0.396874\tvalid_1's l2: 0.398302\n",
      "[150]\ttraining's l2: 0.394192\tvalid_1's l2: 0.397597\n",
      "[200]\ttraining's l2: 0.392635\tvalid_1's l2: 0.397482\n",
      "[250]\ttraining's l2: 0.391542\tvalid_1's l2: 0.397488\n",
      "Early stopping, best iteration is:\n",
      "[228]\ttraining's l2: 0.392028\tvalid_1's l2: 0.397371\n",
      "mean_14_2017: 2624676.30\n",
      "mean_7_2017: 565393.57\n",
      "promo_14: 228672.39\n",
      "mean_3_2017: 62522.80\n",
      "promo_14_2017: 45773.40\n",
      "promo_7: 31612.50\n",
      "promo_0: 30722.64\n",
      "promo_15: 19910.74\n",
      "promo_13: 11192.39\n",
      "promo_12: 10109.49\n",
      "promo_9: 9643.96\n",
      "promo_10: 6402.86\n",
      "promo_2: 4112.77\n",
      "promo_6: 2778.03\n",
      "promo_11: 2692.96\n",
      "promo_8: 2584.42\n",
      "promo_4: 1926.90\n",
      "promo_1: 1914.34\n",
      "promo_5: 1290.78\n",
      "promo_3: 943.73\n",
      "==================================================\n",
      "Step 16\n",
      "==================================================\n",
      "[LightGBM] [Warning] Accuracy may be bad since you didn't explicitly set num_leaves OR 2^max_depth > num_leaves. (num_leaves=31).\n",
      "[LightGBM] [Warning] Accuracy may be bad since you didn't explicitly set num_leaves OR 2^max_depth > num_leaves. (num_leaves=31).\n",
      "[LightGBM] [Warning] Auto-choosing col-wise multi-threading, the overhead of testing was 0.213084 seconds.\n",
      "You can set `force_col_wise=true` to remove the overhead.\n",
      "[LightGBM] [Info] Total Bins 812\n",
      "[LightGBM] [Info] Number of data points in the train set: 627160, number of used features: 20\n",
      "[LightGBM] [Warning] Accuracy may be bad since you didn't explicitly set num_leaves OR 2^max_depth > num_leaves. (num_leaves=31).\n",
      "[LightGBM] [Info] Start training from score 1.015962\n",
      "Training until validation scores don't improve for 50 rounds\n",
      "[50]\ttraining's l2: 0.41869\tvalid_1's l2: 0.431242\n",
      "[100]\ttraining's l2: 0.408376\tvalid_1's l2: 0.423363\n",
      "[150]\ttraining's l2: 0.405456\tvalid_1's l2: 0.422143\n",
      "[200]\ttraining's l2: 0.403873\tvalid_1's l2: 0.421787\n",
      "[250]\ttraining's l2: 0.402661\tvalid_1's l2: 0.421573\n",
      "[300]\ttraining's l2: 0.401596\tvalid_1's l2: 0.421395\n",
      "[350]\ttraining's l2: 0.40078\tvalid_1's l2: 0.421252\n",
      "Early stopping, best iteration is:\n",
      "[344]\ttraining's l2: 0.400871\tvalid_1's l2: 0.421199\n",
      "mean_14_2017: 2333496.40\n",
      "mean_7_2017: 437514.01\n",
      "promo_15: 182789.19\n",
      "mean_3_2017: 59410.08\n",
      "promo_14_2017: 50479.03\n",
      "promo_14: 9862.93\n",
      "promo_7: 4975.62\n",
      "promo_0: 4531.70\n",
      "promo_9: 4407.30\n",
      "promo_10: 4043.87\n",
      "promo_13: 3626.95\n",
      "promo_12: 3611.92\n",
      "promo_8: 3504.05\n",
      "promo_11: 2715.73\n",
      "promo_2: 2602.83\n",
      "promo_1: 2048.45\n",
      "promo_6: 1717.75\n",
      "promo_3: 1652.82\n",
      "promo_4: 1426.96\n",
      "promo_5: 1056.23\n",
      "Validation mse: 0.4140151461188983\n",
      "Making submission...\n"
     ]
    }
   ],
   "source": [
    "print(\"Training and predicting models...\")\n",
    "params = {\n",
    "    'num_leaves': 2**5 - 1,\n",
    "    'objective': 'regression_l2',\n",
    "    'max_depth': 8,\n",
    "    'min_data_in_leaf': 50,\n",
    "    'learning_rate': 0.05,\n",
    "    'feature_fraction': 0.75,\n",
    "    'bagging_fraction': 0.75,\n",
    "    'bagging_freq': 1,\n",
    "    'metric': 'l2',\n",
    "    'num_threads': 4\n",
    "}\n",
    "\n",
    "MAX_ROUNDS = 1000\n",
    "val_pred = []\n",
    "test_pred = []\n",
    "cate_vars = []\n",
    "for i in range(16): # 只能一个一个训练\n",
    "    print(\"=\" * 50)\n",
    "    print(\"Step %d\" % (i+1))\n",
    "    print(\"=\" * 50)\n",
    "    dtrain = lgb.Dataset(\n",
    "        X_train, label=y_train[:, i],\n",
    "        categorical_feature=cate_vars,\n",
    "        weight=pd.concat([items[\"perishable\"]] * 4) * 0.25 + 1 # 因为训练集样本是4天，所以重复4次,腐败的权重多0.25\n",
    "    )\n",
    "    dval = lgb.Dataset(\n",
    "        X_val, label=y_val[:, i], reference=dtrain,\n",
    "        weight=items[\"perishable\"] * 0.25 + 1,\n",
    "        categorical_feature=cate_vars)\n",
    "    bst = lgb.train(\n",
    "        params, dtrain, num_boost_round=MAX_ROUNDS,\n",
    "        valid_sets=[dtrain, dval], early_stopping_rounds=50, verbose_eval=50\n",
    "    )\n",
    "    print(\"\\n\".join((\"%s: %.2f\" % x) for x in sorted(\n",
    "        zip(X_train.columns, bst.feature_importance(\"gain\")),\n",
    "        key=lambda x: x[1], reverse=True\n",
    "    )))\n",
    "    val_pred.append(bst.predict(\n",
    "        X_val, num_iteration=bst.best_iteration or MAX_ROUNDS))\n",
    "    test_pred.append(bst.predict(\n",
    "        X_test, num_iteration=bst.best_iteration or MAX_ROUNDS))\n",
    "\n",
    "print(\"Validation mse:\", mean_squared_error(\n",
    "    y_val, np.array(val_pred).transpose()))\n",
    "\"\"\"\n",
    "df_test[[\"id\"]] # df_test中，每家店列出来的商品都是一样的，且每天都全部记录一次\n",
    "df_preds # 每种商品只列举了一次,第一家商店，16天的单价\n",
    "156790 每家商店的所有item列表 ，156790*16天的单价->2508640\n",
    "\"\"\"\n",
    "print(\"Making submission...\")\n",
    "y_test = np.array(test_pred).transpose()\n",
    "df_preds = pd.DataFrame(\n",
    "    y_test, index=df_2017.index,\n",
    "    columns=pd.date_range(\"2017-08-16\", periods=16)\n",
    ").stack().to_frame(\"unit_sales\")\n",
    "df_preds.index.set_names([\"store_nbr\", \"item_nbr\", \"date\"], inplace=True)\n",
    "\n",
    "submission = df_test[[\"id\"]].join(df_preds, how=\"left\").fillna(0)\n",
    "submission[\"unit_sales\"] = np.clip(np.expm1(submission[\"unit_sales\"]), 0, 1000)\n",
    "submission.to_csv('submission.csv', float_format='%.4f', index=None)"
   ]
  }
 ],
 "metadata": {
  "kernelspec": {
   "display_name": "Python 3 (ipykernel)",
   "language": "python",
   "name": "python3"
  },
  "language_info": {
   "codemirror_mode": {
    "name": "ipython",
    "version": 3
   },
   "file_extension": ".py",
   "mimetype": "text/x-python",
   "name": "python",
   "nbconvert_exporter": "python",
   "pygments_lexer": "ipython3",
   "version": "3.8.12"
  },
  "papermill": {
   "default_parameters": {},
   "duration": 745.804697,
   "end_time": "2021-11-26T04:15:03.096223",
   "environment_variables": {},
   "exception": null,
   "input_path": "__notebook__.ipynb",
   "output_path": "__notebook__.ipynb",
   "parameters": {},
   "start_time": "2021-11-26T04:02:37.291526",
   "version": "2.3.3"
  }
 },
 "nbformat": 4,
 "nbformat_minor": 5
}
