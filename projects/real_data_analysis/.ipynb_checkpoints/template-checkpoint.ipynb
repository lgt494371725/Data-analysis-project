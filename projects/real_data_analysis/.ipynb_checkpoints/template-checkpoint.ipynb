{
 "cells": [
  {
   "cell_type": "code",
   "execution_count": null,
   "id": "71adcf32",
   "metadata": {},
   "outputs": [],
   "source": [
    "import pandas as pd, numpy as np\n",
    "import pathlib, codecs\n",
    "import matplotlib.pyplot as plt\n",
    "import seaborn as sns\n",
    "from sklearn.preprocessing import OneHotEncoder\n",
    "# import japanize_matplotlib\n",
    "plt.rcParams['font.sans-serif']='MS Mincho'\n",
    "%matplotlib inline"
   ]
  },
  {
   "cell_type": "markdown",
   "id": "4a43c400",
   "metadata": {},
   "source": [
    "# Combining data to one file\n",
    "\n",
    "if you already combine files, skip this"
   ]
  },
  {
   "cell_type": "code",
   "execution_count": null,
   "id": "5e6d5aca",
   "metadata": {},
   "outputs": [],
   "source": [
    "def get_df(file_path):\n",
    "    with codecs.open(file_path, \"r\", \"Shift-JIS\", \"ignore\") as fp:\n",
    "        df = pd.read_csv(fp)\n",
    "    df[df.columns[7]] = df[df.columns[7]].astype(float)\n",
    "    return df\n",
    "data_dir = 'where you files in'\n",
    "paths = list(data_dir.glob('*'))\n",
    "_all = []\n",
    "for i in paths:\n",
    "    _all.append(get_df(i))\n",
    "data = pd.concat(_all)\n",
    "data.to_csv('data.csv')"
   ]
  },
  {
   "cell_type": "markdown",
   "id": "863fac48",
   "metadata": {},
   "source": [
    "# preprocessing"
   ]
  },
  {
   "cell_type": "code",
   "execution_count": null,
   "id": "5dc23eb3",
   "metadata": {},
   "outputs": [],
   "source": [
    "data=pd.read_csv('data.csv',\n",
    "                 index_col=0,\n",
    "                 parse_dates=[\"transaction_date\"])\n",
    "data = data.dropna()\n",
    "data = data.sort_values('transaction_date')\n",
    "data_n = data[data.CASHING_SUM>=10000.0]\n",
    "data_n = data_n[data_n.CASHING_SUM<500000.0]"
   ]
  },
  {
   "cell_type": "code",
   "execution_count": null,
   "id": "bf1a229d",
   "metadata": {},
   "outputs": [],
   "source": [
    "def transform_one_hot(data, col):\n",
    "    enc = OneHotEncoder().fit(np.array(data[col]).reshape(-1,1)) # 可输入多列\n",
    "    result = enc.transform(np.array(data[col]).reshape(-1,1)).toarray()\n",
    "    data = data.drop(col,axis=1)\n",
    "    new_col = pd.DataFrame(result,columns=[i.replace('x0_','') for i in enc.get_feature_names_out()])\n",
    "    new_col.index = data.index\n",
    "    if 'なし' in new_col.columns:\n",
    "        new_col.drop('なし',axis=1,inplace=True)\n",
    "    return pd.concat([new_col,data],axis=1)"
   ]
  },
  {
   "cell_type": "code",
   "execution_count": null,
   "id": "28517581",
   "metadata": {},
   "outputs": [],
   "source": [
    "for col_name in ['FAMILY_CD', 'HOUSEHOLD_CD', 'OCCUPATION_CD']:\n",
    "    data_n = transform_one_hot(data_n, col_name)"
   ]
  },
  {
   "cell_type": "code",
   "execution_count": null,
   "id": "08259a69",
   "metadata": {},
   "outputs": [],
   "source": [
    "Age = ['20歳未満','20-29','30-39','40-49','50-59','60-69','70歳以上']\n",
    "data_n['AGE'] = data_n['AGE'].apply(lambda i:(Age.index(i)*10)+15)\n",
    "Salary = ['200万未満','200万以上400万未満','400万以上600万未満','600万以上800万未満','800万以上1000万未満','1000万以上1500万未満','1500万以上']\n",
    "data_n['SALARY_CD'] = data_n['SALARY_CD'].apply(lambda i:(Salary.index(i)*200)+100)"
   ]
  },
  {
   "cell_type": "code",
   "execution_count": null,
   "id": "7019662b",
   "metadata": {},
   "outputs": [],
   "source": [
    "data_n"
   ]
  },
  {
   "cell_type": "markdown",
   "id": "2cdf18b1",
   "metadata": {},
   "source": [
    "# Cross Validation"
   ]
  },
  {
   "cell_type": "code",
   "execution_count": 2,
   "id": "73322340",
   "metadata": {},
   "outputs": [],
   "source": [
    "from sklearn.model_selection import TimeSeriesSplit\n",
    "tscv = TimeSeriesSplit(n_splits=5)\n",
    "date_counts = data_n.transaction_date.value_counts().sort_index()"
   ]
  },
  {
   "cell_type": "code",
   "execution_count": null,
   "id": "b9456792",
   "metadata": {},
   "outputs": [],
   "source": [
    "date_counts"
   ]
  },
  {
   "cell_type": "code",
   "execution_count": null,
   "id": "c49b0b17",
   "metadata": {},
   "outputs": [],
   "source": [
    "for _train, _test in tscv.split(date_counts):\n",
    "    lower_bound = date_counts[_train].sum()\n",
    "    upper_bound = lower_bound + date_counts[_test].sum()\n",
    "    train = data_n.iloc[:lower_bound,:]\n",
    "    test = data_n.iloc[lower_bound:upper_bound,:]\n",
    "    print(train)\n",
    "    print(\"-------\")\n",
    "    print(test)\n",
    "    # analysis"
   ]
  },
  {
   "cell_type": "markdown",
   "id": "5bde9e22",
   "metadata": {},
   "source": [
    "# cirterion"
   ]
  },
  {
   "cell_type": "code",
   "execution_count": null,
   "id": "04727bc5",
   "metadata": {},
   "outputs": [],
   "source": [
    "from sklearn.metrics import mean_absolute_error\n",
    "from sklearn.metrics import mean_squared_error\n",
    "\n",
    "MAE = mean_absolute_error(pred, test)\n",
    "MSE = mean_squared_error(pred, test)\n",
    "print('MAE: {}'.format(MAE))\n",
    "print('MSE: {}'.format(MSE))"
   ]
  }
 ],
 "metadata": {
  "kernelspec": {
   "display_name": "Python 3 (ipykernel)",
   "language": "python",
   "name": "python3"
  },
  "language_info": {
   "codemirror_mode": {
    "name": "ipython",
    "version": 3
   },
   "file_extension": ".py",
   "mimetype": "text/x-python",
   "name": "python",
   "nbconvert_exporter": "python",
   "pygments_lexer": "ipython3",
   "version": "3.8.12"
  }
 },
 "nbformat": 4,
 "nbformat_minor": 5
}
