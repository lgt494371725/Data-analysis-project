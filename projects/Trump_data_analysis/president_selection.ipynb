{
 "cells": [
  {
   "cell_type": "code",
   "execution_count": 1,
   "metadata": {},
   "outputs": [],
   "source": [
    "import pymysql.cursors\n",
    "import pandas as pd\n",
    "connection = pymysql.connect(host='127.0.0.1',port=3306,\\\n",
    "                         user='root',password='root',db='test',charset='utf8mb4',cursorclass=pymysql.cursors.DictCursor)"
   ]
  },
  {
   "cell_type": "code",
   "execution_count": 2,
   "metadata": {
    "scrolled": true
   },
   "outputs": [
    {
     "ename": "FileNotFoundError",
     "evalue": "[Errno 2] File C:\\Users\\yukino\\Desktop\\weball20.txt does not exist: 'C:\\\\Users\\\\yukino\\\\Desktop\\\\weball20.txt'",
     "output_type": "error",
     "traceback": [
      "\u001b[1;31m---------------------------------------------------------------------------\u001b[0m",
      "\u001b[1;31mFileNotFoundError\u001b[0m                         Traceback (most recent call last)",
      "\u001b[1;32m<ipython-input-2-e48c47fdb7e6>\u001b[0m in \u001b[0;36m<module>\u001b[1;34m\u001b[0m\n\u001b[1;32m----> 1\u001b[1;33m candidates = pd.read_csv(\"C:\\\\Users\\\\yukino\\\\Desktop\\\\weball20.txt\", sep = '|',names=['CAND_ID','CAND_NAME','CAND_ICI','PTY_CD','CAND_PTY_AFFILIATION','TTL_RECEIPTS',\n\u001b[0m\u001b[0;32m      2\u001b[0m                                                           \u001b[1;34m'TRANS_FROM_AUTH'\u001b[0m\u001b[1;33m,\u001b[0m\u001b[1;34m'TTL_DISB'\u001b[0m\u001b[1;33m,\u001b[0m\u001b[1;34m'TRANS_TO_AUTH'\u001b[0m\u001b[1;33m,\u001b[0m\u001b[1;34m'COH_BOP'\u001b[0m\u001b[1;33m,\u001b[0m\u001b[1;34m'COH_COP'\u001b[0m\u001b[1;33m,\u001b[0m\u001b[1;34m'CAND_CONTRIB'\u001b[0m\u001b[1;33m,\u001b[0m\u001b[1;33m\u001b[0m\u001b[1;33m\u001b[0m\u001b[0m\n\u001b[0;32m      3\u001b[0m                                                           \u001b[1;34m'CAND_LOANS'\u001b[0m\u001b[1;33m,\u001b[0m\u001b[1;34m'OTHER_LOANS'\u001b[0m\u001b[1;33m,\u001b[0m\u001b[1;34m'CAND_LOAN_REPAY'\u001b[0m\u001b[1;33m,\u001b[0m\u001b[1;34m'OTHER_LOAN_REPAY'\u001b[0m\u001b[1;33m,\u001b[0m\u001b[1;34m'DEBTS_OWED_BY'\u001b[0m\u001b[1;33m,\u001b[0m\u001b[1;33m\u001b[0m\u001b[1;33m\u001b[0m\u001b[0m\n\u001b[0;32m      4\u001b[0m                                                           \u001b[1;34m'TTL_INDIV_CONTRIB'\u001b[0m\u001b[1;33m,\u001b[0m\u001b[1;34m'CAND_OFFICE_ST'\u001b[0m\u001b[1;33m,\u001b[0m\u001b[1;34m'CAND_OFFICE_DISTRICT'\u001b[0m\u001b[1;33m,\u001b[0m\u001b[1;34m'SPEC_ELECTION'\u001b[0m\u001b[1;33m,\u001b[0m\u001b[1;34m'PRIM_ELECTION'\u001b[0m\u001b[1;33m,\u001b[0m\u001b[1;34m'RUN_ELECTION'\u001b[0m\u001b[1;33m\u001b[0m\u001b[1;33m\u001b[0m\u001b[0m\n\u001b[0;32m      5\u001b[0m                                                           \u001b[1;33m,\u001b[0m\u001b[1;34m'GEN_ELECTION'\u001b[0m\u001b[1;33m,\u001b[0m\u001b[1;34m'GEN_ELECTION_PRECENT'\u001b[0m\u001b[1;33m,\u001b[0m\u001b[1;34m'OTHER_POL_CMTE_CONTRIB'\u001b[0m\u001b[1;33m,\u001b[0m\u001b[1;34m'POL_PTY_CONTRIB'\u001b[0m\u001b[1;33m,\u001b[0m\u001b[1;33m\u001b[0m\u001b[1;33m\u001b[0m\u001b[0m\n",
      "\u001b[1;32mD:\\Anaconda\\lib\\site-packages\\pandas\\io\\parsers.py\u001b[0m in \u001b[0;36mparser_f\u001b[1;34m(filepath_or_buffer, sep, delimiter, header, names, index_col, usecols, squeeze, prefix, mangle_dupe_cols, dtype, engine, converters, true_values, false_values, skipinitialspace, skiprows, skipfooter, nrows, na_values, keep_default_na, na_filter, verbose, skip_blank_lines, parse_dates, infer_datetime_format, keep_date_col, date_parser, dayfirst, cache_dates, iterator, chunksize, compression, thousands, decimal, lineterminator, quotechar, quoting, doublequote, escapechar, comment, encoding, dialect, error_bad_lines, warn_bad_lines, delim_whitespace, low_memory, memory_map, float_precision)\u001b[0m\n\u001b[0;32m    674\u001b[0m         )\n\u001b[0;32m    675\u001b[0m \u001b[1;33m\u001b[0m\u001b[0m\n\u001b[1;32m--> 676\u001b[1;33m         \u001b[1;32mreturn\u001b[0m \u001b[0m_read\u001b[0m\u001b[1;33m(\u001b[0m\u001b[0mfilepath_or_buffer\u001b[0m\u001b[1;33m,\u001b[0m \u001b[0mkwds\u001b[0m\u001b[1;33m)\u001b[0m\u001b[1;33m\u001b[0m\u001b[1;33m\u001b[0m\u001b[0m\n\u001b[0m\u001b[0;32m    677\u001b[0m \u001b[1;33m\u001b[0m\u001b[0m\n\u001b[0;32m    678\u001b[0m     \u001b[0mparser_f\u001b[0m\u001b[1;33m.\u001b[0m\u001b[0m__name__\u001b[0m \u001b[1;33m=\u001b[0m \u001b[0mname\u001b[0m\u001b[1;33m\u001b[0m\u001b[1;33m\u001b[0m\u001b[0m\n",
      "\u001b[1;32mD:\\Anaconda\\lib\\site-packages\\pandas\\io\\parsers.py\u001b[0m in \u001b[0;36m_read\u001b[1;34m(filepath_or_buffer, kwds)\u001b[0m\n\u001b[0;32m    446\u001b[0m \u001b[1;33m\u001b[0m\u001b[0m\n\u001b[0;32m    447\u001b[0m     \u001b[1;31m# Create the parser.\u001b[0m\u001b[1;33m\u001b[0m\u001b[1;33m\u001b[0m\u001b[1;33m\u001b[0m\u001b[0m\n\u001b[1;32m--> 448\u001b[1;33m     \u001b[0mparser\u001b[0m \u001b[1;33m=\u001b[0m \u001b[0mTextFileReader\u001b[0m\u001b[1;33m(\u001b[0m\u001b[0mfp_or_buf\u001b[0m\u001b[1;33m,\u001b[0m \u001b[1;33m**\u001b[0m\u001b[0mkwds\u001b[0m\u001b[1;33m)\u001b[0m\u001b[1;33m\u001b[0m\u001b[1;33m\u001b[0m\u001b[0m\n\u001b[0m\u001b[0;32m    449\u001b[0m \u001b[1;33m\u001b[0m\u001b[0m\n\u001b[0;32m    450\u001b[0m     \u001b[1;32mif\u001b[0m \u001b[0mchunksize\u001b[0m \u001b[1;32mor\u001b[0m \u001b[0miterator\u001b[0m\u001b[1;33m:\u001b[0m\u001b[1;33m\u001b[0m\u001b[1;33m\u001b[0m\u001b[0m\n",
      "\u001b[1;32mD:\\Anaconda\\lib\\site-packages\\pandas\\io\\parsers.py\u001b[0m in \u001b[0;36m__init__\u001b[1;34m(self, f, engine, **kwds)\u001b[0m\n\u001b[0;32m    878\u001b[0m             \u001b[0mself\u001b[0m\u001b[1;33m.\u001b[0m\u001b[0moptions\u001b[0m\u001b[1;33m[\u001b[0m\u001b[1;34m\"has_index_names\"\u001b[0m\u001b[1;33m]\u001b[0m \u001b[1;33m=\u001b[0m \u001b[0mkwds\u001b[0m\u001b[1;33m[\u001b[0m\u001b[1;34m\"has_index_names\"\u001b[0m\u001b[1;33m]\u001b[0m\u001b[1;33m\u001b[0m\u001b[1;33m\u001b[0m\u001b[0m\n\u001b[0;32m    879\u001b[0m \u001b[1;33m\u001b[0m\u001b[0m\n\u001b[1;32m--> 880\u001b[1;33m         \u001b[0mself\u001b[0m\u001b[1;33m.\u001b[0m\u001b[0m_make_engine\u001b[0m\u001b[1;33m(\u001b[0m\u001b[0mself\u001b[0m\u001b[1;33m.\u001b[0m\u001b[0mengine\u001b[0m\u001b[1;33m)\u001b[0m\u001b[1;33m\u001b[0m\u001b[1;33m\u001b[0m\u001b[0m\n\u001b[0m\u001b[0;32m    881\u001b[0m \u001b[1;33m\u001b[0m\u001b[0m\n\u001b[0;32m    882\u001b[0m     \u001b[1;32mdef\u001b[0m \u001b[0mclose\u001b[0m\u001b[1;33m(\u001b[0m\u001b[0mself\u001b[0m\u001b[1;33m)\u001b[0m\u001b[1;33m:\u001b[0m\u001b[1;33m\u001b[0m\u001b[1;33m\u001b[0m\u001b[0m\n",
      "\u001b[1;32mD:\\Anaconda\\lib\\site-packages\\pandas\\io\\parsers.py\u001b[0m in \u001b[0;36m_make_engine\u001b[1;34m(self, engine)\u001b[0m\n\u001b[0;32m   1112\u001b[0m     \u001b[1;32mdef\u001b[0m \u001b[0m_make_engine\u001b[0m\u001b[1;33m(\u001b[0m\u001b[0mself\u001b[0m\u001b[1;33m,\u001b[0m \u001b[0mengine\u001b[0m\u001b[1;33m=\u001b[0m\u001b[1;34m\"c\"\u001b[0m\u001b[1;33m)\u001b[0m\u001b[1;33m:\u001b[0m\u001b[1;33m\u001b[0m\u001b[1;33m\u001b[0m\u001b[0m\n\u001b[0;32m   1113\u001b[0m         \u001b[1;32mif\u001b[0m \u001b[0mengine\u001b[0m \u001b[1;33m==\u001b[0m \u001b[1;34m\"c\"\u001b[0m\u001b[1;33m:\u001b[0m\u001b[1;33m\u001b[0m\u001b[1;33m\u001b[0m\u001b[0m\n\u001b[1;32m-> 1114\u001b[1;33m             \u001b[0mself\u001b[0m\u001b[1;33m.\u001b[0m\u001b[0m_engine\u001b[0m \u001b[1;33m=\u001b[0m \u001b[0mCParserWrapper\u001b[0m\u001b[1;33m(\u001b[0m\u001b[0mself\u001b[0m\u001b[1;33m.\u001b[0m\u001b[0mf\u001b[0m\u001b[1;33m,\u001b[0m \u001b[1;33m**\u001b[0m\u001b[0mself\u001b[0m\u001b[1;33m.\u001b[0m\u001b[0moptions\u001b[0m\u001b[1;33m)\u001b[0m\u001b[1;33m\u001b[0m\u001b[1;33m\u001b[0m\u001b[0m\n\u001b[0m\u001b[0;32m   1115\u001b[0m         \u001b[1;32melse\u001b[0m\u001b[1;33m:\u001b[0m\u001b[1;33m\u001b[0m\u001b[1;33m\u001b[0m\u001b[0m\n\u001b[0;32m   1116\u001b[0m             \u001b[1;32mif\u001b[0m \u001b[0mengine\u001b[0m \u001b[1;33m==\u001b[0m \u001b[1;34m\"python\"\u001b[0m\u001b[1;33m:\u001b[0m\u001b[1;33m\u001b[0m\u001b[1;33m\u001b[0m\u001b[0m\n",
      "\u001b[1;32mD:\\Anaconda\\lib\\site-packages\\pandas\\io\\parsers.py\u001b[0m in \u001b[0;36m__init__\u001b[1;34m(self, src, **kwds)\u001b[0m\n\u001b[0;32m   1889\u001b[0m         \u001b[0mkwds\u001b[0m\u001b[1;33m[\u001b[0m\u001b[1;34m\"usecols\"\u001b[0m\u001b[1;33m]\u001b[0m \u001b[1;33m=\u001b[0m \u001b[0mself\u001b[0m\u001b[1;33m.\u001b[0m\u001b[0musecols\u001b[0m\u001b[1;33m\u001b[0m\u001b[1;33m\u001b[0m\u001b[0m\n\u001b[0;32m   1890\u001b[0m \u001b[1;33m\u001b[0m\u001b[0m\n\u001b[1;32m-> 1891\u001b[1;33m         \u001b[0mself\u001b[0m\u001b[1;33m.\u001b[0m\u001b[0m_reader\u001b[0m \u001b[1;33m=\u001b[0m \u001b[0mparsers\u001b[0m\u001b[1;33m.\u001b[0m\u001b[0mTextReader\u001b[0m\u001b[1;33m(\u001b[0m\u001b[0msrc\u001b[0m\u001b[1;33m,\u001b[0m \u001b[1;33m**\u001b[0m\u001b[0mkwds\u001b[0m\u001b[1;33m)\u001b[0m\u001b[1;33m\u001b[0m\u001b[1;33m\u001b[0m\u001b[0m\n\u001b[0m\u001b[0;32m   1892\u001b[0m         \u001b[0mself\u001b[0m\u001b[1;33m.\u001b[0m\u001b[0munnamed_cols\u001b[0m \u001b[1;33m=\u001b[0m \u001b[0mself\u001b[0m\u001b[1;33m.\u001b[0m\u001b[0m_reader\u001b[0m\u001b[1;33m.\u001b[0m\u001b[0munnamed_cols\u001b[0m\u001b[1;33m\u001b[0m\u001b[1;33m\u001b[0m\u001b[0m\n\u001b[0;32m   1893\u001b[0m \u001b[1;33m\u001b[0m\u001b[0m\n",
      "\u001b[1;32mpandas\\_libs\\parsers.pyx\u001b[0m in \u001b[0;36mpandas._libs.parsers.TextReader.__cinit__\u001b[1;34m()\u001b[0m\n",
      "\u001b[1;32mpandas\\_libs\\parsers.pyx\u001b[0m in \u001b[0;36mpandas._libs.parsers.TextReader._setup_parser_source\u001b[1;34m()\u001b[0m\n",
      "\u001b[1;31mFileNotFoundError\u001b[0m: [Errno 2] File C:\\Users\\yukino\\Desktop\\weball20.txt does not exist: 'C:\\\\Users\\\\yukino\\\\Desktop\\\\weball20.txt'"
     ]
    }
   ],
   "source": [
    "candidates = pd.read_csv(\"C:\\\\Users\\\\yukino\\\\Desktop\\\\weball20.txt\", sep = '|',names=['CAND_ID','CAND_NAME','CAND_ICI','PTY_CD','CAND_PTY_AFFILIATION','TTL_RECEIPTS',\n",
    "                                                          'TRANS_FROM_AUTH','TTL_DISB','TRANS_TO_AUTH','COH_BOP','COH_COP','CAND_CONTRIB',\n",
    "                                                          'CAND_LOANS','OTHER_LOANS','CAND_LOAN_REPAY','OTHER_LOAN_REPAY','DEBTS_OWED_BY',\n",
    "                                                          'TTL_INDIV_CONTRIB','CAND_OFFICE_ST','CAND_OFFICE_DISTRICT','SPEC_ELECTION','PRIM_ELECTION','RUN_ELECTION'\n",
    "                                                          ,'GEN_ELECTION','GEN_ELECTION_PRECENT','OTHER_POL_CMTE_CONTRIB','POL_PTY_CONTRIB',\n",
    "                                                          'CVG_END_DT','INDIV_REFUNDS','CMTE_REFUNDS'])\n",
    "#读取候选人和委员会的联系信息\n",
    "ccl = pd.read_csv(\"C:\\\\Users\\\\yukino\\\\Desktop\\\\ccl.txt\", sep = '|',names=['CAND_ID','CAND_ELECTION_YR','FEC_ELECTION_YR','CMTE_ID','CMTE_TP','CMTE_DSGN','LINKAGE_ID'])\n",
    "itcont = pd.read_csv('C:\\\\Users\\\\yukino\\\\Desktop\\\\itcont_2020_20200722_20200820.txt', sep='|',names=['CMTE_ID','AMNDT_IND','RPT_TP','TRANSACTION_PGI','IMAGE_NUM','TRANSACTION_TP','ENTITY_TP','NAME','CITY',\n",
    "                                                                              'STATE','ZIP_CODE','EMPLOYER','OCCUPATION','TRANSACTION_DT',\n",
    "                                                                                  'TRANSACTION_AMT','OTHER_ID','TRAN_ID','FILE_NUM','MEMO_CD','MEMO_TEXT','SUB_ID'])"
   ]
  },
  {
   "cell_type": "code",
   "execution_count": 3,
   "metadata": {},
   "outputs": [],
   "source": [
    "ccl = ccl[['CMTE_ID','CAND_ID']] \n",
    "candidates = candidates[['CAND_ID','CAND_NAME','CAND_PTY_AFFILIATION']]\n",
    "itcont = itcont[['CMTE_ID','NAME','STATE','EMPLOYER','OCCUPATION','TRANSACTION_AMT','TRANSACTION_DT']]"
   ]
  },
  {
   "cell_type": "code",
   "execution_count": 4,
   "metadata": {},
   "outputs": [],
   "source": [
    "ccl=pd.merge(ccl,candidates)\n",
    "c_itcont = pd.merge(ccl,itcont)"
   ]
  },
  {
   "cell_type": "code",
   "execution_count": 5,
   "metadata": {
    "scrolled": true
   },
   "outputs": [],
   "source": [
    "c_itcont = c_itcont.drop([\"CMTE_ID\",\"CAND_ID\"],axis='columns')"
   ]
  },
  {
   "cell_type": "code",
   "execution_count": 6,
   "metadata": {},
   "outputs": [
    {
     "data": {
      "text/html": [
       "<div>\n",
       "<style scoped>\n",
       "    .dataframe tbody tr th:only-of-type {\n",
       "        vertical-align: middle;\n",
       "    }\n",
       "\n",
       "    .dataframe tbody tr th {\n",
       "        vertical-align: top;\n",
       "    }\n",
       "\n",
       "    .dataframe thead th {\n",
       "        text-align: right;\n",
       "    }\n",
       "</style>\n",
       "<table border=\"1\" class=\"dataframe\">\n",
       "  <thead>\n",
       "    <tr style=\"text-align: right;\">\n",
       "      <th></th>\n",
       "      <th>CAND_NAME</th>\n",
       "      <th>CAND_PTY_AFFILIATION</th>\n",
       "      <th>NAME</th>\n",
       "      <th>STATE</th>\n",
       "      <th>EMPLOYER</th>\n",
       "      <th>OCCUPATION</th>\n",
       "      <th>TRANSACTION_AMT</th>\n",
       "      <th>TRANSACTION_DT</th>\n",
       "    </tr>\n",
       "  </thead>\n",
       "  <tbody>\n",
       "    <tr>\n",
       "      <th>0</th>\n",
       "      <td>MORGAN, JOSEPH DAVID</td>\n",
       "      <td>REP</td>\n",
       "      <td>MARTIN, WILLIAM II</td>\n",
       "      <td>AZ</td>\n",
       "      <td>RETIRED</td>\n",
       "      <td>RETIRED</td>\n",
       "      <td>100</td>\n",
       "      <td>7242020</td>\n",
       "    </tr>\n",
       "    <tr>\n",
       "      <th>1</th>\n",
       "      <td>MORGAN, JOSEPH DAVID</td>\n",
       "      <td>REP</td>\n",
       "      <td>RODRIGUEZ, GERARDO</td>\n",
       "      <td>AZ</td>\n",
       "      <td>VA HOSPITAL</td>\n",
       "      <td>LAB TECH</td>\n",
       "      <td>40</td>\n",
       "      <td>7242020</td>\n",
       "    </tr>\n",
       "    <tr>\n",
       "      <th>2</th>\n",
       "      <td>MORGAN, JOSEPH DAVID</td>\n",
       "      <td>REP</td>\n",
       "      <td>RODRIGUEZ, GERARDO</td>\n",
       "      <td>AZ</td>\n",
       "      <td>VA HOSPITAL</td>\n",
       "      <td>LAB TECH</td>\n",
       "      <td>40</td>\n",
       "      <td>7312020</td>\n",
       "    </tr>\n",
       "    <tr>\n",
       "      <th>3</th>\n",
       "      <td>WOOD, DANIEL</td>\n",
       "      <td>REP</td>\n",
       "      <td>HOPKINS, RICHARD</td>\n",
       "      <td>AZ</td>\n",
       "      <td>POWERS-LEAVITT</td>\n",
       "      <td>INSURANCE AGENT</td>\n",
       "      <td>300</td>\n",
       "      <td>8102020</td>\n",
       "    </tr>\n",
       "    <tr>\n",
       "      <th>4</th>\n",
       "      <td>WOOD, DANIEL</td>\n",
       "      <td>REP</td>\n",
       "      <td>PENDLETON, DIANE</td>\n",
       "      <td>AZ</td>\n",
       "      <td>UNEMPLOYED</td>\n",
       "      <td>NaN</td>\n",
       "      <td>500</td>\n",
       "      <td>8072020</td>\n",
       "    </tr>\n",
       "    <tr>\n",
       "      <th>5</th>\n",
       "      <td>WOOD, DANIEL</td>\n",
       "      <td>REP</td>\n",
       "      <td>PREVATT, WILLIAM</td>\n",
       "      <td>AZ</td>\n",
       "      <td>SELF-EMPLOYED</td>\n",
       "      <td>DVM</td>\n",
       "      <td>500</td>\n",
       "      <td>7312020</td>\n",
       "    </tr>\n",
       "    <tr>\n",
       "      <th>6</th>\n",
       "      <td>WOOD, DANIEL</td>\n",
       "      <td>REP</td>\n",
       "      <td>HARDING, DOUG</td>\n",
       "      <td>AZ</td>\n",
       "      <td>MICROSURE</td>\n",
       "      <td>OPERATIONS MANAGER</td>\n",
       "      <td>2800</td>\n",
       "      <td>8102020</td>\n",
       "    </tr>\n",
       "    <tr>\n",
       "      <th>7</th>\n",
       "      <td>WOOD, DANIEL</td>\n",
       "      <td>REP</td>\n",
       "      <td>HARDING, MARI</td>\n",
       "      <td>AZ</td>\n",
       "      <td>NaN</td>\n",
       "      <td>NaN</td>\n",
       "      <td>1400</td>\n",
       "      <td>8152020</td>\n",
       "    </tr>\n",
       "    <tr>\n",
       "      <th>8</th>\n",
       "      <td>WOOD, DANIEL</td>\n",
       "      <td>REP</td>\n",
       "      <td>HEDGER, CYNTHIA</td>\n",
       "      <td>TX</td>\n",
       "      <td>NaN</td>\n",
       "      <td>NaN</td>\n",
       "      <td>200</td>\n",
       "      <td>7312020</td>\n",
       "    </tr>\n",
       "    <tr>\n",
       "      <th>9</th>\n",
       "      <td>HUANG, PEGGY</td>\n",
       "      <td>REP</td>\n",
       "      <td>HUANG - PERSONAL FUNDS, PEGGY</td>\n",
       "      <td>CA</td>\n",
       "      <td>OFFICE OF THE ATTORNEY GENERAL</td>\n",
       "      <td>DEPUTY ATTORNEY GENERAL</td>\n",
       "      <td>2600</td>\n",
       "      <td>7252020</td>\n",
       "    </tr>\n",
       "  </tbody>\n",
       "</table>\n",
       "</div>"
      ],
      "text/plain": [
       "              CAND_NAME CAND_PTY_AFFILIATION                           NAME  \\\n",
       "0  MORGAN, JOSEPH DAVID                  REP             MARTIN, WILLIAM II   \n",
       "1  MORGAN, JOSEPH DAVID                  REP             RODRIGUEZ, GERARDO   \n",
       "2  MORGAN, JOSEPH DAVID                  REP             RODRIGUEZ, GERARDO   \n",
       "3          WOOD, DANIEL                  REP               HOPKINS, RICHARD   \n",
       "4          WOOD, DANIEL                  REP               PENDLETON, DIANE   \n",
       "5          WOOD, DANIEL                  REP               PREVATT, WILLIAM   \n",
       "6          WOOD, DANIEL                  REP                  HARDING, DOUG   \n",
       "7          WOOD, DANIEL                  REP                  HARDING, MARI   \n",
       "8          WOOD, DANIEL                  REP                HEDGER, CYNTHIA   \n",
       "9          HUANG, PEGGY                  REP  HUANG - PERSONAL FUNDS, PEGGY   \n",
       "\n",
       "  STATE                        EMPLOYER               OCCUPATION  \\\n",
       "0    AZ                         RETIRED                  RETIRED   \n",
       "1    AZ                     VA HOSPITAL                 LAB TECH   \n",
       "2    AZ                     VA HOSPITAL                 LAB TECH   \n",
       "3    AZ                  POWERS-LEAVITT          INSURANCE AGENT   \n",
       "4    AZ                      UNEMPLOYED                      NaN   \n",
       "5    AZ                   SELF-EMPLOYED                      DVM   \n",
       "6    AZ                       MICROSURE       OPERATIONS MANAGER   \n",
       "7    AZ                             NaN                      NaN   \n",
       "8    TX                             NaN                      NaN   \n",
       "9    CA  OFFICE OF THE ATTORNEY GENERAL  DEPUTY ATTORNEY GENERAL   \n",
       "\n",
       "   TRANSACTION_AMT  TRANSACTION_DT  \n",
       "0              100         7242020  \n",
       "1               40         7242020  \n",
       "2               40         7312020  \n",
       "3              300         8102020  \n",
       "4              500         8072020  \n",
       "5              500         7312020  \n",
       "6             2800         8102020  \n",
       "7             1400         8152020  \n",
       "8              200         7312020  \n",
       "9             2600         7252020  "
      ]
     },
     "execution_count": 6,
     "metadata": {},
     "output_type": "execute_result"
    }
   ],
   "source": [
    "c_itcont.head(10)"
   ]
  },
  {
   "cell_type": "code",
   "execution_count": 13,
   "metadata": {
    "scrolled": true
   },
   "outputs": [
    {
     "name": "stdout",
     "output_type": "stream",
     "text": [
      "<class 'pandas.core.frame.DataFrame'>\n",
      "Int64Index: 756205 entries, 0 to 756204\n",
      "Data columns (total 8 columns):\n",
      " #   Column                Non-Null Count   Dtype \n",
      "---  ------                --------------   ----- \n",
      " 0   CAND_NAME             756205 non-null  object\n",
      " 1   CAND_PTY_AFFILIATION  756205 non-null  object\n",
      " 2   NAME                  756205 non-null  object\n",
      " 3   STATE                 756205 non-null  object\n",
      " 4   EMPLOYER              756205 non-null  object\n",
      " 5   OCCUPATION            756205 non-null  object\n",
      " 6   TRANSACTION_AMT       756205 non-null  int64 \n",
      " 7   TRANSACTION_DT        756205 non-null  int64 \n",
      "dtypes: int64(2), object(6)\n",
      "memory usage: 51.9+ MB\n"
     ]
    }
   ],
   "source": [
    "c_itcont.shape\n",
    "c_itcont.info()"
   ]
  },
  {
   "cell_type": "code",
   "execution_count": 11,
   "metadata": {},
   "outputs": [],
   "source": [
    "c_itcont['STATE'].fillna('NOT PROVIDED',inplace=True)\n",
    "c_itcont['EMPLOYER'].fillna('NOT PROVIDED',inplace=True)\n",
    "c_itcont['OCCUPATION'].fillna('NOT PROVIDED',inplace=True)"
   ]
  },
  {
   "cell_type": "code",
   "execution_count": 14,
   "metadata": {},
   "outputs": [],
   "source": [
    "c_itcont['TRANSACTION_DT'] = c_itcont['TRANSACTION_DT'] .astype(str)\n",
    "# 将日期格式改为年月日  7242020\t\n",
    "c_itcont['TRANSACTION_DT'] = [i[3:7]+i[0:3] for i in c_itcont['TRANSACTION_DT'] ]"
   ]
  },
  {
   "cell_type": "code",
   "execution_count": 16,
   "metadata": {},
   "outputs": [
    {
     "name": "stdout",
     "output_type": "stream",
     "text": [
      "<class 'pandas.core.frame.DataFrame'>\n",
      "Int64Index: 756205 entries, 0 to 756204\n",
      "Data columns (total 8 columns):\n",
      " #   Column                Non-Null Count   Dtype \n",
      "---  ------                --------------   ----- \n",
      " 0   CAND_NAME             756205 non-null  object\n",
      " 1   CAND_PTY_AFFILIATION  756205 non-null  object\n",
      " 2   NAME                  756205 non-null  object\n",
      " 3   STATE                 756205 non-null  object\n",
      " 4   EMPLOYER              756205 non-null  object\n",
      " 5   OCCUPATION            756205 non-null  object\n",
      " 6   TRANSACTION_AMT       756205 non-null  int64 \n",
      " 7   TRANSACTION_DT        756205 non-null  object\n",
      "dtypes: int64(1), object(7)\n",
      "memory usage: 51.9+ MB\n"
     ]
    }
   ],
   "source": [
    "c.shape\n",
    "c_itcont.info()"
   ]
  },
  {
   "cell_type": "code",
   "execution_count": 17,
   "metadata": {
    "scrolled": false
   },
   "outputs": [
    {
     "data": {
      "text/html": [
       "<div>\n",
       "<style scoped>\n",
       "    .dataframe tbody tr th:only-of-type {\n",
       "        vertical-align: middle;\n",
       "    }\n",
       "\n",
       "    .dataframe tbody tr th {\n",
       "        vertical-align: top;\n",
       "    }\n",
       "\n",
       "    .dataframe thead th {\n",
       "        text-align: right;\n",
       "    }\n",
       "</style>\n",
       "<table border=\"1\" class=\"dataframe\">\n",
       "  <thead>\n",
       "    <tr style=\"text-align: right;\">\n",
       "      <th></th>\n",
       "      <th>CAND_NAME</th>\n",
       "      <th>CAND_PTY_AFFILIATION</th>\n",
       "      <th>NAME</th>\n",
       "      <th>STATE</th>\n",
       "      <th>EMPLOYER</th>\n",
       "      <th>OCCUPATION</th>\n",
       "      <th>TRANSACTION_AMT</th>\n",
       "      <th>TRANSACTION_DT</th>\n",
       "    </tr>\n",
       "  </thead>\n",
       "  <tbody>\n",
       "    <tr>\n",
       "      <th>0</th>\n",
       "      <td>MORGAN, JOSEPH DAVID</td>\n",
       "      <td>REP</td>\n",
       "      <td>MARTIN, WILLIAM II</td>\n",
       "      <td>AZ</td>\n",
       "      <td>RETIRED</td>\n",
       "      <td>RETIRED</td>\n",
       "      <td>100</td>\n",
       "      <td>2020724</td>\n",
       "    </tr>\n",
       "    <tr>\n",
       "      <th>1</th>\n",
       "      <td>MORGAN, JOSEPH DAVID</td>\n",
       "      <td>REP</td>\n",
       "      <td>RODRIGUEZ, GERARDO</td>\n",
       "      <td>AZ</td>\n",
       "      <td>VA HOSPITAL</td>\n",
       "      <td>LAB TECH</td>\n",
       "      <td>40</td>\n",
       "      <td>2020724</td>\n",
       "    </tr>\n",
       "    <tr>\n",
       "      <th>2</th>\n",
       "      <td>MORGAN, JOSEPH DAVID</td>\n",
       "      <td>REP</td>\n",
       "      <td>RODRIGUEZ, GERARDO</td>\n",
       "      <td>AZ</td>\n",
       "      <td>VA HOSPITAL</td>\n",
       "      <td>LAB TECH</td>\n",
       "      <td>40</td>\n",
       "      <td>2020731</td>\n",
       "    </tr>\n",
       "  </tbody>\n",
       "</table>\n",
       "</div>"
      ],
      "text/plain": [
       "              CAND_NAME CAND_PTY_AFFILIATION                NAME STATE  \\\n",
       "0  MORGAN, JOSEPH DAVID                  REP  MARTIN, WILLIAM II    AZ   \n",
       "1  MORGAN, JOSEPH DAVID                  REP  RODRIGUEZ, GERARDO    AZ   \n",
       "2  MORGAN, JOSEPH DAVID                  REP  RODRIGUEZ, GERARDO    AZ   \n",
       "\n",
       "      EMPLOYER OCCUPATION  TRANSACTION_AMT TRANSACTION_DT  \n",
       "0      RETIRED    RETIRED              100        2020724  \n",
       "1  VA HOSPITAL   LAB TECH               40        2020724  \n",
       "2  VA HOSPITAL   LAB TECH               40        2020731  "
      ]
     },
     "execution_count": 17,
     "metadata": {},
     "output_type": "execute_result"
    }
   ],
   "source": [
    "c_itcont.head(3)"
   ]
  },
  {
   "cell_type": "code",
   "execution_count": 19,
   "metadata": {
    "scrolled": true
   },
   "outputs": [
    {
     "data": {
      "text/html": [
       "<div>\n",
       "<style scoped>\n",
       "    .dataframe tbody tr th:only-of-type {\n",
       "        vertical-align: middle;\n",
       "    }\n",
       "\n",
       "    .dataframe tbody tr th {\n",
       "        vertical-align: top;\n",
       "    }\n",
       "\n",
       "    .dataframe thead th {\n",
       "        text-align: right;\n",
       "    }\n",
       "</style>\n",
       "<table border=\"1\" class=\"dataframe\">\n",
       "  <thead>\n",
       "    <tr style=\"text-align: right;\">\n",
       "      <th></th>\n",
       "      <th>TRANSACTION_AMT</th>\n",
       "    </tr>\n",
       "  </thead>\n",
       "  <tbody>\n",
       "    <tr>\n",
       "      <th>count</th>\n",
       "      <td>7.562050e+05</td>\n",
       "    </tr>\n",
       "    <tr>\n",
       "      <th>mean</th>\n",
       "      <td>1.504307e+02</td>\n",
       "    </tr>\n",
       "    <tr>\n",
       "      <th>std</th>\n",
       "      <td>2.320452e+03</td>\n",
       "    </tr>\n",
       "    <tr>\n",
       "      <th>min</th>\n",
       "      <td>-5.600000e+03</td>\n",
       "    </tr>\n",
       "    <tr>\n",
       "      <th>25%</th>\n",
       "      <td>2.000000e+01</td>\n",
       "    </tr>\n",
       "    <tr>\n",
       "      <th>50%</th>\n",
       "      <td>3.500000e+01</td>\n",
       "    </tr>\n",
       "    <tr>\n",
       "      <th>75%</th>\n",
       "      <td>1.000000e+02</td>\n",
       "    </tr>\n",
       "    <tr>\n",
       "      <th>max</th>\n",
       "      <td>1.500000e+06</td>\n",
       "    </tr>\n",
       "  </tbody>\n",
       "</table>\n",
       "</div>"
      ],
      "text/plain": [
       "       TRANSACTION_AMT\n",
       "count     7.562050e+05\n",
       "mean      1.504307e+02\n",
       "std       2.320452e+03\n",
       "min      -5.600000e+03\n",
       "25%       2.000000e+01\n",
       "50%       3.500000e+01\n",
       "75%       1.000000e+02\n",
       "max       1.500000e+06"
      ]
     },
     "execution_count": 19,
     "metadata": {},
     "output_type": "execute_result"
    }
   ],
   "source": [
    "c_itcont.describe()"
   ]
  },
  {
   "cell_type": "code",
   "execution_count": 24,
   "metadata": {},
   "outputs": [],
   "source": [
    "c_itcont_table=[]\n",
    "for i in c_itcont.values:\n",
    "    c_itcont_table.append(list(i))#将数据处理成列表嵌套列表的形式才能提交给mysql\n",
    "cursor = connection.cursor()\n",
    "sql = \"create table c_itcont(CAND_NAME VARCHAR(50),CAND_PTY_AFFILIATION CHAR(5),NAME VARCHAR(50),STATE CHAR(20),EMPLOYER VARCHAR(50),OCCUPATION VARCHAR(50),TRANSACTION_AMT INT,TRANSACTION_DT VARCHAR(50))\"\n",
    "connection.ping(reconnect=True)#没有这一行可能会出错\n",
    "cursor.execute(sql)\n",
    "sql2 = \"insert into c_itcont values(%s,%s,%s,%s,%s,%s,%s,%s)\"\n",
    "cursor.executemany(sql2,c_itcont_table)\n",
    "connection.commit()#将数据提交到mysql\n",
    "cursor.close()\n",
    "connection.close()\n"
   ]
  },
  {
   "cell_type": "code",
   "execution_count": 23,
   "metadata": {},
   "outputs": [],
   "source": [
    "sql = \"select CAND_PTY_AFFILIATION,sum(TRANSACTION_AMT) as total_AMT from c_itcont group by CAND_PTY_AFFILIATION \\\n",
    "order by sum(TRANSACTION_AMT) desc limit 10 \"\n"
   ]
  },
  {
   "cell_type": "code",
   "execution_count": 3,
   "metadata": {},
   "outputs": [],
   "source": [
    "a=pd.read_csv(r'C:\\Users\\yukino\\Desktop\\query1.csv')"
   ]
  },
  {
   "cell_type": "code",
   "execution_count": 13,
   "metadata": {},
   "outputs": [],
   "source": [
    "dataset=[0]\n",
    "path=r'C:\\Users\\yukino\\Desktop\\query'\n",
    "for i in range(1,7):\n",
    "    dataset.append(pd.read_csv(path+str(i)+'.csv'))"
   ]
  },
  {
   "cell_type": "code",
   "execution_count": 14,
   "metadata": {},
   "outputs": [],
   "source": [
    "import matplotlib.pyplot as plt"
   ]
  },
  {
   "cell_type": "code",
   "execution_count": 19,
   "metadata": {},
   "outputs": [
    {
     "data": {
      "text/html": [
       "<div>\n",
       "<style scoped>\n",
       "    .dataframe tbody tr th:only-of-type {\n",
       "        vertical-align: middle;\n",
       "    }\n",
       "\n",
       "    .dataframe tbody tr th {\n",
       "        vertical-align: top;\n",
       "    }\n",
       "\n",
       "    .dataframe thead th {\n",
       "        text-align: right;\n",
       "    }\n",
       "</style>\n",
       "<table border=\"1\" class=\"dataframe\">\n",
       "  <thead>\n",
       "    <tr style=\"text-align: right;\">\n",
       "      <th></th>\n",
       "      <th>STATE</th>\n",
       "      <th>total_AMT</th>\n",
       "    </tr>\n",
       "  </thead>\n",
       "  <tbody>\n",
       "    <tr>\n",
       "      <th>0</th>\n",
       "      <td>CA</td>\n",
       "      <td>19999115</td>\n",
       "    </tr>\n",
       "    <tr>\n",
       "      <th>1</th>\n",
       "      <td>NY</td>\n",
       "      <td>11468537</td>\n",
       "    </tr>\n",
       "    <tr>\n",
       "      <th>2</th>\n",
       "      <td>FL</td>\n",
       "      <td>8128789</td>\n",
       "    </tr>\n",
       "    <tr>\n",
       "      <th>3</th>\n",
       "      <td>TX</td>\n",
       "      <td>8101871</td>\n",
       "    </tr>\n",
       "    <tr>\n",
       "      <th>4</th>\n",
       "      <td>MA</td>\n",
       "      <td>5187957</td>\n",
       "    </tr>\n",
       "  </tbody>\n",
       "</table>\n",
       "</div>"
      ],
      "text/plain": [
       "  STATE  total_AMT\n",
       "0    CA   19999115\n",
       "1    NY   11468537\n",
       "2    FL    8128789\n",
       "3    TX    8101871\n",
       "4    MA    5187957"
      ]
     },
     "execution_count": 19,
     "metadata": {},
     "output_type": "execute_result"
    }
   ],
   "source": [
    "dataset[5]"
   ]
  },
  {
   "cell_type": "code",
   "execution_count": 18,
   "metadata": {},
   "outputs": [
    {
     "data": {
      "text/plain": [
       "0    CA\n",
       "1    NY\n",
       "2    FL\n",
       "3    TX\n",
       "4    MA\n",
       "Name: STATE, dtype: object"
      ]
     },
     "execution_count": 18,
     "metadata": {},
     "output_type": "execute_result"
    }
   ],
   "source": [
    "dataset[5]['STATE']"
   ]
  },
  {
   "cell_type": "code",
   "execution_count": 36,
   "metadata": {},
   "outputs": [
    {
     "data": {
      "text/plain": [
       "Text(0.5, 1.0, 'total contributions per state ')"
      ]
     },
     "execution_count": 36,
     "metadata": {},
     "output_type": "execute_result"
    },
    {
     "data": {
      "image/png": "[encoded data removed]",
      "text/plain": [
       "<Figure size 432x288 with 1 Axes>"
      ]
     },
     "metadata": {
      "needs_background": "light"
     },
     "output_type": "display_data"
    }
   ],
   "source": [
    "plt.bar(dataset[5]['STATE'],dataset[5]['total_AMT'])\n",
    "plt.xlabel('STATE')\n",
    "plt.ylabel('total_AMT')\n",
    "plt.title(\"total contributions per state \")"
   ]
  },
  {
   "cell_type": "code",
   "execution_count": 38,
   "metadata": {},
   "outputs": [
    {
     "data": {
      "text/plain": [
       "Text(0.5, 1.0, 'the total number of donations per state ')"
      ]
     },
     "execution_count": 38,
     "metadata": {},
     "output_type": "execute_result"
    },
    {
     "data": {
      "image/png": "[encoded data removed]",
      "text/plain": [
       "<Figure size 432x288 with 1 Axes>"
      ]
     },
     "metadata": {
      "needs_background": "light"
     },
     "output_type": "display_data"
    }
   ],
   "source": [
    "plt.bar(dataset[6]['STATE'],dataset[6]['number'])\n",
    "plt.xlabel('STATE')\n",
    "plt.ylabel('amount')\n",
    "plt.title(\"the total number of donations per state\")"
   ]
  },
  {
   "cell_type": "code",
   "execution_count": 42,
   "metadata": {},
   "outputs": [
    {
     "data": {
      "text/html": [
       "<div>\n",
       "<style scoped>\n",
       "    .dataframe tbody tr th:only-of-type {\n",
       "        vertical-align: middle;\n",
       "    }\n",
       "\n",
       "    .dataframe tbody tr th {\n",
       "        vertical-align: top;\n",
       "    }\n",
       "\n",
       "    .dataframe thead th {\n",
       "        text-align: right;\n",
       "    }\n",
       "</style>\n",
       "<table border=\"1\" class=\"dataframe\">\n",
       "  <thead>\n",
       "    <tr style=\"text-align: right;\">\n",
       "      <th></th>\n",
       "      <th>CAND_NAME</th>\n",
       "      <th>total_AMT</th>\n",
       "    </tr>\n",
       "  </thead>\n",
       "  <tbody>\n",
       "    <tr>\n",
       "      <th>0</th>\n",
       "      <td>BIDEN, JOSEPH R JR</td>\n",
       "      <td>68111142</td>\n",
       "    </tr>\n",
       "    <tr>\n",
       "      <th>1</th>\n",
       "      <td>TRUMP, DONALD J.</td>\n",
       "      <td>16594982</td>\n",
       "    </tr>\n",
       "    <tr>\n",
       "      <th>2</th>\n",
       "      <td>SULLIVAN, DAN</td>\n",
       "      <td>9912465</td>\n",
       "    </tr>\n",
       "    <tr>\n",
       "      <th>3</th>\n",
       "      <td>JACOBS, CHRISTOPHER L.</td>\n",
       "      <td>6939209</td>\n",
       "    </tr>\n",
       "    <tr>\n",
       "      <th>4</th>\n",
       "      <td>BLOOMBERG, MICHAEL R.</td>\n",
       "      <td>3451916</td>\n",
       "    </tr>\n",
       "    <tr>\n",
       "      <th>5</th>\n",
       "      <td>MARKEY, EDWARD J. SEN.</td>\n",
       "      <td>606832</td>\n",
       "    </tr>\n",
       "    <tr>\n",
       "      <th>6</th>\n",
       "      <td>SHAHEEN, JEANNE</td>\n",
       "      <td>505446</td>\n",
       "    </tr>\n",
       "    <tr>\n",
       "      <th>7</th>\n",
       "      <td>KENNEDY, JOSEPH P III</td>\n",
       "      <td>467738</td>\n",
       "    </tr>\n",
       "    <tr>\n",
       "      <th>8</th>\n",
       "      <td>CORNYN, JOHN SEN</td>\n",
       "      <td>345959</td>\n",
       "    </tr>\n",
       "    <tr>\n",
       "      <th>9</th>\n",
       "      <td>FIGLESTHALER, WILLIAM MATTHEW MD</td>\n",
       "      <td>258221</td>\n",
       "    </tr>\n",
       "  </tbody>\n",
       "</table>\n",
       "</div>"
      ],
      "text/plain": [
       "                          CAND_NAME  total_AMT\n",
       "0                BIDEN, JOSEPH R JR   68111142\n",
       "1                  TRUMP, DONALD J.   16594982\n",
       "2                     SULLIVAN, DAN    9912465\n",
       "3            JACOBS, CHRISTOPHER L.    6939209\n",
       "4             BLOOMBERG, MICHAEL R.    3451916\n",
       "5            MARKEY, EDWARD J. SEN.     606832\n",
       "6                   SHAHEEN, JEANNE     505446\n",
       "7             KENNEDY, JOSEPH P III     467738\n",
       "8                  CORNYN, JOHN SEN     345959\n",
       "9  FIGLESTHALER, WILLIAM MATTHEW MD     258221"
      ]
     },
     "execution_count": 42,
     "metadata": {},
     "output_type": "execute_result"
    }
   ],
   "source": [
    "dataset[2]"
   ]
  },
  {
   "cell_type": "code",
   "execution_count": 56,
   "metadata": {},
   "outputs": [
    {
     "data": {
      "image/png": "[encoded data removed]",
      "text/plain": [
       "<Figure size 432x288 with 1 Axes>"
      ]
     },
     "metadata": {},
     "output_type": "display_data"
    }
   ],
   "source": [
    "labels = dataset[2][\"CAND_NAME\"].str.split(',').str.get(0)[:5]\n",
    "sizes = dataset[2][\"total_AMT\"][:5]\n",
    "\n",
    "plt.pie(sizes, labels=labels, autopct='%1.1f%%',\n",
    "        shadow=True, startangle=90)\n",
    "plt.axis('equal')  # Equal aspect ratio ensures that pie is drawn as a circle.\n",
    "plt.savefig(r'C:\\Users\\yukino\\Desktop\\graph3.png')\n",
    "plt.show()"
   ]
  },
  {
   "cell_type": "code",
   "execution_count": null,
   "metadata": {},
   "outputs": [],
   "source": []
  }
 ],
 "metadata": {
  "kernelspec": {
   "display_name": "Python 3",
   "language": "python",
   "name": "python3"
  },
  "language_info": {
   "codemirror_mode": {
    "name": "ipython",
    "version": 3
   },
   "file_extension": ".py",
   "mimetype": "text/x-python",
   "name": "python",
   "nbconvert_exporter": "python",
   "pygments_lexer": "ipython3",
   "version": "3.8.3"
  }
 },
 "nbformat": 4,
 "nbformat_minor": 4
}
