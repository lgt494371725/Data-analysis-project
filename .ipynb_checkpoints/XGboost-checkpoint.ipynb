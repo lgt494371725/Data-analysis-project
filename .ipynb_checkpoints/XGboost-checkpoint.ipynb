{
 "cells": [
  {
   "cell_type": "markdown",
   "metadata": {},
   "source": [
    "核心是基于梯度提升树（Gradient Boosting Decision Tree）的集成算法，既可以作为回归也可以作为分类\n",
    "之前说的，集成算法主要有两种\n",
    "+ 装袋法代表：随机森林，将一系列弱评估器组合在一起使用\n",
    "+ 提升法：代表xgboost，逐一构建评估器，一次一次迭代\n",
    "在xgboost中，所有树都是二叉树，每棵树都属基于前一颗树来建立\n",
    "+ 缺点：执行很慢\n",
    "https://zhuanlan.zhihu.com/p/83901304\n",
    "+ GBDT是不用正则项的"
   ]
  },
  {
   "cell_type": "code",
   "execution_count": null,
   "metadata": {},
   "outputs": [],
   "source": [
    "from xgboost import XGBClassifier as XGBC\n",
    "# 参数除了scale_pos_weight:控制正负样本比例，默认1，表示为负样本除以正样本比例,当样本不平衡时可以进行调整\n",
    "# 其他都一样"
   ]
  },
  {
   "cell_type": "code",
   "execution_count": 3,
   "metadata": {},
   "outputs": [],
   "source": [
    "from xgboost import XGBRegressor as XGBR\n",
    "from sklearn.ensemble import RandomForestRegressor as RFR\n",
    "from sklearn.datasets import load_boston\n",
    "from sklearn.model_selection import KFold,cross_val_score as CVS,train_test_split as TTS\n",
    "import pandas as pd\n",
    "import numpy as np\n",
    "import matplotlib.pyplot as plt\n",
    "from time import time\n",
    "import datetime\n",
    "%matplotlib inline"
   ]
  },
  {
   "cell_type": "code",
   "execution_count": null,
   "metadata": {},
   "outputs": [],
   "source": [
    "xgb.DMatrix() #读取数据\n",
    "param={}  #设置参数，因为参数很多，所以单独写\n",
    "bst=xgb.train(param) # 训练\n",
    "bst.predict() # 预测"
   ]
  },
  {
   "cell_type": "code",
   "execution_count": 4,
   "metadata": {},
   "outputs": [],
   "source": [
    "data=load_boston()"
   ]
  },
  {
   "cell_type": "code",
   "execution_count": 5,
   "metadata": {},
   "outputs": [],
   "source": [
    "X=data.data\n",
    "y=data.target"
   ]
  },
  {
   "cell_type": "code",
   "execution_count": 6,
   "metadata": {},
   "outputs": [],
   "source": [
    "Xtrain,Xtest,Ytrain,Ytest=TTS(X,y,test_size=0.3,random_state=420)"
   ]
  },
  {
   "cell_type": "markdown",
   "metadata": {},
   "source": [
    "其他参数：\n",
    "+ max_depth\n",
    "+ silent:True ,如果为False，则会打印当前训练的过程，方便观察训练到了哪个阶段\n",
    "+ learning_rate:学习率，跟梯度下降法的学习率概念类似，控制迭代速度，默认0.1，取值范围在0-1，一般可以从比较小的开始\n",
    "+ booster：选择哪种弱评估器，默认是梯度提升树gbtree,还有dart:会抛弃一部份树，防止过拟合,gblinear：只用于线性的数据\n",
    "+ subsample参数，取值范围是0-1，默认1，表示不使用子采样，小于1表示使用部分数据进行模型训练，降低过拟合，可以考虑调整\n",
    "+ reg_alpha L1正则项 默认0，可以使矩阵稀疏化\n",
    "+ reg_lambda L2正则项 默认1 ，都是越大，惩罚越重，模型复杂度越低\n",
    "+ gamma,默认0，无上限，越大复杂度越低\n",
    "实际上，如果是为了调整模型复杂度，有限调整参数不会是正则化项，因为有gamma的存在,不过他跟max_depth的作用较为相似，先用了max_depth之后，可能gamma的作用就没有那么大了，一般只选一个调\n",
    "+ colsample_bytree 每次生成树时随机抽样特征的比例，默认1\n",
    "+ colsample_bylevel 每次生成树的一层时随机抽样的比例.默认1\n",
    "+ missing 可以自动处理缺失值，默认是np.nan,当输入矩阵中含有这个，就会进行自动处理\n",
    "也是用于防止过拟合\n",
    "### 一般来说调整步骤\n",
    "1. 网格搜索 learningrate和n_estimators\n",
    "2. 考虑剪枝 max_depth or gamma\n",
    "调整方法：跟之前调参的方式不同，通过曲线观察"
   ]
  },
  {
   "cell_type": "code",
   "execution_count": 8,
   "metadata": {
    "scrolled": true
   },
   "outputs": [
    {
     "data": {
      "text/plain": [
       "array([ 6.6689262, 22.34918  , 31.052807 , 13.911595 ,  9.467966 ,\n",
       "       22.658588 , 14.514282 , 15.092699 , 15.293644 , 12.680115 ,\n",
       "       24.140797 , 35.890083 , 21.573483 , 27.07066  , 19.052658 ,\n",
       "        9.89033  , 23.386076 , 23.588493 , 23.311466 , 22.401644 ,\n",
       "       18.98444  , 15.766946 , 25.8352   , 20.193802 , 19.982517 ,\n",
       "       15.611423 , 22.883228 , 29.838228 , 22.815304 , 16.779037 ,\n",
       "       37.13194  , 20.133305 , 19.67352  , 23.525528 , 22.845137 ,\n",
       "       23.87397  , 15.17887  , 23.45934  , 16.685331 , 31.761686 ,\n",
       "       18.525843 , 22.441063 , 38.48728  , 17.93719  , 15.10122  ,\n",
       "       28.980541 , 46.363487 , 12.842797 ,  9.618281 , 35.40579  ,\n",
       "       25.657566 , 20.605602 , 20.800055 , 49.228447 , 31.355848 ,\n",
       "       29.382515 , 18.911947 , 21.049877 , 16.165182 , 18.098577 ,\n",
       "       14.659002 , 21.720213 , 19.413454 , 28.932102 , 30.573524 ,\n",
       "       19.228426 , 20.531511 , 15.666289 , 23.52929  , 19.30554  ,\n",
       "       28.384985 , 42.83562  , 29.429724 , 23.306015 , 19.741224 ,\n",
       "       24.202463 , 38.735516 , 26.782232 , 22.168324 , 20.67139  ,\n",
       "       19.534992 , 47.360317 , 24.008802 ,  8.184814 , 25.613977 ,\n",
       "       20.691843 , 17.127483 , 21.10027  , 22.279167 ,  7.755469 ,\n",
       "       20.0476   , 15.406112 , 42.38165  , 33.828186 , 22.788246 ,\n",
       "        9.302419 , 10.416187 , 20.033014 ,  8.241165 , 12.816478 ,\n",
       "       30.793974 , 10.078776 , 25.383692 , 21.933594 , 30.53568  ,\n",
       "       42.866497 , 19.598145 ,  8.321976 , 23.194368 , 12.547767 ,\n",
       "       46.838867 , 22.961082 , 20.244467 , 23.170694 , 18.948856 ,\n",
       "       29.682056 , 24.363865 , 19.715958 , 44.975193 , 17.64582  ,\n",
       "       24.3169   , 24.946495 , 18.23235  , 16.922577 , 14.77714  ,\n",
       "       21.757038 , 33.83876  , 10.938419 , 20.035763 , 21.085218 ,\n",
       "       19.331562 , 20.505526 ,  8.285518 , 28.01946  , 29.631227 ,\n",
       "       19.908175 , 18.30325  , 14.204149 , 10.795732 , 18.232307 ,\n",
       "       42.266888 , 17.304502 , 22.974121 , 20.946724 , 30.724297 ,\n",
       "       20.072989 , 12.772859 , 41.472908 , 27.652838 , 22.20476  ,\n",
       "       14.235871 , 25.88964  ], dtype=float32)"
      ]
     },
     "execution_count": 8,
     "metadata": {},
     "output_type": "execute_result"
    }
   ],
   "source": [
    "reg=XGBR(n_estimators=100).fit(Xtrain,Ytrain) # n_estimators与随机森林的基本一致\n",
    "\n",
    "reg.predict(Xtest)"
   ]
  },
  {
   "cell_type": "code",
   "execution_count": 10,
   "metadata": {},
   "outputs": [
    {
     "data": {
      "text/plain": [
       "0.9050988968414799"
      ]
     },
     "execution_count": 10,
     "metadata": {},
     "output_type": "execute_result"
    }
   ],
   "source": [
    "reg.score(Xtest,Ytest)"
   ]
  },
  {
   "cell_type": "code",
   "execution_count": 11,
   "metadata": {},
   "outputs": [
    {
     "data": {
      "text/plain": [
       "array([0.01902167, 0.0042109 , 0.01478317, 0.00553536, 0.02222195,\n",
       "       0.37914094, 0.01679687, 0.04698721, 0.04073574, 0.05491758,\n",
       "       0.0668422 , 0.00869463, 0.32011184], dtype=float32)"
      ]
     },
     "execution_count": 11,
     "metadata": {},
     "output_type": "execute_result"
    }
   ],
   "source": [
    "reg.feature_importances_\n",
    "# 可以基于做个来做特征选择，嵌入法"
   ]
  },
  {
   "cell_type": "markdown",
   "metadata": {},
   "source": [
    "### 这里用改进的学习曲线，原因是：数据集很少，不能只考虑偏差，还要考虑方差，防止在某一部分很精确，但另一部分很不精确的情况"
   ]
  },
  {
   "cell_type": "code",
   "execution_count": 19,
   "metadata": {},
   "outputs": [
    {
     "name": "stdout",
     "output_type": "stream",
     "text": [
      "250 0.05114108153024543\n"
     ]
    },
    {
     "data": {
      "image/png": "[encoded data removed]",
      "text/plain": [
       "<Figure size 432x288 with 1 Axes>"
      ]
     },
     "metadata": {
      "needs_background": "light"
     },
     "output_type": "display_data"
    }
   ],
   "source": [
    "list1=range(50,700,50)\n",
    "rs=[]\n",
    "var=[]\n",
    "ge=[]\n",
    "for i in list1:\n",
    "    reg=XGBR(n_estimators=i,random_state=420)\n",
    "    cvresult=CVS(reg,Xtrain,Ytrain,cv=10)\n",
    "    rs.append(cvresult.mean())\n",
    "    var.append(cvresult.var()) \n",
    "    ge.append((1-cvresult.mean())**2+cvresult.var()) #综合考虑两个标准的指标，称泛化误差，越小越好 \n",
    "print(ge.index(min(ge))*50+50,min(ge))\n",
    "plt.plot(list1,rs)\n",
    "plt.show()\n",
    "# 故选择250"
   ]
  },
  {
   "cell_type": "markdown",
   "metadata": {},
   "source": [
    "### 随机抽样的控制，本来来说，随机抽样可以增加基学习器的多样性是好的，但在本次数据集，我们的数据太少了，模型不稳定,就需要控制随机抽样，同样理由，步长也可以稍微缩短"
   ]
  },
  {
   "cell_type": "code",
   "execution_count": null,
   "metadata": {},
   "outputs": [],
   "source": [
    "np.linespace(0.05,1,20) #赋值给subsample参数，取值范围是0-1，默认1，表示不使用子采样，小于1表示使用部分数据进行模型训练，降低过拟合\n",
    "#观察变化，选出最好的抽样情况\n",
    "#结论是0.77最好，但对精确度没有太大帮助"
   ]
  },
  {
   "cell_type": "code",
   "execution_count": null,
   "metadata": {},
   "outputs": [],
   "source": []
  }
 ],
 "metadata": {
  "kernelspec": {
   "display_name": "Python 3",
   "language": "python",
   "name": "python3"
  },
  "language_info": {
   "codemirror_mode": {
    "name": "ipython",
    "version": 3
   },
   "file_extension": ".py",
   "mimetype": "text/x-python",
   "name": "python",
   "nbconvert_exporter": "python",
   "pygments_lexer": "ipython3",
   "version": "3.8.3"
  }
 },
 "nbformat": 4,
 "nbformat_minor": 4
}
