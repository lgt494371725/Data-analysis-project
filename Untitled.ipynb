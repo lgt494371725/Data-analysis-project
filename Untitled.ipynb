{
 "cells": [
  {
   "cell_type": "markdown",
   "metadata": {},
   "source": [
    "SVC：有两种classification,clusteringm,得说清楚是哪个"
   ]
  },
  {
   "cell_type": "code",
   "execution_count": null,
   "metadata": {},
   "outputs": [],
   "source": [
    "import numpy as np \n",
    "import matplotlib.pyplot as plt\n",
    "import seaborn as sns\n",
    "## 导入逻辑回归模型函数\n",
    "from sklearn.svm  import SVC\n",
    "\n",
    "## 构造数据集\n",
    "x_fearures = np.array([[-1, -2], [-2, -1], [-3, -2], [1, 3], [2, 1], [3, 2]])\n",
    "y_label = np.array([0, 0, 0, 1, 1, 1])"
   ]
  },
  {
   "cell_type": "code",
   "execution_count": null,
   "metadata": {},
   "outputs": [],
   "source": [
    "## 调用SVC模型 （支持向量机分类）\n",
    "svc = SVC(kernel='linear')"
   ]
  },
  {
   "cell_type": "markdown",
   "metadata": {},
   "source": [
    "参数：C：正则化参数，C越小包容性越高，容易欠拟合，C越大，敏感度越高，容易过拟合\n",
    "选择核函数kernel='rbf' 高斯核函数"
   ]
  },
  {
   "cell_type": "code",
   "execution_count": 1,
   "metadata": {},
   "outputs": [
    {
     "name": "stdout",
     "output_type": "stream",
     "text": [
      "the weight of svc: [[0.33364706 0.33270588]]\n",
      "the intercept(w0) of svc: [-0.00031373]\n"
     ]
    },
    {
     "data": {
      "image/png": "[encoded data removed]",
      "text/plain": [
       "<Figure size 432x288 with 1 Axes>"
      ]
     },
     "metadata": {
      "needs_background": "light"
     },
     "output_type": "display_data"
    }
   ],
   "source": [
    "svc = svc.fit(x_fearures, y_label)\n",
    "## 查看其对应模型的w\n",
    "print('the weight of svc:',svc.coef_)\n",
    "## 查看其对应模型的w0\n",
    "print('the intercept(w0) of svc:',svc.intercept_)\n",
    "y_train_pred = svc.predict(x_fearures)\n",
    "# 最佳函数\n",
    "x_range = np.linspace(-3, 3)\n",
    "w = svc.coef_[0]\n",
    "a = -w[0] / w[1]#参数向量和决策边界90度正交\n",
    "y_3 = a*x_range - (svc.intercept_[0]) / w[1]#这个边界线怎么来的？\n",
    "\n",
    "# 可视化决策边界\n",
    "plt.figure()\n",
    "plt.scatter(x_fearures[:,0],x_fearures[:,1], c=y_label, s=50, cmap='viridis')\n",
    "plt.plot(x_range, y_3, '-c')\n",
    "#-c只是一个线的风格\n",
    "plt.show()"
   ]
  },
  {
   "cell_type": "code",
   "execution_count": 2,
   "metadata": {},
   "outputs": [
    {
     "data": {
      "text/plain": [
       "array([ 3.00942951,  2.88663414,  2.76383877,  2.6410434 ,  2.51824803,\n",
       "        2.39545266,  2.27265729,  2.14986192,  2.02706656,  1.90427119,\n",
       "        1.78147582,  1.65868045,  1.53588508,  1.41308971,  1.29029434,\n",
       "        1.16749897,  1.0447036 ,  0.92190823,  0.79911286,  0.67631749,\n",
       "        0.55352212,  0.43072675,  0.30793138,  0.18513601,  0.06234064,\n",
       "       -0.06045473, -0.1832501 , -0.30604547, -0.42884084, -0.55163621,\n",
       "       -0.67443158, -0.79722695, -0.92002232, -1.04281769, -1.16561306,\n",
       "       -1.28840843, -1.4112038 , -1.53399917, -1.65679454, -1.77958991,\n",
       "       -1.90238528, -2.02518065, -2.14797602, -2.27077139, -2.39356676,\n",
       "       -2.51636213, -2.6391575 , -2.76195287, -2.88474824, -3.00754361])"
      ]
     },
     "execution_count": 2,
     "metadata": {},
     "output_type": "execute_result"
    }
   ],
   "source": [
    "y_3"
   ]
  },
  {
   "cell_type": "code",
   "execution_count": 4,
   "metadata": {},
   "outputs": [
    {
     "ename": "ValueError",
     "evalue": "operands could not be broadcast together with shapes (50,) (1,2) ",
     "output_type": "error",
     "traceback": [
      "\u001b[1;31m---------------------------------------------------------------------------\u001b[0m",
      "\u001b[1;31mValueError\u001b[0m                                Traceback (most recent call last)",
      "\u001b[1;32m<ipython-input-4-a02582836f35>\u001b[0m in \u001b[0;36m<module>\u001b[1;34m\u001b[0m\n\u001b[1;32m----> 1\u001b[1;33m \u001b[0mx_range\u001b[0m\u001b[1;33m*\u001b[0m\u001b[0msvc\u001b[0m\u001b[1;33m.\u001b[0m\u001b[0mcoef_\u001b[0m\u001b[1;33m\u001b[0m\u001b[1;33m\u001b[0m\u001b[0m\n\u001b[0m",
      "\u001b[1;31mValueError\u001b[0m: operands could not be broadcast together with shapes (50,) (1,2) "
     ]
    }
   ],
   "source": [
    "x_range*svc.coef_"
   ]
  },
  {
   "cell_type": "code",
   "execution_count": 5,
   "metadata": {},
   "outputs": [
    {
     "data": {
      "text/plain": [
       "array([[0.33364706, 0.33270588]])"
      ]
     },
     "execution_count": 5,
     "metadata": {},
     "output_type": "execute_result"
    }
   ],
   "source": [
    "svc.coef_"
   ]
  },
  {
   "cell_type": "code",
   "execution_count": 6,
   "metadata": {},
   "outputs": [
    {
     "data": {
      "text/plain": [
       "array([-3.        , -2.87755102, -2.75510204, -2.63265306, -2.51020408,\n",
       "       -2.3877551 , -2.26530612, -2.14285714, -2.02040816, -1.89795918,\n",
       "       -1.7755102 , -1.65306122, -1.53061224, -1.40816327, -1.28571429,\n",
       "       -1.16326531, -1.04081633, -0.91836735, -0.79591837, -0.67346939,\n",
       "       -0.55102041, -0.42857143, -0.30612245, -0.18367347, -0.06122449,\n",
       "        0.06122449,  0.18367347,  0.30612245,  0.42857143,  0.55102041,\n",
       "        0.67346939,  0.79591837,  0.91836735,  1.04081633,  1.16326531,\n",
       "        1.28571429,  1.40816327,  1.53061224,  1.65306122,  1.7755102 ,\n",
       "        1.89795918,  2.02040816,  2.14285714,  2.26530612,  2.3877551 ,\n",
       "        2.51020408,  2.63265306,  2.75510204,  2.87755102,  3.        ])"
      ]
     },
     "execution_count": 6,
     "metadata": {},
     "output_type": "execute_result"
    }
   ],
   "source": [
    "x_range"
   ]
  },
  {
   "cell_type": "code",
   "execution_count": null,
   "metadata": {},
   "outputs": [],
   "source": []
  }
 ],
 "metadata": {
  "kernelspec": {
   "display_name": "Python 3",
   "language": "python",
   "name": "python3"
  },
  "language_info": {
   "codemirror_mode": {
    "name": "ipython",
    "version": 3
   },
   "file_extension": ".py",
   "mimetype": "text/x-python",
   "name": "python",
   "nbconvert_exporter": "python",
   "pygments_lexer": "ipython3",
   "version": "3.8.3"
  }
 },
 "nbformat": 4,
 "nbformat_minor": 4
}
